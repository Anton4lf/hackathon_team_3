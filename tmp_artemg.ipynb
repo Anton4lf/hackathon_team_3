{
 "cells": [
  {
   "cell_type": "code",
   "execution_count": 1,
   "metadata": {},
   "outputs": [],
   "source": [
    "import seaborn as sns\n",
    "import matplotlib.pyplot as plt\n",
    "import numpy as np"
   ]
  },
  {
   "cell_type": "code",
   "execution_count": 2,
   "metadata": {},
   "outputs": [
    {
     "data": {
      "text/html": [
       "<div>\n",
       "<style scoped>\n",
       "    .dataframe tbody tr th:only-of-type {\n",
       "        vertical-align: middle;\n",
       "    }\n",
       "\n",
       "    .dataframe tbody tr th {\n",
       "        vertical-align: top;\n",
       "    }\n",
       "\n",
       "    .dataframe thead th {\n",
       "        text-align: right;\n",
       "    }\n",
       "</style>\n",
       "<table border=\"1\" class=\"dataframe\">\n",
       "  <thead>\n",
       "    <tr style=\"text-align: right;\">\n",
       "      <th></th>\n",
       "      <th>Unnamed: 0.1</th>\n",
       "      <th>Unnamed: 0</th>\n",
       "      <th>Bacteria</th>\n",
       "      <th>NP_Synthesis</th>\n",
       "      <th>Drug</th>\n",
       "      <th>Drug_class_drug_bank</th>\n",
       "      <th>Drug_dose</th>\n",
       "      <th>NP_concentration</th>\n",
       "      <th>NP size_min</th>\n",
       "      <th>NP size_max</th>\n",
       "      <th>NP size_avg</th>\n",
       "      <th>shape</th>\n",
       "      <th>method</th>\n",
       "      <th>ZOI_drug</th>\n",
       "      <th>ZOI_NP</th>\n",
       "      <th>ZOI_drug_NP</th>\n",
       "      <th>fold_increase_in_antibacterial_activity (%)</th>\n",
       "      <th>MDR_check</th>\n",
       "    </tr>\n",
       "  </thead>\n",
       "  <tbody>\n",
       "    <tr>\n",
       "      <th>0</th>\n",
       "      <td>0</td>\n",
       "      <td>86</td>\n",
       "      <td>Escherichia coli</td>\n",
       "      <td>chem_synthesis_reduction_by_D_maltose</td>\n",
       "      <td>Amoxicillin</td>\n",
       "      <td>Lactams</td>\n",
       "      <td>NaN</td>\n",
       "      <td>NaN</td>\n",
       "      <td>4.0</td>\n",
       "      <td>10.0</td>\n",
       "      <td>8.00</td>\n",
       "      <td>spherical</td>\n",
       "      <td>MIC</td>\n",
       "      <td>32+</td>\n",
       "      <td>6.3</td>\n",
       "      <td>32+</td>\n",
       "      <td>NaN</td>\n",
       "      <td>1</td>\n",
       "    </tr>\n",
       "    <tr>\n",
       "      <th>1</th>\n",
       "      <td>1</td>\n",
       "      <td>87</td>\n",
       "      <td>Escherichia coli</td>\n",
       "      <td>chem_synthesis_reduction_by_D_maltose</td>\n",
       "      <td>Penicillin</td>\n",
       "      <td>Carboxylic acids and derivatives</td>\n",
       "      <td>NaN</td>\n",
       "      <td>NaN</td>\n",
       "      <td>4.0</td>\n",
       "      <td>10.0</td>\n",
       "      <td>8.00</td>\n",
       "      <td>spherical</td>\n",
       "      <td>MIC</td>\n",
       "      <td>32+</td>\n",
       "      <td>6.3</td>\n",
       "      <td>32+</td>\n",
       "      <td>NaN</td>\n",
       "      <td>1</td>\n",
       "    </tr>\n",
       "    <tr>\n",
       "      <th>2</th>\n",
       "      <td>2</td>\n",
       "      <td>679</td>\n",
       "      <td>Escherichia coli</td>\n",
       "      <td>chem_synthesis_reduction_by_D_maltose</td>\n",
       "      <td>Amoxicillin</td>\n",
       "      <td>Lactams</td>\n",
       "      <td>NaN</td>\n",
       "      <td>NaN</td>\n",
       "      <td>15.0</td>\n",
       "      <td>30.0</td>\n",
       "      <td>28.00</td>\n",
       "      <td>spherical</td>\n",
       "      <td>MIC</td>\n",
       "      <td>32+</td>\n",
       "      <td>25</td>\n",
       "      <td>32+</td>\n",
       "      <td>NaN</td>\n",
       "      <td>1</td>\n",
       "    </tr>\n",
       "    <tr>\n",
       "      <th>3</th>\n",
       "      <td>3</td>\n",
       "      <td>680</td>\n",
       "      <td>Escherichia coli</td>\n",
       "      <td>chem_synthesis_reduction_by_D_maltose</td>\n",
       "      <td>Penicillin</td>\n",
       "      <td>Carboxylic acids and derivatives</td>\n",
       "      <td>NaN</td>\n",
       "      <td>NaN</td>\n",
       "      <td>15.0</td>\n",
       "      <td>30.0</td>\n",
       "      <td>28.00</td>\n",
       "      <td>spherical</td>\n",
       "      <td>MIC</td>\n",
       "      <td>32+</td>\n",
       "      <td>25</td>\n",
       "      <td>32+</td>\n",
       "      <td>NaN</td>\n",
       "      <td>1</td>\n",
       "    </tr>\n",
       "    <tr>\n",
       "      <th>4</th>\n",
       "      <td>4</td>\n",
       "      <td>638</td>\n",
       "      <td>Micrococcus luteus</td>\n",
       "      <td>green_synthesis from fungus  Aspergillus flavus</td>\n",
       "      <td>Vancomycin</td>\n",
       "      <td>Carboxylic acids and derivatives</td>\n",
       "      <td>30.0</td>\n",
       "      <td>100</td>\n",
       "      <td>5.0</td>\n",
       "      <td>30.0</td>\n",
       "      <td>21.00</td>\n",
       "      <td>spherical</td>\n",
       "      <td>disc_diffusion</td>\n",
       "      <td>0</td>\n",
       "      <td>14</td>\n",
       "      <td>17+2</td>\n",
       "      <td>7.02</td>\n",
       "      <td>1</td>\n",
       "    </tr>\n",
       "    <tr>\n",
       "      <th>...</th>\n",
       "      <td>...</td>\n",
       "      <td>...</td>\n",
       "      <td>...</td>\n",
       "      <td>...</td>\n",
       "      <td>...</td>\n",
       "      <td>...</td>\n",
       "      <td>...</td>\n",
       "      <td>...</td>\n",
       "      <td>...</td>\n",
       "      <td>...</td>\n",
       "      <td>...</td>\n",
       "      <td>...</td>\n",
       "      <td>...</td>\n",
       "      <td>...</td>\n",
       "      <td>...</td>\n",
       "      <td>...</td>\n",
       "      <td>...</td>\n",
       "      <td>...</td>\n",
       "    </tr>\n",
       "    <tr>\n",
       "      <th>878</th>\n",
       "      <td>878</td>\n",
       "      <td>836</td>\n",
       "      <td>Staphylococcus aureus</td>\n",
       "      <td>green_synthesis using C. zylinicum aqueous ext...</td>\n",
       "      <td>NaN</td>\n",
       "      <td>NaN</td>\n",
       "      <td>NaN</td>\n",
       "      <td>NaN</td>\n",
       "      <td>10.0</td>\n",
       "      <td>78.9</td>\n",
       "      <td>44.45</td>\n",
       "      <td>spherical</td>\n",
       "      <td>MIC</td>\n",
       "      <td>NaN</td>\n",
       "      <td>4.5</td>\n",
       "      <td>NaN</td>\n",
       "      <td>NaN</td>\n",
       "      <td>0</td>\n",
       "    </tr>\n",
       "    <tr>\n",
       "      <th>879</th>\n",
       "      <td>879</td>\n",
       "      <td>837</td>\n",
       "      <td>Acinetobacter baumanii</td>\n",
       "      <td>green_synthesis using C. zylinicum aqueous ext...</td>\n",
       "      <td>NaN</td>\n",
       "      <td>NaN</td>\n",
       "      <td>NaN</td>\n",
       "      <td>NaN</td>\n",
       "      <td>10.0</td>\n",
       "      <td>78.9</td>\n",
       "      <td>44.45</td>\n",
       "      <td>spherical</td>\n",
       "      <td>MIC</td>\n",
       "      <td>NaN</td>\n",
       "      <td>5.7</td>\n",
       "      <td>NaN</td>\n",
       "      <td>NaN</td>\n",
       "      <td>0</td>\n",
       "    </tr>\n",
       "    <tr>\n",
       "      <th>880</th>\n",
       "      <td>880</td>\n",
       "      <td>880</td>\n",
       "      <td>Enterococcus faecalis</td>\n",
       "      <td>green_synthesis using extract of Klebsiella pn...</td>\n",
       "      <td>NaN</td>\n",
       "      <td>NaN</td>\n",
       "      <td>NaN</td>\n",
       "      <td>10</td>\n",
       "      <td>20.0</td>\n",
       "      <td>20.0</td>\n",
       "      <td>20.00</td>\n",
       "      <td>spherical</td>\n",
       "      <td>disc_diffusion</td>\n",
       "      <td>NaN</td>\n",
       "      <td>10</td>\n",
       "      <td>NaN</td>\n",
       "      <td>NaN</td>\n",
       "      <td>0</td>\n",
       "    </tr>\n",
       "    <tr>\n",
       "      <th>881</th>\n",
       "      <td>881</td>\n",
       "      <td>881</td>\n",
       "      <td>Enterococcus faecalis</td>\n",
       "      <td>green_synthesis using extract of Klebsiella pn...</td>\n",
       "      <td>NaN</td>\n",
       "      <td>NaN</td>\n",
       "      <td>NaN</td>\n",
       "      <td>20</td>\n",
       "      <td>20.0</td>\n",
       "      <td>20.0</td>\n",
       "      <td>20.00</td>\n",
       "      <td>spherical</td>\n",
       "      <td>disc_diffusion</td>\n",
       "      <td>NaN</td>\n",
       "      <td>18</td>\n",
       "      <td>NaN</td>\n",
       "      <td>NaN</td>\n",
       "      <td>0</td>\n",
       "    </tr>\n",
       "    <tr>\n",
       "      <th>882</th>\n",
       "      <td>882</td>\n",
       "      <td>882</td>\n",
       "      <td>Enterococcus faecalis</td>\n",
       "      <td>green_synthesis using extract of Klebsiella pn...</td>\n",
       "      <td>NaN</td>\n",
       "      <td>NaN</td>\n",
       "      <td>NaN</td>\n",
       "      <td>30</td>\n",
       "      <td>20.0</td>\n",
       "      <td>20.0</td>\n",
       "      <td>20.00</td>\n",
       "      <td>spherical</td>\n",
       "      <td>disc_diffusion</td>\n",
       "      <td>NaN</td>\n",
       "      <td>23</td>\n",
       "      <td>NaN</td>\n",
       "      <td>NaN</td>\n",
       "      <td>0</td>\n",
       "    </tr>\n",
       "  </tbody>\n",
       "</table>\n",
       "<p>883 rows × 18 columns</p>\n",
       "</div>"
      ],
      "text/plain": [
       "     Unnamed: 0.1  Unnamed: 0                Bacteria  \\\n",
       "0               0          86        Escherichia coli   \n",
       "1               1          87        Escherichia coli   \n",
       "2               2         679        Escherichia coli   \n",
       "3               3         680        Escherichia coli   \n",
       "4               4         638      Micrococcus luteus   \n",
       "..            ...         ...                     ...   \n",
       "878           878         836   Staphylococcus aureus   \n",
       "879           879         837  Acinetobacter baumanii   \n",
       "880           880         880   Enterococcus faecalis   \n",
       "881           881         881   Enterococcus faecalis   \n",
       "882           882         882   Enterococcus faecalis   \n",
       "\n",
       "                                          NP_Synthesis         Drug  \\\n",
       "0                chem_synthesis_reduction_by_D_maltose  Amoxicillin   \n",
       "1                chem_synthesis_reduction_by_D_maltose   Penicillin   \n",
       "2                chem_synthesis_reduction_by_D_maltose  Amoxicillin   \n",
       "3                chem_synthesis_reduction_by_D_maltose   Penicillin   \n",
       "4      green_synthesis from fungus  Aspergillus flavus   Vancomycin   \n",
       "..                                                 ...          ...   \n",
       "878  green_synthesis using C. zylinicum aqueous ext...          NaN   \n",
       "879  green_synthesis using C. zylinicum aqueous ext...          NaN   \n",
       "880  green_synthesis using extract of Klebsiella pn...          NaN   \n",
       "881  green_synthesis using extract of Klebsiella pn...          NaN   \n",
       "882  green_synthesis using extract of Klebsiella pn...          NaN   \n",
       "\n",
       "                 Drug_class_drug_bank  Drug_dose NP_concentration  \\\n",
       "0                             Lactams        NaN              NaN   \n",
       "1    Carboxylic acids and derivatives        NaN              NaN   \n",
       "2                             Lactams        NaN              NaN   \n",
       "3    Carboxylic acids and derivatives        NaN              NaN   \n",
       "4    Carboxylic acids and derivatives       30.0              100   \n",
       "..                                ...        ...              ...   \n",
       "878                               NaN        NaN              NaN   \n",
       "879                               NaN        NaN              NaN   \n",
       "880                               NaN        NaN               10   \n",
       "881                               NaN        NaN               20   \n",
       "882                               NaN        NaN               30   \n",
       "\n",
       "     NP size_min  NP size_max  NP size_avg      shape          method  \\\n",
       "0            4.0         10.0         8.00  spherical             MIC   \n",
       "1            4.0         10.0         8.00  spherical             MIC   \n",
       "2           15.0         30.0        28.00  spherical             MIC   \n",
       "3           15.0         30.0        28.00  spherical             MIC   \n",
       "4            5.0         30.0        21.00  spherical  disc_diffusion   \n",
       "..           ...          ...          ...        ...             ...   \n",
       "878         10.0         78.9        44.45  spherical             MIC   \n",
       "879         10.0         78.9        44.45  spherical             MIC   \n",
       "880         20.0         20.0        20.00  spherical  disc_diffusion   \n",
       "881         20.0         20.0        20.00  spherical  disc_diffusion   \n",
       "882         20.0         20.0        20.00  spherical  disc_diffusion   \n",
       "\n",
       "    ZOI_drug ZOI_NP ZOI_drug_NP  fold_increase_in_antibacterial_activity (%)  \\\n",
       "0        32+    6.3         32+                                          NaN   \n",
       "1        32+    6.3         32+                                          NaN   \n",
       "2        32+     25         32+                                          NaN   \n",
       "3        32+     25         32+                                          NaN   \n",
       "4          0     14        17+2                                         7.02   \n",
       "..       ...    ...         ...                                          ...   \n",
       "878      NaN    4.5         NaN                                          NaN   \n",
       "879      NaN    5.7         NaN                                          NaN   \n",
       "880      NaN     10         NaN                                          NaN   \n",
       "881      NaN     18         NaN                                          NaN   \n",
       "882      NaN     23         NaN                                          NaN   \n",
       "\n",
       "     MDR_check  \n",
       "0            1  \n",
       "1            1  \n",
       "2            1  \n",
       "3            1  \n",
       "4            1  \n",
       "..         ...  \n",
       "878          0  \n",
       "879          0  \n",
       "880          0  \n",
       "881          0  \n",
       "882          0  \n",
       "\n",
       "[883 rows x 18 columns]"
      ]
     },
     "execution_count": 2,
     "metadata": {},
     "output_type": "execute_result"
    }
   ],
   "source": [
    "import pandas as pd\n",
    "df = pd.read_csv('data.csv') #.drop(['Unnamed: 0.1', 'Unnamed: 0'])\n",
    "\n",
    "num_cols = ['Drug_dose', \n",
    "            'NP_concentration', 'NP size_min', 'NP size_max', 'NP size_avg', \n",
    "            'ZOI_drug', 'ZOI_NP', 'ZOI_drug_NP', \n",
    "            'fold_increase_in_antibacterial_activity (%)']\n",
    "\n",
    "cat_cols = ['Bacteria', 'NP_Synthesis', 'Drug',\t'Drug_class_drug_bank', 'shape', 'method', 'MDR_check']\n",
    "\n",
    "df"
   ]
  },
  {
   "attachments": {},
   "cell_type": "markdown",
   "metadata": {},
   "source": [
    "# Numerical features"
   ]
  },
  {
   "cell_type": "code",
   "execution_count": 3,
   "metadata": {},
   "outputs": [
    {
     "data": {
      "text/plain": [
       "array([3.200e+01, 0.000e+00, 1.200e+01, 5.000e+02, 2.200e+01, 4.600e+01,\n",
       "       4.800e+01, 4.700e+01, 4.400e+01, 3.000e+01, 2.800e+01, 2.700e+01,\n",
       "       4.000e+01, 2.300e+01, 2.500e+01, 3.400e+01, 2.600e+01, 3.700e+01,\n",
       "       2.900e+01, 3.600e+01, 2.000e+01, 2.100e+01, 2.400e+01, 3.100e+01,\n",
       "       1.000e+03, 2.500e+02, 8.000e+00, 1.400e+01, 1.700e+01, 1.800e+01,\n",
       "       7.000e+00, 3.300e+01, 2.070e+01, 1.500e+01, 1.900e+01, 2.800e+00,\n",
       "       1.100e+01, 1.300e+01, 1.600e+01, 1.730e+01, 1.850e+01, 9.000e+00,\n",
       "       1.000e+01, 6.400e+01,       nan, 7.500e+00, 4.600e-01, 4.000e+00,\n",
       "       1.000e+00, 2.000e+00, 1.250e+02, 1.250e+00, 6.250e-01, 3.125e-01,\n",
       "       2.500e-01, 3.000e-02, 2.500e+00, 1.000e-02, 5.000e-02, 1.000e-01,\n",
       "       5.000e-01, 7.500e-01, 1.280e+02])"
      ]
     },
     "execution_count": 3,
     "metadata": {},
     "output_type": "execute_result"
    }
   ],
   "source": [
    "df['ZOI_drug'] = df['ZOI_drug'].replace('32+', '32').astype('float64')\n",
    "df['ZOI_drug'].unique()"
   ]
  },
  {
   "cell_type": "code",
   "execution_count": 4,
   "metadata": {},
   "outputs": [
    {
     "data": {
      "text/plain": [
       "array([6.300e+00, 2.500e+01, 1.400e+01,       nan, 1.500e+01, 1.300e+01,\n",
       "       6.400e+01, 1.200e+01, 1.600e+01, 1.700e+01, 2.000e+01, 1.350e+01,\n",
       "       2.100e+01, 1.900e+01, 1.000e+01, 2.400e+01, 1.800e+01, 2.200e+01,\n",
       "       3.200e+01, 5.000e+01, 8.000e+00, 1.250e+01, 1.000e+02, 2.500e+00,\n",
       "       5.000e+00, 4.000e+00, 1.100e+01, 5.000e-01, 2.500e-01, 2.000e+00,\n",
       "       1.280e+02, 3.100e-01, 9.000e-02, 4.700e-01, 6.000e+01, 1.600e+02,\n",
       "       1.800e+02, 2.200e+02, 4.000e+01, 1.200e+02, 1.400e+02, 0.000e+00,\n",
       "       2.600e+01, 2.700e+01, 7.000e+00, 9.000e+00, 1.460e+01, 1.560e+01,\n",
       "       1.730e+01, 2.030e+01, 7.800e+00, 8.100e+00, 9.800e+00, 3.000e+01,\n",
       "       3.500e+01, 6.500e+01, 8.000e+01, 2.060e+01, 2.660e+01, 1.040e+00,\n",
       "       2.000e-02, 4.000e+03, 1.055e+01, 1.122e+01, 1.139e+01, 1.157e+01,\n",
       "       9.260e+00, 1.430e+01, 1.530e+01, 2.800e+00, 3.100e+00, 4.500e+00,\n",
       "       5.700e+00, 2.300e+01])"
      ]
     },
     "execution_count": 4,
     "metadata": {},
     "output_type": "execute_result"
    }
   ],
   "source": [
    "df['ZOI_NP'] = df['ZOI_NP'].replace('50+', '50').astype('float64')\n",
    "df['ZOI_NP'].unique()"
   ]
  },
  {
   "cell_type": "code",
   "execution_count": 5,
   "metadata": {},
   "outputs": [
    {
     "data": {
      "text/plain": [
       "array([3.200e+01, 1.700e+01, 1.500e+01, 6.250e+01, 5.000e+01, 4.800e+01,\n",
       "       4.700e+01, 4.400e+01, 4.200e+01, 4.100e+01, 4.000e+01, 3.900e+01,\n",
       "       3.800e+01, 3.700e+01, 3.600e+01, 3.500e+01, 3.400e+01, 3.125e+01,\n",
       "       3.100e+01, 3.000e+01, 2.900e+01, 2.800e+01, 2.700e+01, 2.600e+01,\n",
       "       2.500e+01, 2.400e+01, 2.300e+01, 2.200e+01, 2.150e+01, 2.100e+01,\n",
       "       2.080e+01, 2.000e+01, 1.990e+01, 1.900e+01, 1.850e+01, 1.800e+01,\n",
       "       1.600e+01, 1.530e+01, 1.475e+01, 1.433e+01, 1.400e+01, 1.300e+01,\n",
       "       1.288e+01, 1.280e+01, 1.276e+01, 1.257e+01, 1.245e+01, 1.200e+01,\n",
       "       1.167e+01, 1.164e+01, 1.145e+01, 1.143e+01, 1.100e+01, 1.098e+01,\n",
       "       1.062e+01, 1.034e+01, 1.000e+01, 9.740e+00, 9.000e+00, 8.000e+00,\n",
       "       7.810e+00, 7.000e+00, 4.800e+00, 4.000e+00, 2.000e+00, 1.750e+00,\n",
       "       1.000e+00, 9.700e-01, 8.000e-01, 6.000e-01, 5.000e-01, 4.000e-01,\n",
       "       3.000e-01, 2.500e-01, 1.250e-01, 1.000e-01, 3.000e-02, 0.000e+00,\n",
       "             nan])"
      ]
     },
     "execution_count": 5,
     "metadata": {},
     "output_type": "execute_result"
    }
   ],
   "source": [
    "df['ZOI_drug_NP'] = df['ZOI_drug_NP'].replace({'32+': '32', '17+2': '17'}).astype('float64')\n",
    "df['ZOI_drug_NP'].unique()"
   ]
  },
  {
   "attachments": {},
   "cell_type": "markdown",
   "metadata": {},
   "source": [
    "### Проводилось по 3 экспа с разной конц. НЧ, и при этом все результаты в БД уже усредненные, поэтому добавим столбец \"проверено для разных конц\""
   ]
  },
  {
   "cell_type": "code",
   "execution_count": 6,
   "metadata": {},
   "outputs": [
    {
     "data": {
      "text/plain": [
       "array([nan, '100', '30', '170/85/42.5', '170/85/42.33', '170/85/42.15',\n",
       "       '170/85/42.24', '170/85/42.20', '170/85/42.11', '10',\n",
       "       '170/85/42.27', '170/85/42.13', '170/85/42.34', '170/85/42.8',\n",
       "       '170/85/42.32', '170/85/42.23', '170/85/42.12', '170/85/42.25',\n",
       "       '170/85/42.10', '170/85/42.29', '170/85/42.26', '170/85/42.28',\n",
       "       '170/85/42.16', '170/85/42.6', '170/85/42.31', '170/85/42.9',\n",
       "       '170/85/42.19', '170/85/42.18', '170/85/42.30', '170/85/42.17',\n",
       "       '170/85/42.21', '170/85/42.14', '20', '170/85/42.7',\n",
       "       '170/85/42.22', '50', '25', '102', '104', '170', '85', '42.5',\n",
       "       '21.25', '10.625', '2.65', '1.33', '0.66', '0.31', '1000', '500',\n",
       "       '300'], dtype=object)"
      ]
     },
     "execution_count": 6,
     "metadata": {},
     "output_type": "execute_result"
    }
   ],
   "source": [
    "df['NP_concentration'].unique()\n"
   ]
  },
  {
   "cell_type": "code",
   "execution_count": 7,
   "metadata": {},
   "outputs": [
    {
     "data": {
      "text/html": [
       "<div>\n",
       "<style scoped>\n",
       "    .dataframe tbody tr th:only-of-type {\n",
       "        vertical-align: middle;\n",
       "    }\n",
       "\n",
       "    .dataframe tbody tr th {\n",
       "        vertical-align: top;\n",
       "    }\n",
       "\n",
       "    .dataframe thead th {\n",
       "        text-align: right;\n",
       "    }\n",
       "</style>\n",
       "<table border=\"1\" class=\"dataframe\">\n",
       "  <thead>\n",
       "    <tr style=\"text-align: right;\">\n",
       "      <th></th>\n",
       "      <th>Unnamed: 0.1</th>\n",
       "      <th>Unnamed: 0</th>\n",
       "      <th>Bacteria</th>\n",
       "      <th>NP_Synthesis</th>\n",
       "      <th>Drug</th>\n",
       "      <th>Drug_class_drug_bank</th>\n",
       "      <th>Drug_dose</th>\n",
       "      <th>NP_concentration</th>\n",
       "      <th>NP size_min</th>\n",
       "      <th>NP size_max</th>\n",
       "      <th>NP size_avg</th>\n",
       "      <th>shape</th>\n",
       "      <th>method</th>\n",
       "      <th>ZOI_drug</th>\n",
       "      <th>ZOI_NP</th>\n",
       "      <th>ZOI_drug_NP</th>\n",
       "      <th>fold_increase_in_antibacterial_activity (%)</th>\n",
       "      <th>MDR_check</th>\n",
       "    </tr>\n",
       "  </thead>\n",
       "  <tbody>\n",
       "    <tr>\n",
       "      <th>73</th>\n",
       "      <td>73</td>\n",
       "      <td>126</td>\n",
       "      <td>Salmonella enterica</td>\n",
       "      <td>green_synthesis using Ulva fasciata</td>\n",
       "      <td>Neomycin</td>\n",
       "      <td>NC</td>\n",
       "      <td>30.0</td>\n",
       "      <td>170/85/42.29</td>\n",
       "      <td>14.45</td>\n",
       "      <td>15.55</td>\n",
       "      <td>15.0</td>\n",
       "      <td>spherical</td>\n",
       "      <td>disc_diffusion</td>\n",
       "      <td>14.0</td>\n",
       "      <td>NaN</td>\n",
       "      <td>28.0</td>\n",
       "      <td>NaN</td>\n",
       "      <td>0</td>\n",
       "    </tr>\n",
       "  </tbody>\n",
       "</table>\n",
       "</div>"
      ],
      "text/plain": [
       "    Unnamed: 0.1  Unnamed: 0             Bacteria  \\\n",
       "73            73         126  Salmonella enterica   \n",
       "\n",
       "                            NP_Synthesis      Drug Drug_class_drug_bank  \\\n",
       "73  green_synthesis using Ulva fasciata   Neomycin                   NC   \n",
       "\n",
       "    Drug_dose NP_concentration  NP size_min  NP size_max  NP size_avg  \\\n",
       "73       30.0     170/85/42.29        14.45        15.55         15.0   \n",
       "\n",
       "        shape          method  ZOI_drug  ZOI_NP  ZOI_drug_NP  \\\n",
       "73  spherical  disc_diffusion      14.0     NaN         28.0   \n",
       "\n",
       "    fold_increase_in_antibacterial_activity (%)  MDR_check  \n",
       "73                                          NaN          0  "
      ]
     },
     "execution_count": 7,
     "metadata": {},
     "output_type": "execute_result"
    }
   ],
   "source": [
    "df[df['NP_concentration'] == '170/85/42.29']"
   ]
  },
  {
   "cell_type": "code",
   "execution_count": 8,
   "metadata": {},
   "outputs": [
    {
     "data": {
      "text/plain": [
       "False    853\n",
       "True      30\n",
       "Name: various_conc_tested, dtype: int64"
      ]
     },
     "execution_count": 8,
     "metadata": {},
     "output_type": "execute_result"
    }
   ],
   "source": [
    "df['various_conc_tested'] = np.array(['/' in str(x) for x in df['NP_concentration']])\n",
    "df.loc[df['various_conc_tested'] == True, 'NP_concentration'] = 170\n",
    "df['various_conc_tested'].value_counts()"
   ]
  },
  {
   "cell_type": "code",
   "execution_count": 9,
   "metadata": {},
   "outputs": [],
   "source": [
    "df[num_cols] = df[num_cols].astype('float64')"
   ]
  },
  {
   "cell_type": "code",
   "execution_count": 10,
   "metadata": {},
   "outputs": [
    {
     "data": {
      "text/plain": [
       "Drug_dose                                      float64\n",
       "NP_concentration                               float64\n",
       "NP size_min                                    float64\n",
       "NP size_max                                    float64\n",
       "NP size_avg                                    float64\n",
       "ZOI_drug                                       float64\n",
       "ZOI_NP                                         float64\n",
       "ZOI_drug_NP                                    float64\n",
       "fold_increase_in_antibacterial_activity (%)    float64\n",
       "dtype: object"
      ]
     },
     "execution_count": 10,
     "metadata": {},
     "output_type": "execute_result"
    }
   ],
   "source": [
    "df[num_cols].dtypes"
   ]
  },
  {
   "attachments": {},
   "cell_type": "markdown",
   "metadata": {},
   "source": [
    "# Распределения числовых фич"
   ]
  },
  {
   "attachments": {},
   "cell_type": "markdown",
   "metadata": {},
   "source": [
    "Куча нанов, пока ничего хорошего не сделаем"
   ]
  },
  {
   "cell_type": "code",
   "execution_count": 11,
   "metadata": {},
   "outputs": [
    {
     "data": {
      "text/plain": [
       "<Axes: xlabel='ZOI_drug_NP', ylabel='Probability'>"
      ]
     },
     "execution_count": 11,
     "metadata": {},
     "output_type": "execute_result"
    },
    {
     "data": {
      "image/png": "[encoded data removed]",
      "text/plain": [
       "<Figure size 640x480 with 1 Axes>"
      ]
     },
     "metadata": {},
     "output_type": "display_data"
    }
   ],
   "source": [
    "sns.histplot(df['ZOI_drug_NP'].dropna(), stat='probability', binwidth=5)"
   ]
  },
  {
   "attachments": {},
   "cell_type": "markdown",
   "metadata": {},
   "source": [
    "# Cat features\n"
   ]
  },
  {
   "attachments": {},
   "cell_type": "markdown",
   "metadata": {},
   "source": [
    "Стрип, чистим от технических проблем"
   ]
  },
  {
   "cell_type": "code",
   "execution_count": 12,
   "metadata": {},
   "outputs": [],
   "source": [
    "df = df.applymap(lambda x: x.strip() if isinstance(x, str) else x)"
   ]
  },
  {
   "cell_type": "code",
   "execution_count": 13,
   "metadata": {},
   "outputs": [
    {
     "name": "stdout",
     "output_type": "stream",
     "text": [
      "Bacteria :\n",
      " ['Acinetobacter baumanii', 'Actinobacillus pleuropneumoniae', 'Bacillus cereus', 'Bacillus spp.', 'Bacillus subtilis', 'Candida albicans', 'Candida glabrata', 'Candida glochares', 'Candida saitoana', 'Enterobacter cloacae', 'Enterococcus faecalis', 'Enterococcus faecium', 'Escherichia coli', 'Haemophilus influenzae', 'Klebsiella pneumoniae', 'Klebsiella sp.', 'Listeria monocytogenes', 'Micrococcus luteus', 'Neisseria mucosa', 'Pasteurella Multocida', 'Proteus mirabilis', 'Proteus sp.', 'Proteus vulgaris', 'Pseudomonas aeruginosa', 'Pseudomonas koreensis', 'Salmonella  typhi', 'Salmonella Paratyphi', 'Salmonella enterica', 'Salmonella typhimurium', 'Serratia marcescens', 'Serratia odorifera', 'Staphylococcus aureus', 'Staphylococcus epidermidis', 'Streptococcus mutans', 'Streptococcus pneumoniae', 'Streptococcus uberis', 'Vibrio cholerae', 'Vibrio parahaemolyticus'] \n",
      "\n",
      "NP_Synthesis :\n",
      " ['chem_synthesis', 'chem_synthesis (purchased from Vector Vita Ltd, Novosibirsk, Russia', 'chem_synthesis by silver nitrate', 'chem_synthesis_reduction_by_D_maltose', 'chemical_synthesis (East Nano Chemicals Co.)', 'chemical_synthesis (sigma aldrich, 730785)', 'chemical_synthesis (sigma aldrich, 730807)', 'chemical_synthesis using sodium borohydride and silver ions', 'green_synthesis  by Bacillus sp.', 'green_synthesis  using fungus Trichoderma', 'green_synthesis by Klebsiella pneumoniae', 'green_synthesis from fungus  Aspergillus flavus', 'green_synthesis from fungus  Phytophthora infestans', 'green_synthesis from fungus Trichoderma viride', 'green_synthesis using C. zylinicum aqueous extracts', 'green_synthesis using Dioscorea bulbifera tuber extract', 'green_synthesis using Ulva fasciata', 'green_synthesis using Withania coagulans fruits extract', 'green_synthesis using aqueous Cassiarox burghii leaf extract', 'green_synthesis using extract of Klebsiella pneumoniae', 'green_synthesis using extract of acinetobacter baumannii', 'green_synthesis using extract of corn leaves', 'green_synthesis using the methanolic extracts of marine algae (S. wightii)', 'green_synthesis using the methanolic extracts of marine algae (V. pachynema)'] \n",
      "\n",
      "Drug :\n",
      " ['Amikacin', 'Amoxicillin', 'Amphotericin B', 'Ampicillin', 'Azithromycin', 'Aztreonam', 'Biapenem', 'Carbenicillin', 'Cefepime', 'Cefixime', 'Cefotaxime', 'Ceftazidime', 'Ceftriaxone', 'Cefuroxime', 'Cephalexin', 'Chloramphenicol', 'Ciprofloxacin', 'Clindamycin', 'Co-trimoxazole', 'Doxycycline', 'Erythromycin', 'Faropenem', 'Fosfomycin', 'Fusidic acid', 'Gentamicin', 'Imipenem', 'Kanamycin', 'Levofloxacin', 'Nalidixic acid', 'Neomycin', 'Nitrofurantoin', 'Oxacillin', 'Oxytetracycline', 'Penicillin', 'Piperacillin', 'Polymyxin', 'Rifampicin', 'Streptomycin', 'Tetracycline', 'Trimethoprim', 'Vancomycin', 'cefazolin', 'ciprofloxacin', 'colistin', 'mupirocin'] \n",
      "\n",
      "Drug_class_drug_bank :\n",
      " ['Aminoglycosides', 'Azolidines', 'Benzene and substituted derivatives', 'Benzene and substituted derivatives; Phenol ethers', 'Biapenem', 'Carboxylic acids and derivatives', 'Diazanaphthalenes', 'Fatty Acyls', 'Lactams', 'Macrolactams', 'NC', 'Organic phosphonic acids and derivatives', 'Organooxygen compounds', 'Phenol ethers', 'Quinolines and derivatives', 'Steroids and steroid derivatives', 'Tetracyclines'] \n",
      "\n",
      "shape :\n",
      " ['nanorods and triangles', 'spherical', 'triangular'] \n",
      "\n",
      "method :\n",
      " ['MBC', 'MIC', 'disc_diffusion', 'well_diffusion'] \n",
      "\n",
      "MDR_check :\n",
      " [0, 1] \n",
      "\n"
     ]
    }
   ],
   "source": [
    "for i in cat_cols:\n",
    "    print(i, ':\\n', sorted(df[i].dropna().unique().tolist()),'\\n')"
   ]
  },
  {
   "attachments": {},
   "cell_type": "markdown",
   "metadata": {},
   "source": [
    "Ищем проблемы в строковых фичах:\n",
    "\n",
    "1) Bacteria: Bacillus spp. - это Bacillus subtilis\n",
    "2) NP_Synthesis: куча лишней инфы, скорее всего окажется важным зеленый/химический синтез, и то не факт\n",
    "3) Drug: некоторые написаны с маленькой буквы\n",
    "4) Drug_class_drug_bank: есть два drug'a, которые отнесены к двум классам сразу. Посмотрели глазами, решили, что можно оставить один класс, потеряем не много"
   ]
  },
  {
   "cell_type": "code",
   "execution_count": 14,
   "metadata": {},
   "outputs": [],
   "source": [
    "df['Bacteria'] = df['Bacteria'].replace({'Bacillus spp.': 'Bacillus subtilis'})"
   ]
  },
  {
   "cell_type": "code",
   "execution_count": 15,
   "metadata": {},
   "outputs": [],
   "source": [
    "df['NP_Synthesis'] = df['NP_Synthesis'].replace({'chem_synthesis.*': 'chem_synthesis', \n",
    "                                                 'chemical_synthesis.*': 'chem_synthesis',\n",
    "                                                 'green_synthesis.*': 'green_synthesis'}, regex=True)"
   ]
  },
  {
   "cell_type": "code",
   "execution_count": 16,
   "metadata": {},
   "outputs": [],
   "source": [
    "df['Drug'] = df['Drug'].map(lambda x: x.lower() if isinstance(x, str) else x)"
   ]
  },
  {
   "cell_type": "code",
   "execution_count": 17,
   "metadata": {},
   "outputs": [
    {
     "name": "stdout",
     "output_type": "stream",
     "text": [
      "    Unnamed: 0.1  Unnamed: 0               Bacteria     NP_Synthesis  \\\n",
      "26            26         708       Escherichia coli  green_synthesis   \n",
      "31            31         707  Staphylococcus aureus  green_synthesis   \n",
      "\n",
      "              Drug                               Drug_class_drug_bank  \\\n",
      "26  co-trimoxazole  Benzene and substituted derivatives; Phenol et...   \n",
      "31  co-trimoxazole  Benzene and substituted derivatives; Phenol et...   \n",
      "\n",
      "    Drug_dose  NP_concentration  NP size_min  NP size_max  NP size_avg  \\\n",
      "26        2.0              10.0          5.0         32.0         22.5   \n",
      "31        2.0              10.0          5.0         32.0         22.5   \n",
      "\n",
      "        shape          method  ZOI_drug  ZOI_NP  ZOI_drug_NP  \\\n",
      "26  spherical  disc_diffusion      37.0     NaN         37.0   \n",
      "31  spherical  disc_diffusion      36.0     NaN         36.0   \n",
      "\n",
      "    fold_increase_in_antibacterial_activity (%)  MDR_check  \\\n",
      "26                                          0.0          0   \n",
      "31                                          0.0          0   \n",
      "\n",
      "    various_conc_tested  \n",
      "26                False  \n",
      "31                False  \n"
     ]
    }
   ],
   "source": [
    "print(df[df['Drug_class_drug_bank'] == 'Benzene and substituted derivatives; Phenol ethers'])\n",
    "df['Drug_class_drug_bank'] = df['Drug_class_drug_bank'].replace('Benzene and substituted derivatives; Phenol ethers', 'Benzene and substituted derivatives')"
   ]
  },
  {
   "cell_type": "code",
   "execution_count": 18,
   "metadata": {},
   "outputs": [
    {
     "name": "stdout",
     "output_type": "stream",
     "text": [
      "Bacteria :\n",
      " ['Acinetobacter baumanii', 'Actinobacillus pleuropneumoniae', 'Bacillus cereus', 'Bacillus subtilis', 'Candida albicans', 'Candida glabrata', 'Candida glochares', 'Candida saitoana', 'Enterobacter cloacae', 'Enterococcus faecalis', 'Enterococcus faecium', 'Escherichia coli', 'Haemophilus influenzae', 'Klebsiella pneumoniae', 'Klebsiella sp.', 'Listeria monocytogenes', 'Micrococcus luteus', 'Neisseria mucosa', 'Pasteurella Multocida', 'Proteus mirabilis', 'Proteus sp.', 'Proteus vulgaris', 'Pseudomonas aeruginosa', 'Pseudomonas koreensis', 'Salmonella  typhi', 'Salmonella Paratyphi', 'Salmonella enterica', 'Salmonella typhimurium', 'Serratia marcescens', 'Serratia odorifera', 'Staphylococcus aureus', 'Staphylococcus epidermidis', 'Streptococcus mutans', 'Streptococcus pneumoniae', 'Streptococcus uberis', 'Vibrio cholerae', 'Vibrio parahaemolyticus'] \n",
      " 37\n",
      "NP_Synthesis :\n",
      " ['chem_synthesis', 'green_synthesis'] \n",
      " 2\n",
      "Drug :\n",
      " ['amikacin', 'amoxicillin', 'amphotericin b', 'ampicillin', 'azithromycin', 'aztreonam', 'biapenem', 'carbenicillin', 'cefazolin', 'cefepime', 'cefixime', 'cefotaxime', 'ceftazidime', 'ceftriaxone', 'cefuroxime', 'cephalexin', 'chloramphenicol', 'ciprofloxacin', 'clindamycin', 'co-trimoxazole', 'colistin', 'doxycycline', 'erythromycin', 'faropenem', 'fosfomycin', 'fusidic acid', 'gentamicin', 'imipenem', 'kanamycin', 'levofloxacin', 'mupirocin', 'nalidixic acid', 'neomycin', 'nitrofurantoin', 'oxacillin', 'oxytetracycline', 'penicillin', 'piperacillin', 'polymyxin', 'rifampicin', 'streptomycin', 'tetracycline', 'trimethoprim', 'vancomycin'] \n",
      " 44\n",
      "Drug_class_drug_bank :\n",
      " ['Aminoglycosides', 'Azolidines', 'Benzene and substituted derivatives', 'Biapenem', 'Carboxylic acids and derivatives', 'Diazanaphthalenes', 'Fatty Acyls', 'Lactams', 'Macrolactams', 'NC', 'Organic phosphonic acids and derivatives', 'Organooxygen compounds', 'Phenol ethers', 'Quinolines and derivatives', 'Steroids and steroid derivatives', 'Tetracyclines'] \n",
      " 16\n",
      "shape :\n",
      " ['nanorods and triangles', 'spherical', 'triangular'] \n",
      " 3\n",
      "method :\n",
      " ['MBC', 'MIC', 'disc_diffusion', 'well_diffusion'] \n",
      " 4\n",
      "MDR_check :\n",
      " [0, 1] \n",
      " 2\n"
     ]
    }
   ],
   "source": [
    "for i in cat_cols:\n",
    "    print(i, ':\\n', sorted(df[i].dropna().unique().tolist()),'\\n', len(sorted(df[i].dropna().unique().tolist())))"
   ]
  },
  {
   "attachments": {},
   "cell_type": "markdown",
   "metadata": {},
   "source": [
    "# Избавляемся от нанов"
   ]
  },
  {
   "cell_type": "code",
   "execution_count": 19,
   "metadata": {},
   "outputs": [
    {
     "name": "stdout",
     "output_type": "stream",
     "text": [
      "Unnamed: 0.1 - nans: 0\n",
      "Unnamed: 0 - nans: 0\n",
      "Bacteria - nans: 0\n",
      "NP_Synthesis - nans: 0\n",
      "Drug - nans: 241\n",
      "Drug_class_drug_bank - nans: 241\n",
      "Drug_dose - nans: 306\n",
      "NP_concentration - nans: 250\n",
      "NP size_min - nans: 0\n",
      "NP size_max - nans: 0\n",
      "NP size_avg - nans: 0\n",
      "shape - nans: 0\n",
      "method - nans: 0\n",
      "ZOI_drug - nans: 256\n",
      "ZOI_NP - nans: 442\n",
      "ZOI_drug_NP - nans: 299\n",
      "fold_increase_in_antibacterial_activity (%) - nans: 462\n",
      "MDR_check - nans: 0\n",
      "various_conc_tested - nans: 0\n"
     ]
    }
   ],
   "source": [
    "for col in df:\n",
    "    print(f'{col} - nans: {df[col].isna().sum()}')"
   ]
  },
  {
   "attachments": {},
   "cell_type": "markdown",
   "metadata": {},
   "source": [
    "```ZOI_drug_NP```: target, вынуждены выбросить, остается 584 сэмпла"
   ]
  },
  {
   "cell_type": "code",
   "execution_count": 20,
   "metadata": {},
   "outputs": [],
   "source": [
    "df = df[~df['ZOI_drug_NP'].isna()]"
   ]
  },
  {
   "cell_type": "code",
   "execution_count": 21,
   "metadata": {},
   "outputs": [
    {
     "name": "stdout",
     "output_type": "stream",
     "text": [
      "Unnamed: 0.1 - nans: 0\n",
      "Unnamed: 0 - nans: 0\n",
      "Bacteria - nans: 0\n",
      "NP_Synthesis - nans: 0\n",
      "Drug - nans: 0\n",
      "Drug_class_drug_bank - nans: 0\n",
      "Drug_dose - nans: 119\n",
      "NP_concentration - nans: 127\n",
      "NP size_min - nans: 0\n",
      "NP size_max - nans: 0\n",
      "NP size_avg - nans: 0\n",
      "shape - nans: 0\n",
      "method - nans: 0\n",
      "ZOI_drug - nans: 15\n",
      "ZOI_NP - nans: 422\n",
      "ZOI_drug_NP - nans: 0\n",
      "fold_increase_in_antibacterial_activity (%) - nans: 163\n",
      "MDR_check - nans: 0\n",
      "various_conc_tested - nans: 0\n",
      "--------------\n",
      "Rows: 584\n"
     ]
    }
   ],
   "source": [
    "for col in df:\n",
    "    print(f'{col} - nans: {df[col].isna().sum()}')\n",
    "print('--------------\\nRows:', df.shape[0])"
   ]
  },
  {
   "attachments": {},
   "cell_type": "markdown",
   "metadata": {},
   "source": [
    "### Как будем заполнять наны и обрабатывать выбросы\n",
    "\n",
    "```Drug_dose```: смотрим на значения, там сильный разброс, но явно есть порядки 1, 10 и 100, поэтому заменим его на логарифм, а для нанов применим KNN"
   ]
  },
  {
   "cell_type": "code",
   "execution_count": 22,
   "metadata": {},
   "outputs": [
    {
     "data": {
      "text/plain": [
       "array([  nan,  30. ,  10. , 500. ,  15. ,  20. ,   2. ,   1. ,  40. ,\n",
       "        50. ,   5. , 100. , 300. ,  25. ,   2.5])"
      ]
     },
     "execution_count": 22,
     "metadata": {},
     "output_type": "execute_result"
    }
   ],
   "source": [
    "df['Drug_dose'].unique()"
   ]
  },
  {
   "cell_type": "code",
   "execution_count": 23,
   "metadata": {},
   "outputs": [],
   "source": [
    "df['lg_Drug_dose'] = np.log10(df['Drug_dose'])\n",
    "df.drop(columns=['Drug_dose'], inplace=True)"
   ]
  },
  {
   "cell_type": "code",
   "execution_count": 24,
   "metadata": {},
   "outputs": [],
   "source": [
    "num_cols.pop(num_cols.index('Drug_dose'))\n",
    "num_cols.append('lg_Drug_dose')"
   ]
  },
  {
   "cell_type": "code",
   "execution_count": 25,
   "metadata": {},
   "outputs": [
    {
     "data": {
      "text/plain": [
       "array([       nan, 1.47712125, 1.        , 2.69897   , 1.17609126,\n",
       "       1.30103   , 0.30103   , 0.        , 1.60205999, 1.69897   ,\n",
       "       0.69897   , 2.        , 2.47712125, 1.39794001, 0.39794001])"
      ]
     },
     "execution_count": 25,
     "metadata": {},
     "output_type": "execute_result"
    }
   ],
   "source": [
    "df['lg_Drug_dose'].unique()"
   ]
  },
  {
   "attachments": {},
   "cell_type": "markdown",
   "metadata": {},
   "source": [
    "```NP_concentration```: вот такая гистограмма, можно заменить на среднее, распределение почти нормальное"
   ]
  },
  {
   "cell_type": "code",
   "execution_count": 26,
   "metadata": {},
   "outputs": [],
   "source": [
    "# вставить гистограмму"
   ]
  },
  {
   "cell_type": "code",
   "execution_count": 37,
   "metadata": {},
   "outputs": [],
   "source": [
    "mode_conc = df['NP_concentration'].mode()[0]\n",
    "df['NP_concentration'].fillna(mode_conc, inplace=True)"
   ]
  },
  {
   "cell_type": "code",
   "execution_count": 38,
   "metadata": {},
   "outputs": [
    {
     "data": {
      "text/plain": [
       "0       30.0\n",
       "1       30.0\n",
       "2       30.0\n",
       "3       30.0\n",
       "4      100.0\n",
       "       ...  \n",
       "579     30.0\n",
       "580     30.0\n",
       "581     30.0\n",
       "582     30.0\n",
       "583     30.0\n",
       "Name: NP_concentration, Length: 584, dtype: float64"
      ]
     },
     "execution_count": 38,
     "metadata": {},
     "output_type": "execute_result"
    }
   ],
   "source": [
    "df['NP_concentration']"
   ]
  },
  {
   "attachments": {},
   "cell_type": "markdown",
   "metadata": {},
   "source": [
    "```ZOI_NP```: 422/583 NaN, разумнее будет выкинуть, не глядя на распределение и важность и ни о чем не жалея"
   ]
  },
  {
   "cell_type": "code",
   "execution_count": 41,
   "metadata": {},
   "outputs": [],
   "source": [
    "df.drop(columns=['ZOI_NP'], inplace=True)"
   ]
  },
  {
   "attachments": {},
   "cell_type": "markdown",
   "metadata": {},
   "source": [
    "```ZOI_drug```: Заменим по KNN, обучив на свойствах лекарств и бактерий"
   ]
  },
  {
   "cell_type": "code",
   "execution_count": null,
   "metadata": {},
   "outputs": [],
   "source": []
  },
  {
   "attachments": {},
   "cell_type": "markdown",
   "metadata": {},
   "source": [
    "## После очистки от нанов:"
   ]
  },
  {
   "cell_type": "code",
   "execution_count": 42,
   "metadata": {},
   "outputs": [
    {
     "name": "stdout",
     "output_type": "stream",
     "text": [
      "Unnamed: 0.1 - nans: 0\n",
      "Unnamed: 0 - nans: 0\n",
      "Bacteria - nans: 0\n",
      "NP_Synthesis - nans: 0\n",
      "Drug - nans: 0\n",
      "Drug_class_drug_bank - nans: 0\n",
      "NP_concentration - nans: 0\n",
      "NP size_min - nans: 0\n",
      "NP size_max - nans: 0\n",
      "NP size_avg - nans: 0\n",
      "shape - nans: 0\n",
      "method - nans: 0\n",
      "ZOI_drug - nans: 15\n",
      "ZOI_drug_NP - nans: 0\n",
      "fold_increase_in_antibacterial_activity (%) - nans: 163\n",
      "MDR_check - nans: 0\n",
      "various_conc_tested - nans: 0\n",
      "lg_Drug_dose - nans: 119\n",
      "--------------\n",
      "Rows: 584\n"
     ]
    }
   ],
   "source": [
    "for col in df:\n",
    "    print(f'{col} - nans: {df[col].isna().sum()}')\n",
    "print('--------------\\nRows:', df.shape[0])"
   ]
  },
  {
   "cell_type": "code",
   "execution_count": null,
   "metadata": {},
   "outputs": [],
   "source": []
  }
 ],
 "metadata": {
  "kernelspec": {
   "display_name": "ml",
   "language": "python",
   "name": "python3"
  },
  "language_info": {
   "codemirror_mode": {
    "name": "ipython",
    "version": 3
   },
   "file_extension": ".py",
   "mimetype": "text/x-python",
   "name": "python",
   "nbconvert_exporter": "python",
   "pygments_lexer": "ipython3",
   "version": "3.8.16"
  },
  "orig_nbformat": 4,
  "vscode": {
   "interpreter": {
    "hash": "d3b836c7ef044d43059c7846a59355f0b4cbb71a588c1f9492eaa9138c6b55f1"
   }
  }
 },
 "nbformat": 4,
 "nbformat_minor": 2
}
