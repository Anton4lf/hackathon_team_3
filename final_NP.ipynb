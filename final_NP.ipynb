{
 "cells": [
  {
   "cell_type": "code",
   "execution_count": 611,
   "metadata": {},
   "outputs": [],
   "source": [
    "from rdkit import RDLogger\n",
    "RDLogger.DisableLog('rdApp.*')\n",
    "\n",
    "# import numpy as sns\n",
    "# import pandas as np\n",
    "# import seaborn as pd\n",
    "# import matplotlib.pyplot as torch\n",
    "\n",
    "from rdkit import Chem\n",
    "from rdkit.Chem import Descriptors\n",
    "from rdkit.ML.Descriptors import MoleculeDescriptors\n",
    "\n",
    "import seaborn as sns\n",
    "sns.set_theme()\n",
    "import matplotlib.pyplot as plt\n",
    "import numpy as np\n",
    "import pandas as pd"
   ]
  },
  {
   "attachments": {},
   "cell_type": "markdown",
   "metadata": {},
   "source": [
    "# 1 | Загружаем все данные"
   ]
  },
  {
   "cell_type": "code",
   "execution_count": 612,
   "metadata": {},
   "outputs": [
    {
     "data": {
      "text/html": [
       "<div>\n",
       "<style scoped>\n",
       "    .dataframe tbody tr th:only-of-type {\n",
       "        vertical-align: middle;\n",
       "    }\n",
       "\n",
       "    .dataframe tbody tr th {\n",
       "        vertical-align: top;\n",
       "    }\n",
       "\n",
       "    .dataframe thead th {\n",
       "        text-align: right;\n",
       "    }\n",
       "</style>\n",
       "<table border=\"1\" class=\"dataframe\">\n",
       "  <thead>\n",
       "    <tr style=\"text-align: right;\">\n",
       "      <th></th>\n",
       "      <th>Bacteria</th>\n",
       "      <th>NP_Synthesis</th>\n",
       "      <th>Drug</th>\n",
       "      <th>Drug_class_drug_bank</th>\n",
       "      <th>Drug_dose</th>\n",
       "      <th>NP_concentration</th>\n",
       "      <th>NP size_min</th>\n",
       "      <th>NP size_max</th>\n",
       "      <th>NP size_avg</th>\n",
       "      <th>shape</th>\n",
       "      <th>method</th>\n",
       "      <th>ZOI_drug</th>\n",
       "      <th>ZOI_NP</th>\n",
       "      <th>ZOI_drug_NP</th>\n",
       "      <th>fold_increase_in_antibacterial_activity (%)</th>\n",
       "      <th>MDR_check</th>\n",
       "    </tr>\n",
       "  </thead>\n",
       "  <tbody>\n",
       "    <tr>\n",
       "      <th>0</th>\n",
       "      <td>Escherichia coli</td>\n",
       "      <td>chem_synthesis_reduction_by_D_maltose</td>\n",
       "      <td>Amoxicillin</td>\n",
       "      <td>Lactams</td>\n",
       "      <td>NaN</td>\n",
       "      <td>NaN</td>\n",
       "      <td>4.0</td>\n",
       "      <td>10.0</td>\n",
       "      <td>8.00</td>\n",
       "      <td>spherical</td>\n",
       "      <td>MIC</td>\n",
       "      <td>32+</td>\n",
       "      <td>6.3</td>\n",
       "      <td>32+</td>\n",
       "      <td>NaN</td>\n",
       "      <td>1</td>\n",
       "    </tr>\n",
       "    <tr>\n",
       "      <th>1</th>\n",
       "      <td>Escherichia coli</td>\n",
       "      <td>chem_synthesis_reduction_by_D_maltose</td>\n",
       "      <td>Penicillin</td>\n",
       "      <td>Carboxylic acids and derivatives</td>\n",
       "      <td>NaN</td>\n",
       "      <td>NaN</td>\n",
       "      <td>4.0</td>\n",
       "      <td>10.0</td>\n",
       "      <td>8.00</td>\n",
       "      <td>spherical</td>\n",
       "      <td>MIC</td>\n",
       "      <td>32+</td>\n",
       "      <td>6.3</td>\n",
       "      <td>32+</td>\n",
       "      <td>NaN</td>\n",
       "      <td>1</td>\n",
       "    </tr>\n",
       "    <tr>\n",
       "      <th>2</th>\n",
       "      <td>Escherichia coli</td>\n",
       "      <td>chem_synthesis_reduction_by_D_maltose</td>\n",
       "      <td>Amoxicillin</td>\n",
       "      <td>Lactams</td>\n",
       "      <td>NaN</td>\n",
       "      <td>NaN</td>\n",
       "      <td>15.0</td>\n",
       "      <td>30.0</td>\n",
       "      <td>28.00</td>\n",
       "      <td>spherical</td>\n",
       "      <td>MIC</td>\n",
       "      <td>32+</td>\n",
       "      <td>25</td>\n",
       "      <td>32+</td>\n",
       "      <td>NaN</td>\n",
       "      <td>1</td>\n",
       "    </tr>\n",
       "    <tr>\n",
       "      <th>3</th>\n",
       "      <td>Escherichia coli</td>\n",
       "      <td>chem_synthesis_reduction_by_D_maltose</td>\n",
       "      <td>Penicillin</td>\n",
       "      <td>Carboxylic acids and derivatives</td>\n",
       "      <td>NaN</td>\n",
       "      <td>NaN</td>\n",
       "      <td>15.0</td>\n",
       "      <td>30.0</td>\n",
       "      <td>28.00</td>\n",
       "      <td>spherical</td>\n",
       "      <td>MIC</td>\n",
       "      <td>32+</td>\n",
       "      <td>25</td>\n",
       "      <td>32+</td>\n",
       "      <td>NaN</td>\n",
       "      <td>1</td>\n",
       "    </tr>\n",
       "    <tr>\n",
       "      <th>4</th>\n",
       "      <td>Micrococcus luteus</td>\n",
       "      <td>green_synthesis from fungus  Aspergillus flavus</td>\n",
       "      <td>Vancomycin</td>\n",
       "      <td>Carboxylic acids and derivatives</td>\n",
       "      <td>30.0</td>\n",
       "      <td>100</td>\n",
       "      <td>5.0</td>\n",
       "      <td>30.0</td>\n",
       "      <td>21.00</td>\n",
       "      <td>spherical</td>\n",
       "      <td>disc_diffusion</td>\n",
       "      <td>0</td>\n",
       "      <td>14</td>\n",
       "      <td>17+2</td>\n",
       "      <td>7.02</td>\n",
       "      <td>1</td>\n",
       "    </tr>\n",
       "    <tr>\n",
       "      <th>...</th>\n",
       "      <td>...</td>\n",
       "      <td>...</td>\n",
       "      <td>...</td>\n",
       "      <td>...</td>\n",
       "      <td>...</td>\n",
       "      <td>...</td>\n",
       "      <td>...</td>\n",
       "      <td>...</td>\n",
       "      <td>...</td>\n",
       "      <td>...</td>\n",
       "      <td>...</td>\n",
       "      <td>...</td>\n",
       "      <td>...</td>\n",
       "      <td>...</td>\n",
       "      <td>...</td>\n",
       "      <td>...</td>\n",
       "    </tr>\n",
       "    <tr>\n",
       "      <th>878</th>\n",
       "      <td>Staphylococcus aureus</td>\n",
       "      <td>green_synthesis using C. zylinicum aqueous ext...</td>\n",
       "      <td>NaN</td>\n",
       "      <td>NaN</td>\n",
       "      <td>NaN</td>\n",
       "      <td>NaN</td>\n",
       "      <td>10.0</td>\n",
       "      <td>78.9</td>\n",
       "      <td>44.45</td>\n",
       "      <td>spherical</td>\n",
       "      <td>MIC</td>\n",
       "      <td>NaN</td>\n",
       "      <td>4.5</td>\n",
       "      <td>NaN</td>\n",
       "      <td>NaN</td>\n",
       "      <td>0</td>\n",
       "    </tr>\n",
       "    <tr>\n",
       "      <th>879</th>\n",
       "      <td>Acinetobacter baumanii</td>\n",
       "      <td>green_synthesis using C. zylinicum aqueous ext...</td>\n",
       "      <td>NaN</td>\n",
       "      <td>NaN</td>\n",
       "      <td>NaN</td>\n",
       "      <td>NaN</td>\n",
       "      <td>10.0</td>\n",
       "      <td>78.9</td>\n",
       "      <td>44.45</td>\n",
       "      <td>spherical</td>\n",
       "      <td>MIC</td>\n",
       "      <td>NaN</td>\n",
       "      <td>5.7</td>\n",
       "      <td>NaN</td>\n",
       "      <td>NaN</td>\n",
       "      <td>0</td>\n",
       "    </tr>\n",
       "    <tr>\n",
       "      <th>880</th>\n",
       "      <td>Enterococcus faecalis</td>\n",
       "      <td>green_synthesis using extract of Klebsiella pn...</td>\n",
       "      <td>NaN</td>\n",
       "      <td>NaN</td>\n",
       "      <td>NaN</td>\n",
       "      <td>10</td>\n",
       "      <td>20.0</td>\n",
       "      <td>20.0</td>\n",
       "      <td>20.00</td>\n",
       "      <td>spherical</td>\n",
       "      <td>disc_diffusion</td>\n",
       "      <td>NaN</td>\n",
       "      <td>10</td>\n",
       "      <td>NaN</td>\n",
       "      <td>NaN</td>\n",
       "      <td>0</td>\n",
       "    </tr>\n",
       "    <tr>\n",
       "      <th>881</th>\n",
       "      <td>Enterococcus faecalis</td>\n",
       "      <td>green_synthesis using extract of Klebsiella pn...</td>\n",
       "      <td>NaN</td>\n",
       "      <td>NaN</td>\n",
       "      <td>NaN</td>\n",
       "      <td>20</td>\n",
       "      <td>20.0</td>\n",
       "      <td>20.0</td>\n",
       "      <td>20.00</td>\n",
       "      <td>spherical</td>\n",
       "      <td>disc_diffusion</td>\n",
       "      <td>NaN</td>\n",
       "      <td>18</td>\n",
       "      <td>NaN</td>\n",
       "      <td>NaN</td>\n",
       "      <td>0</td>\n",
       "    </tr>\n",
       "    <tr>\n",
       "      <th>882</th>\n",
       "      <td>Enterococcus faecalis</td>\n",
       "      <td>green_synthesis using extract of Klebsiella pn...</td>\n",
       "      <td>NaN</td>\n",
       "      <td>NaN</td>\n",
       "      <td>NaN</td>\n",
       "      <td>30</td>\n",
       "      <td>20.0</td>\n",
       "      <td>20.0</td>\n",
       "      <td>20.00</td>\n",
       "      <td>spherical</td>\n",
       "      <td>disc_diffusion</td>\n",
       "      <td>NaN</td>\n",
       "      <td>23</td>\n",
       "      <td>NaN</td>\n",
       "      <td>NaN</td>\n",
       "      <td>0</td>\n",
       "    </tr>\n",
       "  </tbody>\n",
       "</table>\n",
       "<p>883 rows × 16 columns</p>\n",
       "</div>"
      ],
      "text/plain": [
       "                   Bacteria  \\\n",
       "0          Escherichia coli   \n",
       "1          Escherichia coli   \n",
       "2          Escherichia coli   \n",
       "3          Escherichia coli   \n",
       "4        Micrococcus luteus   \n",
       "..                      ...   \n",
       "878   Staphylococcus aureus   \n",
       "879  Acinetobacter baumanii   \n",
       "880   Enterococcus faecalis   \n",
       "881   Enterococcus faecalis   \n",
       "882   Enterococcus faecalis   \n",
       "\n",
       "                                          NP_Synthesis         Drug  \\\n",
       "0                chem_synthesis_reduction_by_D_maltose  Amoxicillin   \n",
       "1                chem_synthesis_reduction_by_D_maltose   Penicillin   \n",
       "2                chem_synthesis_reduction_by_D_maltose  Amoxicillin   \n",
       "3                chem_synthesis_reduction_by_D_maltose   Penicillin   \n",
       "4      green_synthesis from fungus  Aspergillus flavus   Vancomycin   \n",
       "..                                                 ...          ...   \n",
       "878  green_synthesis using C. zylinicum aqueous ext...          NaN   \n",
       "879  green_synthesis using C. zylinicum aqueous ext...          NaN   \n",
       "880  green_synthesis using extract of Klebsiella pn...          NaN   \n",
       "881  green_synthesis using extract of Klebsiella pn...          NaN   \n",
       "882  green_synthesis using extract of Klebsiella pn...          NaN   \n",
       "\n",
       "                 Drug_class_drug_bank  Drug_dose NP_concentration  \\\n",
       "0                             Lactams        NaN              NaN   \n",
       "1    Carboxylic acids and derivatives        NaN              NaN   \n",
       "2                             Lactams        NaN              NaN   \n",
       "3    Carboxylic acids and derivatives        NaN              NaN   \n",
       "4    Carboxylic acids and derivatives       30.0              100   \n",
       "..                                ...        ...              ...   \n",
       "878                               NaN        NaN              NaN   \n",
       "879                               NaN        NaN              NaN   \n",
       "880                               NaN        NaN               10   \n",
       "881                               NaN        NaN               20   \n",
       "882                               NaN        NaN               30   \n",
       "\n",
       "     NP size_min  NP size_max  NP size_avg      shape          method  \\\n",
       "0            4.0         10.0         8.00  spherical             MIC   \n",
       "1            4.0         10.0         8.00  spherical             MIC   \n",
       "2           15.0         30.0        28.00  spherical             MIC   \n",
       "3           15.0         30.0        28.00  spherical             MIC   \n",
       "4            5.0         30.0        21.00  spherical  disc_diffusion   \n",
       "..           ...          ...          ...        ...             ...   \n",
       "878         10.0         78.9        44.45  spherical             MIC   \n",
       "879         10.0         78.9        44.45  spherical             MIC   \n",
       "880         20.0         20.0        20.00  spherical  disc_diffusion   \n",
       "881         20.0         20.0        20.00  spherical  disc_diffusion   \n",
       "882         20.0         20.0        20.00  spherical  disc_diffusion   \n",
       "\n",
       "    ZOI_drug ZOI_NP ZOI_drug_NP  fold_increase_in_antibacterial_activity (%)  \\\n",
       "0        32+    6.3         32+                                          NaN   \n",
       "1        32+    6.3         32+                                          NaN   \n",
       "2        32+     25         32+                                          NaN   \n",
       "3        32+     25         32+                                          NaN   \n",
       "4          0     14        17+2                                         7.02   \n",
       "..       ...    ...         ...                                          ...   \n",
       "878      NaN    4.5         NaN                                          NaN   \n",
       "879      NaN    5.7         NaN                                          NaN   \n",
       "880      NaN     10         NaN                                          NaN   \n",
       "881      NaN     18         NaN                                          NaN   \n",
       "882      NaN     23         NaN                                          NaN   \n",
       "\n",
       "     MDR_check  \n",
       "0            1  \n",
       "1            1  \n",
       "2            1  \n",
       "3            1  \n",
       "4            1  \n",
       "..         ...  \n",
       "878          0  \n",
       "879          0  \n",
       "880          0  \n",
       "881          0  \n",
       "882          0  \n",
       "\n",
       "[883 rows x 16 columns]"
      ]
     },
     "execution_count": 612,
     "metadata": {},
     "output_type": "execute_result"
    }
   ],
   "source": [
    "df = pd.read_csv('data.csv', index_col=0).drop(columns=['Unnamed: 0'])\n",
    "df_bac = pd.read_csv('bacterial_descriptors.csv', index_col=0)\n",
    "df_drug = pd.read_csv('drug_descriptors.csv', index_col=0)\n",
    "\n",
    "# Имена категориальных и численных колонок \n",
    "num_cols = ['Drug_dose', \n",
    "            'NP_concentration', 'NP size_min', 'NP size_max', 'NP size_avg', \n",
    "            'ZOI_drug', 'ZOI_NP', 'ZOI_drug_NP', \n",
    "            'fold_increase_in_antibacterial_activity (%)']\n",
    "\n",
    "cat_cols = ['Bacteria', 'NP_Synthesis', 'Drug',\t'Drug_class_drug_bank', 'shape', 'method', 'MDR_check']\n",
    "\n",
    "df"
   ]
  },
  {
   "attachments": {},
   "cell_type": "markdown",
   "metadata": {},
   "source": [
    "# 2 | Предварительная обработка data"
   ]
  },
  {
   "attachments": {},
   "cell_type": "markdown",
   "metadata": {},
   "source": [
    "## Очистка и предварительный анализ численных признаков"
   ]
  },
  {
   "attachments": {},
   "cell_type": "markdown",
   "metadata": {},
   "source": [
    "Чистим от плюсиков."
   ]
  },
  {
   "cell_type": "code",
   "execution_count": 613,
   "metadata": {},
   "outputs": [
    {
     "data": {
      "text/plain": [
       "array([3.200e+01, 0.000e+00, 1.200e+01, 5.000e+02, 2.200e+01, 4.600e+01,\n",
       "       4.800e+01, 4.700e+01, 4.400e+01, 3.000e+01, 2.800e+01, 2.700e+01,\n",
       "       4.000e+01, 2.300e+01, 2.500e+01, 3.400e+01, 2.600e+01, 3.700e+01,\n",
       "       2.900e+01, 3.600e+01, 2.000e+01, 2.100e+01, 2.400e+01, 3.100e+01,\n",
       "       1.000e+03, 2.500e+02, 8.000e+00, 1.400e+01, 1.700e+01, 1.800e+01,\n",
       "       7.000e+00, 3.300e+01, 2.070e+01, 1.500e+01, 1.900e+01, 2.800e+00,\n",
       "       1.100e+01, 1.300e+01, 1.600e+01, 1.730e+01, 1.850e+01, 9.000e+00,\n",
       "       1.000e+01, 6.400e+01,       nan, 7.500e+00, 4.600e-01, 4.000e+00,\n",
       "       1.000e+00, 2.000e+00, 1.250e+02, 1.250e+00, 6.250e-01, 3.125e-01,\n",
       "       2.500e-01, 3.000e-02, 2.500e+00, 1.000e-02, 5.000e-02, 1.000e-01,\n",
       "       5.000e-01, 7.500e-01, 1.280e+02])"
      ]
     },
     "execution_count": 613,
     "metadata": {},
     "output_type": "execute_result"
    }
   ],
   "source": [
    "df['ZOI_drug'] = df['ZOI_drug'].replace('32+', '32').astype('float64')\n",
    "df['ZOI_drug'].unique()"
   ]
  },
  {
   "cell_type": "code",
   "execution_count": 614,
   "metadata": {},
   "outputs": [
    {
     "data": {
      "text/plain": [
       "array([6.300e+00, 2.500e+01, 1.400e+01,       nan, 1.500e+01, 1.300e+01,\n",
       "       6.400e+01, 1.200e+01, 1.600e+01, 1.700e+01, 2.000e+01, 1.350e+01,\n",
       "       2.100e+01, 1.900e+01, 1.000e+01, 2.400e+01, 1.800e+01, 2.200e+01,\n",
       "       3.200e+01, 5.000e+01, 8.000e+00, 1.250e+01, 1.000e+02, 2.500e+00,\n",
       "       5.000e+00, 4.000e+00, 1.100e+01, 5.000e-01, 2.500e-01, 2.000e+00,\n",
       "       1.280e+02, 3.100e-01, 9.000e-02, 4.700e-01, 6.000e+01, 1.600e+02,\n",
       "       1.800e+02, 2.200e+02, 4.000e+01, 1.200e+02, 1.400e+02, 0.000e+00,\n",
       "       2.600e+01, 2.700e+01, 7.000e+00, 9.000e+00, 1.460e+01, 1.560e+01,\n",
       "       1.730e+01, 2.030e+01, 7.800e+00, 8.100e+00, 9.800e+00, 3.000e+01,\n",
       "       3.500e+01, 6.500e+01, 8.000e+01, 2.060e+01, 2.660e+01, 1.040e+00,\n",
       "       2.000e-02, 4.000e+03, 1.055e+01, 1.122e+01, 1.139e+01, 1.157e+01,\n",
       "       9.260e+00, 1.430e+01, 1.530e+01, 2.800e+00, 3.100e+00, 4.500e+00,\n",
       "       5.700e+00, 2.300e+01])"
      ]
     },
     "execution_count": 614,
     "metadata": {},
     "output_type": "execute_result"
    }
   ],
   "source": [
    "df['ZOI_NP'] = df['ZOI_NP'].replace('50+', '50').astype('float64')\n",
    "df['ZOI_NP'].unique()"
   ]
  },
  {
   "cell_type": "code",
   "execution_count": 615,
   "metadata": {},
   "outputs": [
    {
     "data": {
      "text/plain": [
       "array([3.200e+01, 1.700e+01, 1.500e+01, 6.250e+01, 5.000e+01, 4.800e+01,\n",
       "       4.700e+01, 4.400e+01, 4.200e+01, 4.100e+01, 4.000e+01, 3.900e+01,\n",
       "       3.800e+01, 3.700e+01, 3.600e+01, 3.500e+01, 3.400e+01, 3.125e+01,\n",
       "       3.100e+01, 3.000e+01, 2.900e+01, 2.800e+01, 2.700e+01, 2.600e+01,\n",
       "       2.500e+01, 2.400e+01, 2.300e+01, 2.200e+01, 2.150e+01, 2.100e+01,\n",
       "       2.080e+01, 2.000e+01, 1.990e+01, 1.900e+01, 1.850e+01, 1.800e+01,\n",
       "       1.600e+01, 1.530e+01, 1.475e+01, 1.433e+01, 1.400e+01, 1.300e+01,\n",
       "       1.288e+01, 1.280e+01, 1.276e+01, 1.257e+01, 1.245e+01, 1.200e+01,\n",
       "       1.167e+01, 1.164e+01, 1.145e+01, 1.143e+01, 1.100e+01, 1.098e+01,\n",
       "       1.062e+01, 1.034e+01, 1.000e+01, 9.740e+00, 9.000e+00, 8.000e+00,\n",
       "       7.810e+00, 7.000e+00, 4.800e+00, 4.000e+00, 2.000e+00, 1.750e+00,\n",
       "       1.000e+00, 9.700e-01, 8.000e-01, 6.000e-01, 5.000e-01, 4.000e-01,\n",
       "       3.000e-01, 2.500e-01, 1.250e-01, 1.000e-01, 3.000e-02, 0.000e+00,\n",
       "             nan])"
      ]
     },
     "execution_count": 615,
     "metadata": {},
     "output_type": "execute_result"
    }
   ],
   "source": [
    "df['ZOI_drug_NP'] = df['ZOI_drug_NP'].replace({'32+': '32', '17+2': '17'}).astype('float64')\n",
    "df['ZOI_drug_NP'].unique()"
   ]
  },
  {
   "attachments": {},
   "cell_type": "markdown",
   "metadata": {},
   "source": [
    "В столбце ```NP_concentration``` обнаружились записи, где сразу три числа"
   ]
  },
  {
   "cell_type": "code",
   "execution_count": 616,
   "metadata": {},
   "outputs": [
    {
     "data": {
      "text/plain": [
       "array([nan, '100', '30', '170/85/42.5', '170/85/42.33', '170/85/42.15',\n",
       "       '170/85/42.24', '170/85/42.20', '170/85/42.11', '10',\n",
       "       '170/85/42.27', '170/85/42.13', '170/85/42.34', '170/85/42.8',\n",
       "       '170/85/42.32', '170/85/42.23', '170/85/42.12', '170/85/42.25',\n",
       "       '170/85/42.10', '170/85/42.29', '170/85/42.26', '170/85/42.28',\n",
       "       '170/85/42.16', '170/85/42.6', '170/85/42.31', '170/85/42.9',\n",
       "       '170/85/42.19', '170/85/42.18', '170/85/42.30', '170/85/42.17',\n",
       "       '170/85/42.21', '170/85/42.14', '20', '170/85/42.7',\n",
       "       '170/85/42.22', '50', '25', '102', '104', '170', '85', '42.5',\n",
       "       '21.25', '10.625', '2.65', '1.33', '0.66', '0.31', '1000', '500',\n",
       "       '300'], dtype=object)"
      ]
     },
     "execution_count": 616,
     "metadata": {},
     "output_type": "execute_result"
    }
   ],
   "source": [
    "df['NP_concentration'].unique()"
   ]
  },
  {
   "attachments": {},
   "cell_type": "markdown",
   "metadata": {},
   "source": [
    "Проверим, что нет ничего особенного в строках с ними"
   ]
  },
  {
   "cell_type": "code",
   "execution_count": 617,
   "metadata": {},
   "outputs": [
    {
     "data": {
      "text/html": [
       "<div>\n",
       "<style scoped>\n",
       "    .dataframe tbody tr th:only-of-type {\n",
       "        vertical-align: middle;\n",
       "    }\n",
       "\n",
       "    .dataframe tbody tr th {\n",
       "        vertical-align: top;\n",
       "    }\n",
       "\n",
       "    .dataframe thead th {\n",
       "        text-align: right;\n",
       "    }\n",
       "</style>\n",
       "<table border=\"1\" class=\"dataframe\">\n",
       "  <thead>\n",
       "    <tr style=\"text-align: right;\">\n",
       "      <th></th>\n",
       "      <th>Bacteria</th>\n",
       "      <th>NP_Synthesis</th>\n",
       "      <th>Drug</th>\n",
       "      <th>Drug_class_drug_bank</th>\n",
       "      <th>Drug_dose</th>\n",
       "      <th>NP_concentration</th>\n",
       "      <th>NP size_min</th>\n",
       "      <th>NP size_max</th>\n",
       "      <th>NP size_avg</th>\n",
       "      <th>shape</th>\n",
       "      <th>method</th>\n",
       "      <th>ZOI_drug</th>\n",
       "      <th>ZOI_NP</th>\n",
       "      <th>ZOI_drug_NP</th>\n",
       "      <th>fold_increase_in_antibacterial_activity (%)</th>\n",
       "      <th>MDR_check</th>\n",
       "    </tr>\n",
       "  </thead>\n",
       "  <tbody>\n",
       "    <tr>\n",
       "      <th>73</th>\n",
       "      <td>Salmonella enterica</td>\n",
       "      <td>green_synthesis using Ulva fasciata</td>\n",
       "      <td>Neomycin</td>\n",
       "      <td>NC</td>\n",
       "      <td>30.0</td>\n",
       "      <td>170/85/42.29</td>\n",
       "      <td>14.45</td>\n",
       "      <td>15.55</td>\n",
       "      <td>15.0</td>\n",
       "      <td>spherical</td>\n",
       "      <td>disc_diffusion</td>\n",
       "      <td>14.0</td>\n",
       "      <td>NaN</td>\n",
       "      <td>28.0</td>\n",
       "      <td>NaN</td>\n",
       "      <td>0</td>\n",
       "    </tr>\n",
       "  </tbody>\n",
       "</table>\n",
       "</div>"
      ],
      "text/plain": [
       "               Bacteria                          NP_Synthesis      Drug  \\\n",
       "73  Salmonella enterica  green_synthesis using Ulva fasciata   Neomycin   \n",
       "\n",
       "   Drug_class_drug_bank  Drug_dose NP_concentration  NP size_min  NP size_max  \\\n",
       "73                   NC       30.0     170/85/42.29        14.45        15.55   \n",
       "\n",
       "    NP size_avg      shape          method  ZOI_drug  ZOI_NP  ZOI_drug_NP  \\\n",
       "73         15.0  spherical  disc_diffusion      14.0     NaN         28.0   \n",
       "\n",
       "    fold_increase_in_antibacterial_activity (%)  MDR_check  \n",
       "73                                          NaN          0  "
      ]
     },
     "execution_count": 617,
     "metadata": {},
     "output_type": "execute_result"
    }
   ],
   "source": [
    "df[df['NP_concentration'] == '170/85/42.29']"
   ]
  },
  {
   "attachments": {},
   "cell_type": "markdown",
   "metadata": {},
   "source": [
    "Возможно, это проведено три измерения с разными концентрациями НЧ, и в таргетные ячейки записано среднее. Добавим столбец \"эксперимент с разными концентрациями\": ```bool```"
   ]
  },
  {
   "cell_type": "code",
   "execution_count": 618,
   "metadata": {},
   "outputs": [
    {
     "data": {
      "text/plain": [
       "various_conc_tested\n",
       "False    853\n",
       "True      30\n",
       "Name: count, dtype: int64"
      ]
     },
     "execution_count": 618,
     "metadata": {},
     "output_type": "execute_result"
    }
   ],
   "source": [
    "df['various_conc_tested'] = np.array(['/' in str(x) for x in df['NP_concentration']])\n",
    "df.loc[df['various_conc_tested'] == True, 'NP_concentration'] = 170\n",
    "df['various_conc_tested'].value_counts()"
   ]
  },
  {
   "cell_type": "code",
   "execution_count": 619,
   "metadata": {},
   "outputs": [
    {
     "data": {
      "text/plain": [
       "Drug_dose                                      float64\n",
       "NP_concentration                                object\n",
       "NP size_min                                    float64\n",
       "NP size_max                                    float64\n",
       "NP size_avg                                    float64\n",
       "ZOI_drug                                       float64\n",
       "ZOI_NP                                         float64\n",
       "ZOI_drug_NP                                    float64\n",
       "fold_increase_in_antibacterial_activity (%)    float64\n",
       "dtype: object"
      ]
     },
     "execution_count": 619,
     "metadata": {},
     "output_type": "execute_result"
    }
   ],
   "source": [
    "df[num_cols].dtypes"
   ]
  },
  {
   "attachments": {},
   "cell_type": "markdown",
   "metadata": {},
   "source": [
    "Численные фичи в порядке"
   ]
  },
  {
   "attachments": {},
   "cell_type": "markdown",
   "metadata": {},
   "source": [
    "## Очистка и предварительный анализ строковых признаков"
   ]
  },
  {
   "attachments": {},
   "cell_type": "markdown",
   "metadata": {},
   "source": [
    "Ищем проблемы в строковых фичах:"
   ]
  },
  {
   "cell_type": "code",
   "execution_count": 620,
   "metadata": {},
   "outputs": [
    {
     "name": "stdout",
     "output_type": "stream",
     "text": [
      "Bacteria :\n",
      " ['Acinetobacter baumanii', 'Actinobacillus pleuropneumoniae ', 'Bacillus cereus', 'Bacillus spp.        ', 'Bacillus subtilis', 'Candida albicans', 'Candida glabrata', 'Candida glochares', 'Candida saitoana', 'Enterobacter cloacae ', 'Enterococcus faecalis', 'Enterococcus faecium', 'Escherichia coli', 'Haemophilus influenzae', 'Klebsiella pneumoniae', 'Klebsiella sp.', 'Listeria monocytogenes', 'Micrococcus luteus', 'Neisseria mucosa', 'Pasteurella Multocida', 'Proteus mirabilis', 'Proteus sp.', 'Proteus vulgaris', 'Pseudomonas aeruginosa', 'Pseudomonas koreensis', 'Salmonella  typhi', 'Salmonella Paratyphi', 'Salmonella enterica', 'Salmonella typhimurium ', 'Serratia marcescens', 'Serratia odorifera', 'Staphylococcus aureus', 'Staphylococcus epidermidis', 'Streptococcus mutans', 'Streptococcus pneumoniae', 'Streptococcus uberis', 'Vibrio cholerae', 'Vibrio parahaemolyticus'] \n",
      "\n",
      "NP_Synthesis :\n",
      " ['chem_synthesis', 'chem_synthesis (purchased from Vector Vita Ltd, Novosibirsk, Russia', 'chem_synthesis by silver nitrate', 'chem_synthesis_reduction_by_D_maltose', 'chemical_synthesis (East Nano Chemicals Co.)', 'chemical_synthesis (sigma aldrich, 730785)', 'chemical_synthesis (sigma aldrich, 730807)', 'chemical_synthesis using sodium borohydride and silver ions', 'green_synthesis  by Bacillus sp.', 'green_synthesis  using fungus Trichoderma', 'green_synthesis by Klebsiella pneumoniae', 'green_synthesis from fungus  Aspergillus flavus', 'green_synthesis from fungus  Phytophthora infestans', 'green_synthesis from fungus Trichoderma viride', 'green_synthesis using C. zylinicum aqueous extracts', 'green_synthesis using Dioscorea bulbifera tuber extract ', 'green_synthesis using Ulva fasciata ', 'green_synthesis using Withania coagulans fruits extract', 'green_synthesis using aqueous Cassiarox burghii leaf extract', 'green_synthesis using extract of Klebsiella pneumoniae', 'green_synthesis using extract of acinetobacter baumannii', 'green_synthesis using extract of corn leaves', 'green_synthesis using the methanolic extracts of marine algae (S. wightii)', 'green_synthesis using the methanolic extracts of marine algae (V. pachynema)'] \n",
      "\n",
      "Drug :\n",
      " ['Amikacin', 'Amoxicillin', 'Amphotericin B', 'Ampicillin', 'Azithromycin', 'Aztreonam', 'Biapenem', 'Carbenicillin ', 'Cefepime', 'Cefixime ', 'Cefotaxime', 'Ceftazidime', 'Ceftriaxone', 'Cefuroxime', 'Cephalexin ', 'Chloramphenicol', 'Ciprofloxacin', 'Clindamycin ', 'Co-trimoxazole', 'Doxycycline', 'Erythromycin', 'Faropenem', 'Fosfomycin', 'Fusidic acid ', 'Gentamicin', 'Imipenem', 'Kanamycin', 'Levofloxacin', 'Nalidixic acid', 'Neomycin', 'Nitrofurantoin', 'Oxacillin', 'Oxytetracycline', 'Penicillin', 'Piperacillin', 'Polymyxin', 'Rifampicin', 'Streptomycin', 'Tetracycline', 'Trimethoprim', 'Vancomycin', 'cefazolin', 'ciprofloxacin', 'colistin ', 'mupirocin'] \n",
      "\n",
      "Drug_class_drug_bank :\n",
      " ['\\r\\nDiazanaphthalenes', '\\r\\nOrganic phosphonic acids and derivatives', '\\r\\nOrganooxygen compounds', '\\r\\nQuinolines and derivatives', '\\r\\nSteroids and steroid derivatives', '\\r\\nTetracyclines', 'Aminoglycosides', 'Azolidines', 'Benzene and substituted derivatives', 'Benzene and substituted derivatives; Phenol ethers', 'Biapenem', 'Carboxylic acids and derivatives', 'Fatty Acyls', 'Lactams', 'Macrolactams', 'NC', 'Organooxygen compounds', 'Phenol ethers', 'Tetracyclines'] \n",
      "\n",
      "shape :\n",
      " ['nanorods and triangles', 'spherical', 'triangular'] \n",
      "\n",
      "method :\n",
      " ['MBC', 'MIC', 'disc_diffusion', 'well_diffusion'] \n",
      "\n",
      "MDR_check :\n",
      " [0, 1] \n",
      "\n"
     ]
    }
   ],
   "source": [
    "for i in cat_cols:\n",
    "    print(i, ':\\n', sorted(df[i].dropna().unique().tolist()),'\\n')"
   ]
  },
  {
   "attachments": {},
   "cell_type": "markdown",
   "metadata": {},
   "source": [
    "0) Куча лишних пробелов ,нужен ```str.strip```"
   ]
  },
  {
   "cell_type": "code",
   "execution_count": 621,
   "metadata": {},
   "outputs": [],
   "source": [
    "# strip на все строки, drug с маленькой буквы, чтобы унифицировать\n",
    "df = df.applymap(lambda x: x.strip() if isinstance(x, str) else x)"
   ]
  },
  {
   "attachments": {},
   "cell_type": "markdown",
   "metadata": {},
   "source": [
    "1) Bacteria: слишком много опечаток"
   ]
  },
  {
   "cell_type": "code",
   "execution_count": 622,
   "metadata": {},
   "outputs": [],
   "source": [
    "df['Bacteria'] = df['Bacteria'].replace({\n",
    "    'Acinetobacter baumanii': 'Acinetobacter baumannii',\n",
    "    'Bacillus spp.': 'Bacillus sp.',\n",
    "    'Salmonella  typhi': 'Salmonella typhi'\n",
    "})"
   ]
  },
  {
   "attachments": {},
   "cell_type": "markdown",
   "metadata": {},
   "source": [
    "2) NP_Synthesis: куча лишней инфы, скорее всего окажется важным зеленый/химический синтез, и то не факт"
   ]
  },
  {
   "cell_type": "code",
   "execution_count": 623,
   "metadata": {},
   "outputs": [],
   "source": [
    "df['NP_Synthesis'] = df['NP_Synthesis'].replace({'chem_synthesis.*': 'chem_synthesis', \n",
    "                                                 'chemical_synthesis.*': 'chem_synthesis',\n",
    "                                                 'green_synthesis.*': 'green_synthesis'}, regex=True)"
   ]
  },
  {
   "attachments": {},
   "cell_type": "markdown",
   "metadata": {},
   "source": [
    "3) Drug: некоторые написаны с маленькой буквы"
   ]
  },
  {
   "cell_type": "code",
   "execution_count": 624,
   "metadata": {},
   "outputs": [],
   "source": [
    "df['Drug'] = df['Drug'].map(lambda x: x.lower() if isinstance(x, str) else x)"
   ]
  },
  {
   "attachments": {},
   "cell_type": "markdown",
   "metadata": {},
   "source": [
    "4) Drug_class_drug_bank: есть два drug'a, которые отнесены к двум классам сразу. Посмотрели глазами, решили, что можно оставить один класс, потеряем не много"
   ]
  },
  {
   "cell_type": "code",
   "execution_count": 625,
   "metadata": {},
   "outputs": [
    {
     "name": "stdout",
     "output_type": "stream",
     "text": [
      "                 Bacteria     NP_Synthesis            Drug  \\\n",
      "26       Escherichia coli  green_synthesis  co-trimoxazole   \n",
      "31  Staphylococcus aureus  green_synthesis  co-trimoxazole   \n",
      "\n",
      "                                 Drug_class_drug_bank  Drug_dose  \\\n",
      "26  Benzene and substituted derivatives; Phenol et...        2.0   \n",
      "31  Benzene and substituted derivatives; Phenol et...        2.0   \n",
      "\n",
      "   NP_concentration  NP size_min  NP size_max  NP size_avg      shape  \\\n",
      "26               10          5.0         32.0         22.5  spherical   \n",
      "31               10          5.0         32.0         22.5  spherical   \n",
      "\n",
      "            method  ZOI_drug  ZOI_NP  ZOI_drug_NP  \\\n",
      "26  disc_diffusion      37.0     NaN         37.0   \n",
      "31  disc_diffusion      36.0     NaN         36.0   \n",
      "\n",
      "    fold_increase_in_antibacterial_activity (%)  MDR_check  \\\n",
      "26                                          0.0          0   \n",
      "31                                          0.0          0   \n",
      "\n",
      "    various_conc_tested  \n",
      "26                False  \n",
      "31                False  \n"
     ]
    }
   ],
   "source": [
    "print(df[df['Drug_class_drug_bank'] == 'Benzene and substituted derivatives; Phenol ethers'])\n",
    "df['Drug_class_drug_bank'] = df['Drug_class_drug_bank'].replace('Benzene and substituted derivatives; Phenol ethers', 'Benzene and substituted derivatives')"
   ]
  },
  {
   "attachments": {},
   "cell_type": "markdown",
   "metadata": {},
   "source": [
    "Теперь все хорошо"
   ]
  },
  {
   "cell_type": "code",
   "execution_count": 626,
   "metadata": {},
   "outputs": [
    {
     "name": "stdout",
     "output_type": "stream",
     "text": [
      "Bacteria :\n",
      " ['Acinetobacter baumannii', 'Actinobacillus pleuropneumoniae', 'Bacillus cereus', 'Bacillus sp.', 'Bacillus subtilis', 'Candida albicans', 'Candida glabrata', 'Candida glochares', 'Candida saitoana', 'Enterobacter cloacae', 'Enterococcus faecalis', 'Enterococcus faecium', 'Escherichia coli', 'Haemophilus influenzae', 'Klebsiella pneumoniae', 'Klebsiella sp.', 'Listeria monocytogenes', 'Micrococcus luteus', 'Neisseria mucosa', 'Pasteurella Multocida', 'Proteus mirabilis', 'Proteus sp.', 'Proteus vulgaris', 'Pseudomonas aeruginosa', 'Pseudomonas koreensis', 'Salmonella Paratyphi', 'Salmonella enterica', 'Salmonella typhi', 'Salmonella typhimurium', 'Serratia marcescens', 'Serratia odorifera', 'Staphylococcus aureus', 'Staphylococcus epidermidis', 'Streptococcus mutans', 'Streptococcus pneumoniae', 'Streptococcus uberis', 'Vibrio cholerae', 'Vibrio parahaemolyticus'] \n",
      " 38\n",
      "NP_Synthesis :\n",
      " ['chem_synthesis', 'green_synthesis'] \n",
      " 2\n",
      "Drug :\n",
      " ['amikacin', 'amoxicillin', 'amphotericin b', 'ampicillin', 'azithromycin', 'aztreonam', 'biapenem', 'carbenicillin', 'cefazolin', 'cefepime', 'cefixime', 'cefotaxime', 'ceftazidime', 'ceftriaxone', 'cefuroxime', 'cephalexin', 'chloramphenicol', 'ciprofloxacin', 'clindamycin', 'co-trimoxazole', 'colistin', 'doxycycline', 'erythromycin', 'faropenem', 'fosfomycin', 'fusidic acid', 'gentamicin', 'imipenem', 'kanamycin', 'levofloxacin', 'mupirocin', 'nalidixic acid', 'neomycin', 'nitrofurantoin', 'oxacillin', 'oxytetracycline', 'penicillin', 'piperacillin', 'polymyxin', 'rifampicin', 'streptomycin', 'tetracycline', 'trimethoprim', 'vancomycin'] \n",
      " 44\n",
      "Drug_class_drug_bank :\n",
      " ['Aminoglycosides', 'Azolidines', 'Benzene and substituted derivatives', 'Biapenem', 'Carboxylic acids and derivatives', 'Diazanaphthalenes', 'Fatty Acyls', 'Lactams', 'Macrolactams', 'NC', 'Organic phosphonic acids and derivatives', 'Organooxygen compounds', 'Phenol ethers', 'Quinolines and derivatives', 'Steroids and steroid derivatives', 'Tetracyclines'] \n",
      " 16\n",
      "shape :\n",
      " ['nanorods and triangles', 'spherical', 'triangular'] \n",
      " 3\n",
      "method :\n",
      " ['MBC', 'MIC', 'disc_diffusion', 'well_diffusion'] \n",
      " 4\n",
      "MDR_check :\n",
      " [0, 1] \n",
      " 2\n"
     ]
    }
   ],
   "source": [
    "for i in cat_cols:\n",
    "    print(i, ':\\n', sorted(df[i].dropna().unique().tolist()),'\\n', len(sorted(df[i].dropna().unique().tolist())))"
   ]
  },
  {
   "attachments": {},
   "cell_type": "markdown",
   "metadata": {},
   "source": [
    "## Избавляемся от NaN"
   ]
  },
  {
   "cell_type": "code",
   "execution_count": 627,
   "metadata": {},
   "outputs": [
    {
     "name": "stdout",
     "output_type": "stream",
     "text": [
      "Bacteria - nans: 0\n",
      "NP_Synthesis - nans: 0\n",
      "Drug - nans: 241\n",
      "Drug_class_drug_bank - nans: 241\n",
      "Drug_dose - nans: 306\n",
      "NP_concentration - nans: 250\n",
      "NP size_min - nans: 0\n",
      "NP size_max - nans: 0\n",
      "NP size_avg - nans: 0\n",
      "shape - nans: 0\n",
      "method - nans: 0\n",
      "ZOI_drug - nans: 256\n",
      "ZOI_NP - nans: 442\n",
      "ZOI_drug_NP - nans: 299\n",
      "fold_increase_in_antibacterial_activity (%) - nans: 462\n",
      "MDR_check - nans: 0\n",
      "various_conc_tested - nans: 0\n"
     ]
    }
   ],
   "source": [
    "for col in df:\n",
    "    print(f'{col} - nans: {df[col].isna().sum()}')"
   ]
  },
  {
   "attachments": {},
   "cell_type": "markdown",
   "metadata": {},
   "source": [
    "### ```ZOI_drug_NP```\n",
    "target, вынуждены выбросить, остается 584 сэмпла"
   ]
  },
  {
   "cell_type": "code",
   "execution_count": 628,
   "metadata": {},
   "outputs": [
    {
     "name": "stdout",
     "output_type": "stream",
     "text": [
      "Remaining rows: 584\n"
     ]
    }
   ],
   "source": [
    "df = df[~df['ZOI_drug_NP'].isna()]\n",
    "print('Remaining rows:', df.shape[0])"
   ]
  },
  {
   "attachments": {},
   "cell_type": "markdown",
   "metadata": {},
   "source": [
    "### ```Drug_dose```\n",
    "смотрим на значения, там сильный разброс, но явно есть порядки 1, 10 и 100, поэтому заменим его на логарифм, а для нанов применим KNN"
   ]
  },
  {
   "cell_type": "code",
   "execution_count": 629,
   "metadata": {},
   "outputs": [
    {
     "data": {
      "text/plain": [
       "array([  nan,  30. ,  10. , 500. ,  15. ,  20. ,   2. ,   1. ,  40. ,\n",
       "        50. ,   5. , 100. , 300. ,  25. ,   2.5])"
      ]
     },
     "execution_count": 629,
     "metadata": {},
     "output_type": "execute_result"
    }
   ],
   "source": [
    "df['Drug_dose'].unique()"
   ]
  },
  {
   "cell_type": "code",
   "execution_count": 630,
   "metadata": {},
   "outputs": [],
   "source": [
    "df['lg_Drug_dose'] = np.log10(df['Drug_dose'])\n",
    "df.drop(columns=['Drug_dose'], inplace=True)"
   ]
  },
  {
   "cell_type": "code",
   "execution_count": 631,
   "metadata": {},
   "outputs": [],
   "source": [
    "num_cols.pop(num_cols.index('Drug_dose'))\n",
    "num_cols.append('lg_Drug_dose')"
   ]
  },
  {
   "cell_type": "code",
   "execution_count": 632,
   "metadata": {},
   "outputs": [
    {
     "data": {
      "text/plain": [
       "array([       nan, 1.47712125, 1.        , 2.69897   , 1.17609126,\n",
       "       1.30103   , 0.30103   , 0.        , 1.60205999, 1.69897   ,\n",
       "       0.69897   , 2.        , 2.47712125, 1.39794001, 0.39794001])"
      ]
     },
     "execution_count": 632,
     "metadata": {},
     "output_type": "execute_result"
    }
   ],
   "source": [
    "df['lg_Drug_dose'].unique()"
   ]
  },
  {
   "attachments": {},
   "cell_type": "markdown",
   "metadata": {},
   "source": [
    "KNN будем обучать на таких-то фичах, ..."
   ]
  },
  {
   "cell_type": "code",
   "execution_count": 633,
   "metadata": {},
   "outputs": [],
   "source": [
    "# Применение KNN"
   ]
  },
  {
   "attachments": {},
   "cell_type": "markdown",
   "metadata": {},
   "source": [
    "### ```NP_concentration``` \n",
    "вот такая гистограмма, можно заменить на моду, почти 50% всех экспериментов с одним значением."
   ]
  },
  {
   "cell_type": "code",
   "execution_count": 634,
   "metadata": {},
   "outputs": [],
   "source": [
    "#TODO: вставить гистограмму"
   ]
  },
  {
   "cell_type": "code",
   "execution_count": 635,
   "metadata": {},
   "outputs": [
    {
     "data": {
      "text/plain": [
       "0       30\n",
       "1       30\n",
       "2       30\n",
       "3       30\n",
       "4      100\n",
       "      ... \n",
       "579     30\n",
       "580     30\n",
       "581     30\n",
       "582     30\n",
       "583     30\n",
       "Name: NP_concentration, Length: 584, dtype: object"
      ]
     },
     "execution_count": 635,
     "metadata": {},
     "output_type": "execute_result"
    }
   ],
   "source": [
    "mode_conc = df['NP_concentration'].mode()[0]\n",
    "df['NP_concentration'].fillna(mode_conc, inplace=True)\n",
    "df['NP_concentration']"
   ]
  },
  {
   "attachments": {},
   "cell_type": "markdown",
   "metadata": {},
   "source": [
    "### ```ZOI_NP```\n",
    "422/583 NaN, разумнее будет выкинуть, не глядя на распределение и важность и ни о чем не жалея"
   ]
  },
  {
   "cell_type": "code",
   "execution_count": 636,
   "metadata": {},
   "outputs": [],
   "source": [
    "df.drop(columns=['ZOI_NP'], inplace=True)"
   ]
  },
  {
   "attachments": {},
   "cell_type": "markdown",
   "metadata": {},
   "source": [
    "###  ```ZOI_drug```\n",
    "Заменим по KNN, обучив на свойствах соответствующих лекарств и бактерий"
   ]
  },
  {
   "cell_type": "code",
   "execution_count": null,
   "metadata": {},
   "outputs": [],
   "source": []
  },
  {
   "attachments": {},
   "cell_type": "markdown",
   "metadata": {},
   "source": [
    "### ```fold_increase_in_antibacterial_activity (%)```\n",
    "ЧО ЭТА???"
   ]
  },
  {
   "attachments": {},
   "cell_type": "markdown",
   "metadata": {},
   "source": [
    "Теперь чисто!"
   ]
  },
  {
   "cell_type": "code",
   "execution_count": 637,
   "metadata": {},
   "outputs": [
    {
     "name": "stdout",
     "output_type": "stream",
     "text": [
      "Bacteria - nans: 0\n",
      "NP_Synthesis - nans: 0\n",
      "Drug - nans: 0\n",
      "Drug_class_drug_bank - nans: 0\n",
      "NP_concentration - nans: 0\n",
      "NP size_min - nans: 0\n",
      "NP size_max - nans: 0\n",
      "NP size_avg - nans: 0\n",
      "shape - nans: 0\n",
      "method - nans: 0\n",
      "ZOI_drug - nans: 15\n",
      "ZOI_drug_NP - nans: 0\n",
      "fold_increase_in_antibacterial_activity (%) - nans: 163\n",
      "MDR_check - nans: 0\n",
      "various_conc_tested - nans: 0\n",
      "lg_Drug_dose - nans: 119\n",
      "--------------\n",
      "Rows: 584\n"
     ]
    }
   ],
   "source": [
    "for col in df:\n",
    "    print(f'{col} - nans: {df[col].isna().sum()}')\n",
    "print('--------------\\nRows:', df.shape[0])"
   ]
  },
  {
   "attachments": {},
   "cell_type": "markdown",
   "metadata": {},
   "source": [
    "# 3 | Предварительная обработка drug_descriptors "
   ]
  },
  {
   "cell_type": "code",
   "execution_count": 638,
   "metadata": {},
   "outputs": [],
   "source": [
    "# Выкидываем, не понадобится: есть смайлс\n",
    "df_drug.drop(columns=['prefered_name', 'chemID'], inplace=True)\n",
    "\n",
    "# Все с маленькой буквы, strip на строки для очистки\n",
    "df_drug = df_drug.applymap(lambda x: x.strip() if isinstance(x, str) else x)\n",
    "df_drug['drug'] = df_drug['drug'].map(lambda x: x.lower() if isinstance(x, str) else x)\n",
    "df_drug = df_drug.rename(columns={'drug': 'Drug', 'smiles': 'Smiles'})\n",
    "\n",
    "# Откуда-то взялись дубликаты, выкидываем не думая\n",
    "df_drug.drop_duplicates(inplace=True)\n",
    "df_drug = df_drug.reset_index(drop=True)"
   ]
  },
  {
   "attachments": {},
   "cell_type": "markdown",
   "metadata": {},
   "source": [
    "Проверяем, что в БД drug есть все вещества, какие есть в data"
   ]
  },
  {
   "cell_type": "code",
   "execution_count": 639,
   "metadata": {},
   "outputs": [
    {
     "data": {
      "text/plain": [
       "{'neomycin'}"
      ]
     },
     "execution_count": 639,
     "metadata": {},
     "output_type": "execute_result"
    }
   ],
   "source": [
    "drugs_in_drugs = set(df_drug.Drug.unique())\n",
    "drugs_in_data = set(df.Drug.unique())\n",
    "drugs_in_data.difference(drugs_in_drugs)"
   ]
  },
  {
   "attachments": {},
   "cell_type": "markdown",
   "metadata": {},
   "source": [
    "Не хватает неомицина, добавим его вручную (SMILES с учетом хиральности из PubChem)"
   ]
  },
  {
   "cell_type": "code",
   "execution_count": 640,
   "metadata": {},
   "outputs": [],
   "source": [
    "Neomycin = {\n",
    "    'Drug': ['neomycin'],\n",
    "    'Smiles': [\n",
    "        'C1[C@H]([C@@H]([C@H]([C@@H]([C@H]1N)O[C@@H]2[C@@H]([C@H]([C@@H]([C@H](O2)CN)O)O)N)O[C@H]3[C@@H]([C@@H]([C@H](O3)CO)O[C@@H]4[C@@H]([C@H]([C@@H]([C@@H](O4)CN)O)O)N)O)O)N'\n",
    "    ]\n",
    "}\n",
    "row_to_append = pd.DataFrame(Neomycin)\n",
    "df_drug = pd.concat([row_to_append, df_drug]).reset_index(drop=True)"
   ]
  },
  {
   "attachments": {},
   "cell_type": "markdown",
   "metadata": {},
   "source": [
    "## Подгрузка дополнительных признаков\n",
    " 1. pKa: вычисляли с помощью J. Chem. Inf. Mod. 61(1) http://dx.doi.org/10.1021/acs.jcim.1c00075 - нейросеть, ее валидация R^2 0.75-0.95 в зависимости от основности/кислотности молекулы "
   ]
  },
  {
   "cell_type": "code",
   "execution_count": 641,
   "metadata": {},
   "outputs": [],
   "source": [
    "pKa = pd.read_csv('pKa.csv', sep=';')\n",
    "pKa['Name'] = pKa['Name'].map(lambda x: x.lower() if isinstance(x, str) else x)\n",
    "\n",
    "df_drug = pd.merge(df_drug, pKa, left_on='Drug', right_on='Name').drop(columns=['Name'])\n",
    "\n"
   ]
  },
  {
   "attachments": {},
   "cell_type": "markdown",
   "metadata": {},
   "source": [
    "2. Пишем функцию, чтобы легко добавлять дескрипторы из RDKit"
   ]
  },
  {
   "cell_type": "code",
   "execution_count": 642,
   "metadata": {},
   "outputs": [],
   "source": [
    "def add_desc_to_df(df: pd.DataFrame, desc: list):\n",
    "    '''\n",
    "    Add column with descriptors values to df\n",
    "    \n",
    "    Parameters\n",
    "    ----------\n",
    "    df: pd.DataFrame\n",
    "\n",
    "    desc: list[str]\n",
    "    '''\n",
    "\n",
    "    calc = MoleculeDescriptors.MolecularDescriptorCalculator(desc)\n",
    "    desc_df = pd.DataFrame(\n",
    "        df['Smiles'].map(lambda x: calc.CalcDescriptors(Chem.MolFromSmiles(x))).to_list()\n",
    "    )\n",
    "    desc_df.columns = desc\n",
    "    return df.join(desc_df)"
   ]
  },
  {
   "attachments": {},
   "cell_type": "markdown",
   "metadata": {},
   "source": [
    "Добавляем дескрипторы, см. ```descs_to_add```"
   ]
  },
  {
   "cell_type": "code",
   "execution_count": 643,
   "metadata": {},
   "outputs": [],
   "source": [
    "descs_to_add = [\n",
    "    'LabuteASA', 'NumHDonors', 'NumHAcceptors', \n",
    "    'MolLogP', 'MolWt', 'Chi0', 'RingCount', 'TPSA'\n",
    "]\n",
    "\n",
    "df_drug = add_desc_to_df(df_drug, descs_to_add)"
   ]
  },
  {
   "attachments": {},
   "cell_type": "markdown",
   "metadata": {},
   "source": [
    "# 4 | Предварительная обработка bacterial_descriptors"
   ]
  },
  {
   "cell_type": "code",
   "execution_count": 644,
   "metadata": {},
   "outputs": [
    {
     "name": "stdout",
     "output_type": "stream",
     "text": [
      "{'Salmonella Paratyphi', 'Candida glochares'}\n",
      "(3, 16)\n"
     ]
    }
   ],
   "source": [
    "df_bac = df_bac.applymap(lambda x: x.strip() if isinstance(x, str) else x)\n",
    "print(set(df['Bacteria'].unique()) - set(df_bac['Bacteria'].unique()))\n",
    "# два вида бактерии, остутствующие в df_bac и присутсвующие в data\n",
    "# всего три строки с ними, дропаем\n",
    "print(df[(df['Bacteria'] == 'Candida glochares') | (df['Bacteria'] == 'Salmonella Paratyphi')].shape)\n",
    "df = df[~(df['Bacteria'] == 'Candida glochares') | (df['Bacteria'] == 'Salmonella Paratyphi')]"
   ]
  },
  {
   "cell_type": "code",
   "execution_count": 645,
   "metadata": {},
   "outputs": [],
   "source": [
    "# выберем только тех бактерий, которые есть в data\n",
    "df_bac = df_bac[df_bac['Bacteria'].isin(df['Bacteria'].unique())]"
   ]
  },
  {
   "cell_type": "markdown",
   "metadata": {},
   "source": [
    "## Избавляемся от NaN"
   ]
  },
  {
   "cell_type": "code",
   "execution_count": 646,
   "metadata": {},
   "outputs": [
    {
     "name": "stdout",
     "output_type": "stream",
     "text": [
      "(33, 17)\n",
      "Bacteria - nans: 0\n",
      "kingdom - nans: 0\n",
      "subkingdom - nans: 30\n",
      "clade - nans: 21\n",
      "phylum - nans: 0\n",
      "class - nans: 0\n",
      "order - nans: 0\n",
      "family - nans: 0\n",
      "genus - nans: 0\n",
      "species - nans: 0\n",
      "gram - nans: 3\n",
      "min_Incub_period, h - nans: 1\n",
      "avg_Incub_period, h - nans: 0\n",
      "max_Incub_period, h - nans: 1\n",
      "growth_temp, C - nans: 0\n",
      "biosafety_level - nans: 0\n",
      "isolated_from - nans: 0\n"
     ]
    }
   ],
   "source": [
    "print(df_bac.shape)\n",
    "for col in df_bac:\n",
    "    print(f'{col} - nans: {df_bac[col].isna().sum()}')"
   ]
  },
  {
   "cell_type": "markdown",
   "metadata": {},
   "source": [
    "```subkingom``` и ```clade``` дропаем из-за пропусков"
   ]
  },
  {
   "cell_type": "code",
   "execution_count": 647,
   "metadata": {},
   "outputs": [],
   "source": [
    "df_bac.drop(columns=['subkingdom', 'clade'], inplace=True)"
   ]
  },
  {
   "cell_type": "markdown",
   "metadata": {},
   "source": [
    "Заполним nan в gram согласно NCBI"
   ]
  },
  {
   "cell_type": "code",
   "execution_count": 649,
   "metadata": {},
   "outputs": [
    {
     "data": {
      "text/html": [
       "<div>\n",
       "<style scoped>\n",
       "    .dataframe tbody tr th:only-of-type {\n",
       "        vertical-align: middle;\n",
       "    }\n",
       "\n",
       "    .dataframe tbody tr th {\n",
       "        vertical-align: top;\n",
       "    }\n",
       "\n",
       "    .dataframe thead th {\n",
       "        text-align: right;\n",
       "    }\n",
       "</style>\n",
       "<table border=\"1\" class=\"dataframe\">\n",
       "  <thead>\n",
       "    <tr style=\"text-align: right;\">\n",
       "      <th></th>\n",
       "      <th>Bacteria</th>\n",
       "      <th>kingdom</th>\n",
       "      <th>phylum</th>\n",
       "      <th>class</th>\n",
       "      <th>order</th>\n",
       "      <th>family</th>\n",
       "      <th>genus</th>\n",
       "      <th>species</th>\n",
       "      <th>gram</th>\n",
       "      <th>min_Incub_period, h</th>\n",
       "      <th>avg_Incub_period, h</th>\n",
       "      <th>max_Incub_period, h</th>\n",
       "      <th>growth_temp, C</th>\n",
       "      <th>biosafety_level</th>\n",
       "      <th>isolated_from</th>\n",
       "    </tr>\n",
       "    <tr>\n",
       "      <th>Tax_id</th>\n",
       "      <th></th>\n",
       "      <th></th>\n",
       "      <th></th>\n",
       "      <th></th>\n",
       "      <th></th>\n",
       "      <th></th>\n",
       "      <th></th>\n",
       "      <th></th>\n",
       "      <th></th>\n",
       "      <th></th>\n",
       "      <th></th>\n",
       "      <th></th>\n",
       "      <th></th>\n",
       "      <th></th>\n",
       "      <th></th>\n",
       "    </tr>\n",
       "  </thead>\n",
       "  <tbody>\n",
       "    <tr>\n",
       "      <th>['5476']</th>\n",
       "      <td>Candida albicans</td>\n",
       "      <td>Fungi</td>\n",
       "      <td>Ascomycota</td>\n",
       "      <td>Saccharomycetes</td>\n",
       "      <td>Saccharomycetales</td>\n",
       "      <td>Debaryomycetaceae</td>\n",
       "      <td>Candida</td>\n",
       "      <td>Candida albicans</td>\n",
       "      <td>NaN</td>\n",
       "      <td>48.0</td>\n",
       "      <td>84.0</td>\n",
       "      <td>120.0</td>\n",
       "      <td>37</td>\n",
       "      <td>2</td>\n",
       "      <td>mouth</td>\n",
       "    </tr>\n",
       "    <tr>\n",
       "      <th>['5478']</th>\n",
       "      <td>Candida glabrata</td>\n",
       "      <td>Fungi</td>\n",
       "      <td>Ascomycota</td>\n",
       "      <td>Saccharomycetes</td>\n",
       "      <td>Saccharomycetales</td>\n",
       "      <td>Saccharomycetaceae</td>\n",
       "      <td>Nakaseomyces</td>\n",
       "      <td>Candida glabrata</td>\n",
       "      <td>NaN</td>\n",
       "      <td>24.0</td>\n",
       "      <td>36.0</td>\n",
       "      <td>48.0</td>\n",
       "      <td>37</td>\n",
       "      <td>2</td>\n",
       "      <td>blood</td>\n",
       "    </tr>\n",
       "    <tr>\n",
       "      <th>['45582']</th>\n",
       "      <td>Candida saitoana</td>\n",
       "      <td>Fungi</td>\n",
       "      <td>Ascomycota</td>\n",
       "      <td>Saccharomycetes</td>\n",
       "      <td>Saccharomycetales</td>\n",
       "      <td>Debaryomycetaceae</td>\n",
       "      <td>Candida glaebosa</td>\n",
       "      <td>Candida saitoana</td>\n",
       "      <td>NaN</td>\n",
       "      <td>48.0</td>\n",
       "      <td>84.0</td>\n",
       "      <td>120.0</td>\n",
       "      <td>37</td>\n",
       "      <td>1</td>\n",
       "      <td>food</td>\n",
       "    </tr>\n",
       "  </tbody>\n",
       "</table>\n",
       "</div>"
      ],
      "text/plain": [
       "                   Bacteria kingdom      phylum            class  \\\n",
       "Tax_id                                                             \n",
       "['5476']   Candida albicans   Fungi  Ascomycota  Saccharomycetes   \n",
       "['5478']   Candida glabrata   Fungi  Ascomycota  Saccharomycetes   \n",
       "['45582']  Candida saitoana   Fungi  Ascomycota  Saccharomycetes   \n",
       "\n",
       "                       order              family             genus  \\\n",
       "Tax_id                                                               \n",
       "['5476']   Saccharomycetales   Debaryomycetaceae           Candida   \n",
       "['5478']   Saccharomycetales  Saccharomycetaceae      Nakaseomyces   \n",
       "['45582']  Saccharomycetales   Debaryomycetaceae  Candida glaebosa   \n",
       "\n",
       "                    species gram  min_Incub_period, h  avg_Incub_period, h  \\\n",
       "Tax_id                                                                       \n",
       "['5476']   Candida albicans  NaN                 48.0                 84.0   \n",
       "['5478']   Candida glabrata  NaN                 24.0                 36.0   \n",
       "['45582']  Candida saitoana  NaN                 48.0                 84.0   \n",
       "\n",
       "           max_Incub_period, h  growth_temp, C  biosafety_level isolated_from  \n",
       "Tax_id                                                                         \n",
       "['5476']                 120.0              37                2         mouth  \n",
       "['5478']                  48.0              37                2         blood  \n",
       "['45582']                120.0              37                1          food  "
      ]
     },
     "execution_count": 649,
     "metadata": {},
     "output_type": "execute_result"
    }
   ],
   "source": [
    "df_bac[df_bac.gram.isna()]"
   ]
  },
  {
   "cell_type": "code",
   "execution_count": 650,
   "metadata": {},
   "outputs": [],
   "source": [
    "df_bac.loc[df_bac.gram.isna()] = 'p'"
   ]
  },
  {
   "cell_type": "markdown",
   "metadata": {},
   "source": [
    "Заполним nan и некорректное значение min/max_Incub_period"
   ]
  },
  {
   "cell_type": "code",
   "execution_count": 651,
   "metadata": {},
   "outputs": [
    {
     "data": {
      "text/html": [
       "<div>\n",
       "<style scoped>\n",
       "    .dataframe tbody tr th:only-of-type {\n",
       "        vertical-align: middle;\n",
       "    }\n",
       "\n",
       "    .dataframe tbody tr th {\n",
       "        vertical-align: top;\n",
       "    }\n",
       "\n",
       "    .dataframe thead th {\n",
       "        text-align: right;\n",
       "    }\n",
       "</style>\n",
       "<table border=\"1\" class=\"dataframe\">\n",
       "  <thead>\n",
       "    <tr style=\"text-align: right;\">\n",
       "      <th></th>\n",
       "      <th>Bacteria</th>\n",
       "      <th>kingdom</th>\n",
       "      <th>phylum</th>\n",
       "      <th>class</th>\n",
       "      <th>order</th>\n",
       "      <th>family</th>\n",
       "      <th>genus</th>\n",
       "      <th>species</th>\n",
       "      <th>gram</th>\n",
       "      <th>min_Incub_period, h</th>\n",
       "      <th>avg_Incub_period, h</th>\n",
       "      <th>max_Incub_period, h</th>\n",
       "      <th>growth_temp, C</th>\n",
       "      <th>biosafety_level</th>\n",
       "      <th>isolated_from</th>\n",
       "    </tr>\n",
       "    <tr>\n",
       "      <th>Tax_id</th>\n",
       "      <th></th>\n",
       "      <th></th>\n",
       "      <th></th>\n",
       "      <th></th>\n",
       "      <th></th>\n",
       "      <th></th>\n",
       "      <th></th>\n",
       "      <th></th>\n",
       "      <th></th>\n",
       "      <th></th>\n",
       "      <th></th>\n",
       "      <th></th>\n",
       "      <th></th>\n",
       "      <th></th>\n",
       "      <th></th>\n",
       "    </tr>\n",
       "  </thead>\n",
       "  <tbody>\n",
       "    <tr>\n",
       "      <th>['618']</th>\n",
       "      <td>Serratia odorifera</td>\n",
       "      <td>Bacteria</td>\n",
       "      <td>Pseudomonadota</td>\n",
       "      <td>Gammaproteobacteria</td>\n",
       "      <td>Enterobacterales</td>\n",
       "      <td>Yersiniaceae</td>\n",
       "      <td>Serratia</td>\n",
       "      <td>Serratia odorifera</td>\n",
       "      <td>n</td>\n",
       "      <td>NaN</td>\n",
       "      <td>0.0</td>\n",
       "      <td>NaN</td>\n",
       "      <td>30</td>\n",
       "      <td>1</td>\n",
       "      <td>soil</td>\n",
       "    </tr>\n",
       "  </tbody>\n",
       "</table>\n",
       "</div>"
      ],
      "text/plain": [
       "                   Bacteria   kingdom          phylum                class  \\\n",
       "Tax_id                                                                       \n",
       "['618']  Serratia odorifera  Bacteria  Pseudomonadota  Gammaproteobacteria   \n",
       "\n",
       "                    order        family     genus             species gram  \\\n",
       "Tax_id                                                                       \n",
       "['618']  Enterobacterales  Yersiniaceae  Serratia  Serratia odorifera    n   \n",
       "\n",
       "        min_Incub_period, h avg_Incub_period, h max_Incub_period, h  \\\n",
       "Tax_id                                                                \n",
       "['618']                 NaN                 0.0                 NaN   \n",
       "\n",
       "        growth_temp, C biosafety_level isolated_from  \n",
       "Tax_id                                                \n",
       "['618']             30               1          soil  "
      ]
     },
     "execution_count": 651,
     "metadata": {},
     "output_type": "execute_result"
    }
   ],
   "source": [
    "df_bac[df_bac['max_Incub_period, h'].isna()]"
   ]
  },
  {
   "attachments": {},
   "cell_type": "markdown",
   "metadata": {},
   "source": [
    "## Думаем над фичами"
   ]
  },
  {
   "attachments": {},
   "cell_type": "markdown",
   "metadata": {},
   "source": [
    "1. Три коррелирующих числа (min max и avg время инкубации) нам ни к чему, но можно посчитать \"размах\" - вдруг он окажется полезным"
   ]
  },
  {
   "cell_type": "code",
   "execution_count": 513,
   "metadata": {},
   "outputs": [],
   "source": [
    "df_bac['min_max_Incub_period'] = df_bac['max_Incub_period, h'] - df_bac['min_Incub_period, h']\n",
    "\n",
    "df_bac.drop(columns=['max_Incub_period, h', 'min_Incub_period, h'], inplace=True)"
   ]
  },
  {
   "attachments": {},
   "cell_type": "markdown",
   "metadata": {},
   "source": [
    "Обнаружилась корреляция ```min_max_Incub_period``` с ```avg_Incub_period```, но график выглядит не так уж страшно линейным, поэтому попробуем."
   ]
  },
  {
   "cell_type": "code",
   "execution_count": 514,
   "metadata": {},
   "outputs": [
    {
     "data": {
      "text/plain": [
       "<Axes: >"
      ]
     },
     "execution_count": 514,
     "metadata": {},
     "output_type": "execute_result"
    },
    {
     "data": {
      "image/png": "[encoded data removed]",
      "text/plain": [
       "<Figure size 640x480 with 2 Axes>"
      ]
     },
     "metadata": {},
     "output_type": "display_data"
    }
   ],
   "source": [
    "sns.heatmap(df_bac.corr(numeric_only=True), annot=True)"
   ]
  },
  {
   "cell_type": "code",
   "execution_count": 515,
   "metadata": {},
   "outputs": [
    {
     "data": {
      "text/plain": [
       "<Axes: xlabel='avg_Incub_period, h', ylabel='min_max_Incub_period'>"
      ]
     },
     "execution_count": 515,
     "metadata": {},
     "output_type": "execute_result"
    },
    {
     "data": {
      "image/png": "[encoded data removed]",
      "text/plain": [
       "<Figure size 640x480 with 1 Axes>"
      ]
     },
     "metadata": {},
     "output_type": "display_data"
    }
   ],
   "source": [
    "sns.scatterplot(df_bac, x='avg_Incub_period, h', y='min_max_Incub_period')"
   ]
  },
  {
   "attachments": {},
   "cell_type": "markdown",
   "metadata": {},
   "source": [
    "# 6 | Слияние трех баз данных в одну"
   ]
  },
  {
   "cell_type": "code",
   "execution_count": 516,
   "metadata": {},
   "outputs": [
    {
     "name": "stdout",
     "output_type": "stream",
     "text": [
      "(583, 16)\n",
      "(579, 16)\n"
     ]
    }
   ],
   "source": [
    "print(df.shape)\n",
    "df.drop_duplicates(inplace=True)\n",
    "print(df.shape)"
   ]
  },
  {
   "cell_type": "code",
   "execution_count": 517,
   "metadata": {},
   "outputs": [],
   "source": [
    "df = df.merge(df_bac, on='Bacteria', how='inner')"
   ]
  },
  {
   "cell_type": "code",
   "execution_count": 518,
   "metadata": {},
   "outputs": [
    {
     "name": "stdout",
     "output_type": "stream",
     "text": [
      "(579, 31)\n",
      "(579, 31)\n"
     ]
    }
   ],
   "source": [
    "print(df.shape)\n",
    "df.drop_duplicates(inplace=True)\n",
    "print(df.shape)"
   ]
  },
  {
   "cell_type": "code",
   "execution_count": 519,
   "metadata": {},
   "outputs": [],
   "source": [
    "df = df.merge(df_drug, on='Drug', how='inner')"
   ]
  },
  {
   "cell_type": "code",
   "execution_count": 520,
   "metadata": {},
   "outputs": [
    {
     "name": "stdout",
     "output_type": "stream",
     "text": [
      "(589, 41)\n",
      "(579, 41)\n"
     ]
    }
   ],
   "source": [
    "print(df.shape)\n",
    "df.drop_duplicates(inplace=True)\n",
    "print(df.shape)"
   ]
  },
  {
   "cell_type": "code",
   "execution_count": 521,
   "metadata": {},
   "outputs": [
    {
     "name": "stdout",
     "output_type": "stream",
     "text": [
      "<class 'pandas.core.frame.DataFrame'>\n",
      "Index: 579 entries, 0 to 588\n",
      "Data columns (total 41 columns):\n",
      " #   Column                                       Non-Null Count  Dtype  \n",
      "---  ------                                       --------------  -----  \n",
      " 0   Bacteria                                     579 non-null    object \n",
      " 1   NP_Synthesis                                 579 non-null    object \n",
      " 2   Drug                                         579 non-null    object \n",
      " 3   Drug_class_drug_bank                         579 non-null    object \n",
      " 4   NP_concentration                             579 non-null    object \n",
      " 5   NP size_min                                  579 non-null    float64\n",
      " 6   NP size_max                                  579 non-null    float64\n",
      " 7   NP size_avg                                  579 non-null    float64\n",
      " 8   shape                                        579 non-null    object \n",
      " 9   method                                       579 non-null    object \n",
      " 10  ZOI_drug                                     563 non-null    float64\n",
      " 11  ZOI_drug_NP                                  579 non-null    float64\n",
      " 12  fold_increase_in_antibacterial_activity (%)  419 non-null    float64\n",
      " 13  MDR_check                                    579 non-null    int64  \n",
      " 14  various_conc_tested                          579 non-null    bool   \n",
      " 15  lg_Drug_dose                                 464 non-null    float64\n",
      " 16  kingdom                                      579 non-null    object \n",
      " 17  subkingdom                                   4 non-null      object \n",
      " 18  clade                                        152 non-null    object \n",
      " 19  phylum                                       579 non-null    object \n",
      " 20  class                                        579 non-null    object \n",
      " 21  order                                        579 non-null    object \n",
      " 22  family                                       579 non-null    object \n",
      " 23  genus                                        579 non-null    object \n",
      " 24  species                                      579 non-null    object \n",
      " 25  gram                                         575 non-null    object \n",
      " 26  avg_Incub_period, h                          579 non-null    float64\n",
      " 27  growth_temp, C                               579 non-null    int64  \n",
      " 28  biosafety_level                              579 non-null    int64  \n",
      " 29  isolated_from                                579 non-null    object \n",
      " 30  min_max_Incub_period                         557 non-null    float64\n",
      " 31  Smiles                                       579 non-null    object \n",
      " 32  pKa                                          579 non-null    float64\n",
      " 33  LabuteASA                                    579 non-null    float64\n",
      " 34  NumHDonors                                   579 non-null    int64  \n",
      " 35  NumHAcceptors                                579 non-null    int64  \n",
      " 36  MolLogP                                      579 non-null    float64\n",
      " 37  MolWt                                        579 non-null    float64\n",
      " 38  Chi0                                         579 non-null    float64\n",
      " 39  RingCount                                    579 non-null    int64  \n",
      " 40  TPSA                                         579 non-null    float64\n",
      "dtypes: bool(1), float64(15), int64(6), object(19)\n",
      "memory usage: 186.0+ KB\n"
     ]
    }
   ],
   "source": [
    "df.info()"
   ]
  },
  {
   "cell_type": "code",
   "execution_count": null,
   "metadata": {},
   "outputs": [],
   "source": []
  }
 ],
 "metadata": {
  "kernelspec": {
   "display_name": "ml",
   "language": "python",
   "name": "python3"
  },
  "language_info": {
   "codemirror_mode": {
    "name": "ipython",
    "version": 3
   },
   "file_extension": ".py",
   "mimetype": "text/x-python",
   "name": "python",
   "nbconvert_exporter": "python",
   "pygments_lexer": "ipython3",
   "version": "3.10.12"
  },
  "orig_nbformat": 4,
  "vscode": {
   "interpreter": {
    "hash": "d3b836c7ef044d43059c7846a59355f0b4cbb71a588c1f9492eaa9138c6b55f1"
   }
  }
 },
 "nbformat": 4,
 "nbformat_minor": 2
}
