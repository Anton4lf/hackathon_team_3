{
 "cells": [
  {
   "cell_type": "code",
   "execution_count": 1,
   "metadata": {},
   "outputs": [],
   "source": [
    "from rdkit import RDLogger\n",
    "RDLogger.DisableLog('rdApp.*')\n",
    "\n",
    "import numpy as np\n",
    "import pandas as pd\n",
    "import seaborn as sns\n",
    "\n",
    "from rdkit import Chem\n",
    "from rdkit.Chem import Descriptors\n",
    "from rdkit.ML.Descriptors import MoleculeDescriptors"
   ]
  },
  {
   "cell_type": "code",
   "execution_count": 2,
   "metadata": {},
   "outputs": [],
   "source": [
    "df_data = pd.read_csv('data.csv', index_col=0).drop(columns=['Unnamed: 0'])\n",
    "df_bac = pd.read_csv('bacterial_descriptors.csv', index_col=0)\n",
    "df_drug = pd.read_csv('drug_descriptors.csv', index_col=0)"
   ]
  },
  {
   "cell_type": "code",
   "execution_count": 3,
   "metadata": {},
   "outputs": [
    {
     "data": {
      "text/html": [
       "<div>\n",
       "<style scoped>\n",
       "    .dataframe tbody tr th:only-of-type {\n",
       "        vertical-align: middle;\n",
       "    }\n",
       "\n",
       "    .dataframe tbody tr th {\n",
       "        vertical-align: top;\n",
       "    }\n",
       "\n",
       "    .dataframe thead th {\n",
       "        text-align: right;\n",
       "    }\n",
       "</style>\n",
       "<table border=\"1\" class=\"dataframe\">\n",
       "  <thead>\n",
       "    <tr style=\"text-align: right;\">\n",
       "      <th></th>\n",
       "      <th>Bacteria</th>\n",
       "      <th>NP_Synthesis</th>\n",
       "      <th>Drug</th>\n",
       "      <th>Drug_class_drug_bank</th>\n",
       "      <th>Drug_dose</th>\n",
       "      <th>NP_concentration</th>\n",
       "      <th>NP size_min</th>\n",
       "      <th>NP size_max</th>\n",
       "      <th>NP size_avg</th>\n",
       "      <th>shape</th>\n",
       "      <th>method</th>\n",
       "      <th>ZOI_drug</th>\n",
       "      <th>ZOI_NP</th>\n",
       "      <th>ZOI_drug_NP</th>\n",
       "      <th>fold_increase_in_antibacterial_activity (%)</th>\n",
       "      <th>MDR_check</th>\n",
       "    </tr>\n",
       "  </thead>\n",
       "  <tbody>\n",
       "    <tr>\n",
       "      <th>0</th>\n",
       "      <td>Escherichia coli</td>\n",
       "      <td>chem_synthesis_reduction_by_D_maltose</td>\n",
       "      <td>Amoxicillin</td>\n",
       "      <td>Lactams</td>\n",
       "      <td>NaN</td>\n",
       "      <td>NaN</td>\n",
       "      <td>4.0</td>\n",
       "      <td>10.0</td>\n",
       "      <td>8.0</td>\n",
       "      <td>spherical</td>\n",
       "      <td>MIC</td>\n",
       "      <td>32+</td>\n",
       "      <td>6.3</td>\n",
       "      <td>32+</td>\n",
       "      <td>NaN</td>\n",
       "      <td>1</td>\n",
       "    </tr>\n",
       "  </tbody>\n",
       "</table>\n",
       "</div>"
      ],
      "text/plain": [
       "           Bacteria                           NP_Synthesis         Drug  \\\n",
       "0  Escherichia coli  chem_synthesis_reduction_by_D_maltose  Amoxicillin   \n",
       "\n",
       "  Drug_class_drug_bank  Drug_dose NP_concentration  NP size_min  NP size_max  \\\n",
       "0              Lactams        NaN              NaN          4.0         10.0   \n",
       "\n",
       "   NP size_avg      shape method ZOI_drug ZOI_NP ZOI_drug_NP  \\\n",
       "0          8.0  spherical    MIC      32+    6.3         32+   \n",
       "\n",
       "   fold_increase_in_antibacterial_activity (%)  MDR_check  \n",
       "0                                          NaN          1  "
      ]
     },
     "execution_count": 3,
     "metadata": {},
     "output_type": "execute_result"
    }
   ],
   "source": [
    "df_data.head(1)"
   ]
  },
  {
   "cell_type": "code",
   "execution_count": 4,
   "metadata": {},
   "outputs": [
    {
     "data": {
      "text/html": [
       "<div>\n",
       "<style scoped>\n",
       "    .dataframe tbody tr th:only-of-type {\n",
       "        vertical-align: middle;\n",
       "    }\n",
       "\n",
       "    .dataframe tbody tr th {\n",
       "        vertical-align: top;\n",
       "    }\n",
       "\n",
       "    .dataframe thead th {\n",
       "        text-align: right;\n",
       "    }\n",
       "</style>\n",
       "<table border=\"1\" class=\"dataframe\">\n",
       "  <thead>\n",
       "    <tr style=\"text-align: right;\">\n",
       "      <th></th>\n",
       "      <th>Bacteria</th>\n",
       "      <th>kingdom</th>\n",
       "      <th>subkingdom</th>\n",
       "      <th>clade</th>\n",
       "      <th>phylum</th>\n",
       "      <th>class</th>\n",
       "      <th>order</th>\n",
       "      <th>family</th>\n",
       "      <th>genus</th>\n",
       "      <th>species</th>\n",
       "      <th>gram</th>\n",
       "      <th>min_Incub_period, h</th>\n",
       "      <th>avg_Incub_period, h</th>\n",
       "      <th>max_Incub_period, h</th>\n",
       "      <th>growth_temp, C</th>\n",
       "      <th>biosafety_level</th>\n",
       "      <th>isolated_from</th>\n",
       "    </tr>\n",
       "    <tr>\n",
       "      <th>Tax_id</th>\n",
       "      <th></th>\n",
       "      <th></th>\n",
       "      <th></th>\n",
       "      <th></th>\n",
       "      <th></th>\n",
       "      <th></th>\n",
       "      <th></th>\n",
       "      <th></th>\n",
       "      <th></th>\n",
       "      <th></th>\n",
       "      <th></th>\n",
       "      <th></th>\n",
       "      <th></th>\n",
       "      <th></th>\n",
       "      <th></th>\n",
       "      <th></th>\n",
       "      <th></th>\n",
       "    </tr>\n",
       "  </thead>\n",
       "  <tbody>\n",
       "    <tr>\n",
       "      <th>['470']</th>\n",
       "      <td>Acinetobacter baumannii</td>\n",
       "      <td>Bacteria</td>\n",
       "      <td>NaN</td>\n",
       "      <td>NaN</td>\n",
       "      <td>Pseudomonadota</td>\n",
       "      <td>Gammaproteobacteria</td>\n",
       "      <td>Moraxellales</td>\n",
       "      <td>Moraxellaceae</td>\n",
       "      <td>Acinetobacter</td>\n",
       "      <td>Acinetobacter calcoaceticus/baumannii complex</td>\n",
       "      <td>n</td>\n",
       "      <td>24.0</td>\n",
       "      <td>36.0</td>\n",
       "      <td>48.0</td>\n",
       "      <td>37</td>\n",
       "      <td>2</td>\n",
       "      <td>urine</td>\n",
       "    </tr>\n",
       "  </tbody>\n",
       "</table>\n",
       "</div>"
      ],
      "text/plain": [
       "                        Bacteria   kingdom subkingdom clade          phylum  \\\n",
       "Tax_id                                                                        \n",
       "['470']  Acinetobacter baumannii  Bacteria        NaN   NaN  Pseudomonadota   \n",
       "\n",
       "                       class         order         family          genus  \\\n",
       "Tax_id                                                                     \n",
       "['470']  Gammaproteobacteria  Moraxellales  Moraxellaceae  Acinetobacter   \n",
       "\n",
       "                                               species gram  \\\n",
       "Tax_id                                                        \n",
       "['470']  Acinetobacter calcoaceticus/baumannii complex    n   \n",
       "\n",
       "         min_Incub_period, h  avg_Incub_period, h  max_Incub_period, h  \\\n",
       "Tax_id                                                                   \n",
       "['470']                 24.0                 36.0                 48.0   \n",
       "\n",
       "         growth_temp, C  biosafety_level isolated_from  \n",
       "Tax_id                                                  \n",
       "['470']              37                2         urine  "
      ]
     },
     "execution_count": 4,
     "metadata": {},
     "output_type": "execute_result"
    }
   ],
   "source": [
    "df_bac.head(1)"
   ]
  },
  {
   "cell_type": "code",
   "execution_count": 5,
   "metadata": {},
   "outputs": [
    {
     "data": {
      "text/html": [
       "<div>\n",
       "<style scoped>\n",
       "    .dataframe tbody tr th:only-of-type {\n",
       "        vertical-align: middle;\n",
       "    }\n",
       "\n",
       "    .dataframe tbody tr th {\n",
       "        vertical-align: top;\n",
       "    }\n",
       "\n",
       "    .dataframe thead th {\n",
       "        text-align: right;\n",
       "    }\n",
       "</style>\n",
       "<table border=\"1\" class=\"dataframe\">\n",
       "  <thead>\n",
       "    <tr style=\"text-align: right;\">\n",
       "      <th></th>\n",
       "      <th>drug</th>\n",
       "      <th>chemID</th>\n",
       "      <th>prefered_name</th>\n",
       "      <th>smiles</th>\n",
       "    </tr>\n",
       "  </thead>\n",
       "  <tbody>\n",
       "    <tr>\n",
       "      <th>0</th>\n",
       "      <td>Amoxicillin</td>\n",
       "      <td>CHEMBL1082</td>\n",
       "      <td>AMOXICILLIN</td>\n",
       "      <td>CC1(C)S[C@@H]2[C@H](NC(=O)[C@H](N)c3ccc(O)cc3)...</td>\n",
       "    </tr>\n",
       "  </tbody>\n",
       "</table>\n",
       "</div>"
      ],
      "text/plain": [
       "          drug      chemID prefered_name  \\\n",
       "0  Amoxicillin  CHEMBL1082   AMOXICILLIN   \n",
       "\n",
       "                                              smiles  \n",
       "0  CC1(C)S[C@@H]2[C@H](NC(=O)[C@H](N)c3ccc(O)cc3)...  "
      ]
     },
     "execution_count": 5,
     "metadata": {},
     "output_type": "execute_result"
    }
   ],
   "source": [
    "df_drug.head(1)"
   ]
  },
  {
   "cell_type": "markdown",
   "metadata": {},
   "source": [
    "# Работаем с драгами"
   ]
  },
  {
   "cell_type": "code",
   "execution_count": 6,
   "metadata": {},
   "outputs": [
    {
     "data": {
      "text/html": [
       "<div>\n",
       "<style scoped>\n",
       "    .dataframe tbody tr th:only-of-type {\n",
       "        vertical-align: middle;\n",
       "    }\n",
       "\n",
       "    .dataframe tbody tr th {\n",
       "        vertical-align: top;\n",
       "    }\n",
       "\n",
       "    .dataframe thead th {\n",
       "        text-align: right;\n",
       "    }\n",
       "</style>\n",
       "<table border=\"1\" class=\"dataframe\">\n",
       "  <thead>\n",
       "    <tr style=\"text-align: right;\">\n",
       "      <th></th>\n",
       "      <th>drug</th>\n",
       "      <th>smiles</th>\n",
       "    </tr>\n",
       "  </thead>\n",
       "  <tbody>\n",
       "    <tr>\n",
       "      <th>0</th>\n",
       "      <td>Amoxicillin</td>\n",
       "      <td>CC1(C)S[C@@H]2[C@H](NC(=O)[C@H](N)c3ccc(O)cc3)...</td>\n",
       "    </tr>\n",
       "  </tbody>\n",
       "</table>\n",
       "</div>"
      ],
      "text/plain": [
       "          drug                                             smiles\n",
       "0  Amoxicillin  CC1(C)S[C@@H]2[C@H](NC(=O)[C@H](N)c3ccc(O)cc3)..."
      ]
     },
     "execution_count": 6,
     "metadata": {},
     "output_type": "execute_result"
    }
   ],
   "source": [
    "df_drug.drop(columns=['prefered_name', 'chemID'], inplace=True)\n",
    "df_drug.head(1)"
   ]
  },
  {
   "cell_type": "code",
   "execution_count": 7,
   "metadata": {},
   "outputs": [],
   "source": [
    "pKa = pd.read_csv('pKa.csv', sep=';')\n",
    "pKa['Name'] = pKa['Name'].map(lambda x: x.lower() if isinstance(x, str) else x)\n",
    "df_drug = df_drug.applymap(lambda x: x.strip() if isinstance(x, str) else x)\n",
    "df_data = df_data.applymap(lambda x: x.strip() if isinstance(x, str) else x)\n",
    "df_drug['drug'] = df_drug['drug'].map(lambda x: x.lower() if isinstance(x, str) else x)\n",
    "df_data['Drug'] = df_data['Drug'].map(lambda x: x.lower() if isinstance(x, str) else x)"
   ]
  },
  {
   "cell_type": "code",
   "execution_count": 8,
   "metadata": {},
   "outputs": [
    {
     "data": {
      "text/plain": [
       "{nan, 'neomycin'}"
      ]
     },
     "execution_count": 8,
     "metadata": {},
     "output_type": "execute_result"
    }
   ],
   "source": [
    "drugs_in_drugs = set(df_drug.drug.unique())\n",
    "drugs_in_data = set(df_data.Drug.unique())\n",
    "drugs_in_data.difference(drugs_in_drugs)"
   ]
  },
  {
   "cell_type": "markdown",
   "metadata": {},
   "source": [
    "Неомицин добавим вручную, nan будем считать наночастицами без модификаций"
   ]
  },
  {
   "cell_type": "code",
   "execution_count": 9,
   "metadata": {},
   "outputs": [
    {
     "data": {
      "text/html": [
       "<div>\n",
       "<style scoped>\n",
       "    .dataframe tbody tr th:only-of-type {\n",
       "        vertical-align: middle;\n",
       "    }\n",
       "\n",
       "    .dataframe tbody tr th {\n",
       "        vertical-align: top;\n",
       "    }\n",
       "\n",
       "    .dataframe thead th {\n",
       "        text-align: right;\n",
       "    }\n",
       "</style>\n",
       "<table border=\"1\" class=\"dataframe\">\n",
       "  <thead>\n",
       "    <tr style=\"text-align: right;\">\n",
       "      <th></th>\n",
       "      <th>drug</th>\n",
       "      <th>smiles</th>\n",
       "    </tr>\n",
       "  </thead>\n",
       "  <tbody>\n",
       "    <tr>\n",
       "      <th>0</th>\n",
       "      <td>neomycin</td>\n",
       "      <td>C1[C@H]([C@@H]([C@H]([C@@H]([C@H]1N)O[C@@H]2[C...</td>\n",
       "    </tr>\n",
       "  </tbody>\n",
       "</table>\n",
       "</div>"
      ],
      "text/plain": [
       "       drug                                             smiles\n",
       "0  neomycin  C1[C@H]([C@@H]([C@H]([C@@H]([C@H]1N)O[C@@H]2[C..."
      ]
     },
     "execution_count": 9,
     "metadata": {},
     "output_type": "execute_result"
    }
   ],
   "source": [
    "# лень разбираться с апи pubchem, но нужно добавить неомицин\n",
    "Neomycin = {\n",
    "    'drug': ['neomycin'],\n",
    "    'smiles': [\n",
    "        'C1[C@H]([C@@H]([C@H]([C@@H]([C@H]1N)O[C@@H]2[C@@H]([C@H]([C@@H]([C@H](O2)CN)O)O)N)O[C@H]3[C@@H]([C@@H]([C@H](O3)CO)O[C@@H]4[C@@H]([C@H]([C@@H]([C@@H](O4)CN)O)O)N)O)O)N'\n",
    "    ]\n",
    "}\n",
    "row_to_append = pd.DataFrame(Neomycin)\n",
    "df_drug = pd.concat([row_to_append, df_drug]).reset_index(drop=True)\n",
    "df_drug.head(1)"
   ]
  },
  {
   "cell_type": "code",
   "execution_count": 10,
   "metadata": {},
   "outputs": [],
   "source": [
    "df_drug = pd.merge(df_drug, pKa, left_on='drug', right_on='Name').drop(columns=['Name'])"
   ]
  },
  {
   "cell_type": "code",
   "execution_count": 11,
   "metadata": {},
   "outputs": [
    {
     "data": {
      "text/html": [
       "<div>\n",
       "<style scoped>\n",
       "    .dataframe tbody tr th:only-of-type {\n",
       "        vertical-align: middle;\n",
       "    }\n",
       "\n",
       "    .dataframe tbody tr th {\n",
       "        vertical-align: top;\n",
       "    }\n",
       "\n",
       "    .dataframe thead th {\n",
       "        text-align: right;\n",
       "    }\n",
       "</style>\n",
       "<table border=\"1\" class=\"dataframe\">\n",
       "  <thead>\n",
       "    <tr style=\"text-align: right;\">\n",
       "      <th></th>\n",
       "      <th>Drug</th>\n",
       "      <th>Smiles</th>\n",
       "      <th>pKa</th>\n",
       "    </tr>\n",
       "  </thead>\n",
       "  <tbody>\n",
       "    <tr>\n",
       "      <th>0</th>\n",
       "      <td>neomycin</td>\n",
       "      <td>C1[C@H]([C@@H]([C@H]([C@@H]([C@H]1N)O[C@@H]2[C...</td>\n",
       "      <td>9.0</td>\n",
       "    </tr>\n",
       "  </tbody>\n",
       "</table>\n",
       "</div>"
      ],
      "text/plain": [
       "       Drug                                             Smiles  pKa\n",
       "0  neomycin  C1[C@H]([C@@H]([C@H]([C@@H]([C@H]1N)O[C@@H]2[C...  9.0"
      ]
     },
     "execution_count": 11,
     "metadata": {},
     "output_type": "execute_result"
    }
   ],
   "source": [
    "# преведем все к общему виду для облегчения объединения\n",
    "df_drug = df_drug.rename(columns={'drug': 'Drug', 'smiles': 'Smiles'})\n",
    "df_drug.head(1)"
   ]
  },
  {
   "cell_type": "code",
   "execution_count": 12,
   "metadata": {},
   "outputs": [
    {
     "data": {
      "text/html": [
       "<div>\n",
       "<style scoped>\n",
       "    .dataframe tbody tr th:only-of-type {\n",
       "        vertical-align: middle;\n",
       "    }\n",
       "\n",
       "    .dataframe tbody tr th {\n",
       "        vertical-align: top;\n",
       "    }\n",
       "\n",
       "    .dataframe thead th {\n",
       "        text-align: right;\n",
       "    }\n",
       "</style>\n",
       "<table border=\"1\" class=\"dataframe\">\n",
       "  <thead>\n",
       "    <tr style=\"text-align: right;\">\n",
       "      <th></th>\n",
       "      <th>Drug</th>\n",
       "      <th>Smiles</th>\n",
       "      <th>pKa</th>\n",
       "    </tr>\n",
       "  </thead>\n",
       "  <tbody>\n",
       "    <tr>\n",
       "      <th>0</th>\n",
       "      <td>neomycin</td>\n",
       "      <td>C1[C@H]([C@@H]([C@H]([C@@H]([C@H]1N)O[C@@H]2[C...</td>\n",
       "      <td>9.0</td>\n",
       "    </tr>\n",
       "    <tr>\n",
       "      <th>1</th>\n",
       "      <td>amoxicillin</td>\n",
       "      <td>CC1(C)S[C@@H]2[C@H](NC(=O)[C@H](N)c3ccc(O)cc3)...</td>\n",
       "      <td>2.6</td>\n",
       "    </tr>\n",
       "    <tr>\n",
       "      <th>2</th>\n",
       "      <td>penicillin</td>\n",
       "      <td>CC1(C)S[C@@H]2[C@H](NC(=O)Cc3ccccc3)C(=O)N2[C@...</td>\n",
       "      <td>13.3</td>\n",
       "    </tr>\n",
       "    <tr>\n",
       "      <th>3</th>\n",
       "      <td>vancomycin</td>\n",
       "      <td>CN[C@H](CC(C)C)C(=O)N[C@H]1C(=O)N[C@@H](CC(N)=...</td>\n",
       "      <td>2.7</td>\n",
       "    </tr>\n",
       "    <tr>\n",
       "      <th>4</th>\n",
       "      <td>gentamicin</td>\n",
       "      <td>CN[C@@H]1[C@@H](O)[C@@H](O[C@@H]2[C@@H](O)[C@H...</td>\n",
       "      <td>9.3</td>\n",
       "    </tr>\n",
       "  </tbody>\n",
       "</table>\n",
       "</div>"
      ],
      "text/plain": [
       "          Drug                                             Smiles   pKa\n",
       "0     neomycin  C1[C@H]([C@@H]([C@H]([C@@H]([C@H]1N)O[C@@H]2[C...   9.0\n",
       "1  amoxicillin  CC1(C)S[C@@H]2[C@H](NC(=O)[C@H](N)c3ccc(O)cc3)...   2.6\n",
       "2   penicillin  CC1(C)S[C@@H]2[C@H](NC(=O)Cc3ccccc3)C(=O)N2[C@...  13.3\n",
       "3   vancomycin  CN[C@H](CC(C)C)C(=O)N[C@H]1C(=O)N[C@@H](CC(N)=...   2.7\n",
       "4   gentamicin  CN[C@@H]1[C@@H](O)[C@@H](O[C@@H]2[C@@H](O)[C@H...   9.3"
      ]
     },
     "execution_count": 12,
     "metadata": {},
     "output_type": "execute_result"
    }
   ],
   "source": [
    "df_drug.drop_duplicates(inplace=True)\n",
    "df_drug = df_drug.reset_index(drop=True)\n",
    "df_drug.head(5)"
   ]
  },
  {
   "attachments": {},
   "cell_type": "markdown",
   "metadata": {},
   "source": [
    "## Adding descriptors"
   ]
  },
  {
   "cell_type": "code",
   "execution_count": 13,
   "metadata": {},
   "outputs": [],
   "source": [
    "def add_desc_to_df(df: pd.DataFrame, desc: list):\n",
    "    calc = MoleculeDescriptors.MolecularDescriptorCalculator(desc)\n",
    "    desc_df = pd.DataFrame(\n",
    "        df['Smiles'].map(lambda x: calc.CalcDescriptors(Chem.MolFromSmiles(x))).to_list()\n",
    "    )\n",
    "    desc_df.columns = desc\n",
    "    return df.join(desc_df)\n",
    "\n",
    "\n",
    "def fill_nan_desc(df: pd.DataFrame, non_desc_cols: list = None):\n",
    "    '''\n",
    "    Fill NaN with calculated descriptors\n",
    "\n",
    "    Parameters\n",
    "    ----------\n",
    "    df: DataFrame\n",
    "\n",
    "    non_desc_cols: columns from df cant be calculated via rdkit \n",
    "    '''\n",
    "    cols_to_drop = ['Smiles']\n",
    "    cols_to_drop.extend(non_desc_cols)\n",
    "    for col in df.drop(columns=cols_to_drop).columns:\n",
    "        col_type = df[col].dtype\n",
    "        calc = MoleculeDescriptors.MolecularDescriptorCalculator([col])\n",
    "        mask = df[col].isna()\n",
    "        df.loc[mask, col] = df.loc[mask, 'smiles'].map(\n",
    "            lambda x: calc.CalcDescriptors(Chem.MolFromSmiles(x))[0]\n",
    "        ).astype(col_type)\n",
    "    return df"
   ]
  },
  {
   "cell_type": "code",
   "execution_count": 14,
   "metadata": {},
   "outputs": [],
   "source": [
    "descs_to_add = [\n",
    "    'LabuteASA', 'NumHDonors', 'NumHAcceptors', \n",
    "    'MolLogP', 'MolWt', 'Chi0', 'RingCount', 'TPSA'\n",
    "]\n",
    "df_drug = add_desc_to_df(df_drug, descs_to_add)"
   ]
  },
  {
   "cell_type": "code",
   "execution_count": 15,
   "metadata": {},
   "outputs": [
    {
     "name": "stdout",
     "output_type": "stream",
     "text": [
      "<class 'pandas.core.frame.DataFrame'>\n",
      "RangeIndex: 44 entries, 0 to 43\n",
      "Data columns (total 11 columns):\n",
      " #   Column         Non-Null Count  Dtype  \n",
      "---  ------         --------------  -----  \n",
      " 0   Drug           44 non-null     object \n",
      " 1   Smiles         44 non-null     object \n",
      " 2   pKa            44 non-null     float64\n",
      " 3   LabuteASA      44 non-null     float64\n",
      " 4   NumHDonors     44 non-null     int64  \n",
      " 5   NumHAcceptors  44 non-null     int64  \n",
      " 6   MolLogP        44 non-null     float64\n",
      " 7   MolWt          44 non-null     float64\n",
      " 8   Chi0           44 non-null     float64\n",
      " 9   RingCount      44 non-null     int64  \n",
      " 10  TPSA           44 non-null     float64\n",
      "dtypes: float64(6), int64(3), object(2)\n",
      "memory usage: 3.9+ KB\n"
     ]
    }
   ],
   "source": [
    "df_drug.info()"
   ]
  },
  {
   "cell_type": "markdown",
   "metadata": {},
   "source": [
    "# Работа с бактериями"
   ]
  },
  {
   "cell_type": "markdown",
   "metadata": {},
   "source": [
    "Есть минимальный и максимальное значение времени инкубации,\n",
    "оставим только среднее и добавим размах"
   ]
  },
  {
   "cell_type": "code",
   "execution_count": 16,
   "metadata": {},
   "outputs": [
    {
     "data": {
      "text/plain": [
       "Index(['Bacteria', 'kingdom', 'subkingdom', 'clade', 'phylum', 'class',\n",
       "       'order', 'family', 'genus', 'species', 'gram', 'min_Incub_period, h',\n",
       "       'avg_Incub_period, h', 'max_Incub_period, h', 'growth_temp, C',\n",
       "       'biosafety_level', 'isolated_from'],\n",
       "      dtype='object')"
      ]
     },
     "execution_count": 16,
     "metadata": {},
     "output_type": "execute_result"
    }
   ],
   "source": [
    "df_bac.columns"
   ]
  },
  {
   "cell_type": "code",
   "execution_count": 17,
   "metadata": {},
   "outputs": [],
   "source": [
    "df_bac['min_max_Incub_period'] = df_bac['max_Incub_period, h'] - df_bac['min_Incub_period, h']"
   ]
  },
  {
   "cell_type": "code",
   "execution_count": 18,
   "metadata": {},
   "outputs": [],
   "source": [
    "df_bac.drop(columns=['max_Incub_period, h', 'min_Incub_period, h'], inplace=True)"
   ]
  },
  {
   "cell_type": "code",
   "execution_count": 19,
   "metadata": {},
   "outputs": [
    {
     "data": {
      "text/plain": [
       "<Axes: >"
      ]
     },
     "execution_count": 19,
     "metadata": {},
     "output_type": "execute_result"
    },
    {
     "data": {
      "image/png": "[encoded data removed]",
      "text/plain": [
       "<Figure size 640x480 with 2 Axes>"
      ]
     },
     "metadata": {},
     "output_type": "display_data"
    }
   ],
   "source": [
    "sns.heatmap(df_bac.corr(numeric_only=True), annot=True)"
   ]
  },
  {
   "cell_type": "markdown",
   "metadata": {},
   "source": [
    "# Мерджим все бд в одну"
   ]
  },
  {
   "cell_type": "code",
   "execution_count": 20,
   "metadata": {},
   "outputs": [],
   "source": [
    "data_with_bac = pd.merge(df_data, df_bac, left_on='Bacteria', right_on='Bacteria', how='outer')"
   ]
  },
  {
   "cell_type": "code",
   "execution_count": 21,
   "metadata": {},
   "outputs": [],
   "source": [
    "df = pd.merge(data_with_bac, df_drug, left_on='Drug', right_on='Drug', how='outer')"
   ]
  },
  {
   "cell_type": "code",
   "execution_count": 22,
   "metadata": {},
   "outputs": [
    {
     "data": {
      "text/plain": [
       "Index(['Bacteria', 'NP_Synthesis', 'Drug', 'Drug_class_drug_bank', 'Drug_dose',\n",
       "       'NP_concentration', 'NP size_min', 'NP size_max', 'NP size_avg',\n",
       "       'shape', 'method', 'ZOI_drug', 'ZOI_NP', 'ZOI_drug_NP',\n",
       "       'fold_increase_in_antibacterial_activity (%)', 'MDR_check', 'kingdom',\n",
       "       'subkingdom', 'clade', 'phylum', 'class', 'order', 'family', 'genus',\n",
       "       'species', 'gram', 'avg_Incub_period, h', 'growth_temp, C',\n",
       "       'biosafety_level', 'isolated_from', 'min_max_Incub_period', 'Smiles',\n",
       "       'pKa', 'LabuteASA', 'NumHDonors', 'NumHAcceptors', 'MolLogP', 'MolWt',\n",
       "       'Chi0', 'RingCount', 'TPSA'],\n",
       "      dtype='object')"
      ]
     },
     "execution_count": 22,
     "metadata": {},
     "output_type": "execute_result"
    }
   ],
   "source": [
    "df.columns"
   ]
  },
  {
   "cell_type": "code",
   "execution_count": null,
   "metadata": {},
   "outputs": [],
   "source": []
  }
 ],
 "metadata": {
  "kernelspec": {
   "display_name": "ml",
   "language": "python",
   "name": "python3"
  },
  "language_info": {
   "codemirror_mode": {
    "name": "ipython",
    "version": 3
   },
   "file_extension": ".py",
   "mimetype": "text/x-python",
   "name": "python",
   "nbconvert_exporter": "python",
   "pygments_lexer": "ipython3",
   "version": "3.10.12"
  },
  "orig_nbformat": 4,
  "vscode": {
   "interpreter": {
    "hash": "d3b836c7ef044d43059c7846a59355f0b4cbb71a588c1f9492eaa9138c6b55f1"
   }
  }
 },
 "nbformat": 4,
 "nbformat_minor": 2
}
