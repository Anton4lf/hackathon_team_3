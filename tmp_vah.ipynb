{
 "cells": [
  {
   "cell_type": "code",
   "execution_count": 8,
   "metadata": {},
   "outputs": [],
   "source": [
    "from rdkit import RDLogger\n",
    "RDLogger.DisableLog('rdApp.*')\n",
    "\n",
    "import numpy as np\n",
    "import pandas as pd\n",
    "import seaborn as sns\n",
    "\n",
    "from rdkit import Chem\n",
    "from rdkit.Chem import Descriptors\n",
    "from rdkit.ML.Descriptors import MoleculeDescriptors "
   ]
  },
  {
   "cell_type": "code",
   "execution_count": 78,
   "metadata": {},
   "outputs": [],
   "source": [
    "df_data = pd.read_csv('data.csv', index_col=0).drop(columns=['Unnamed: 0'])\n",
    "df_bac = pd.read_csv('bacterial_descriptors.csv', index_col=0)\n",
    "df_drug = pd.read_csv('drug_descriptors.csv', index_col=0)"
   ]
  },
  {
   "cell_type": "code",
   "execution_count": 10,
   "metadata": {},
   "outputs": [
    {
     "data": {
      "text/html": [
       "<div>\n",
       "<style scoped>\n",
       "    .dataframe tbody tr th:only-of-type {\n",
       "        vertical-align: middle;\n",
       "    }\n",
       "\n",
       "    .dataframe tbody tr th {\n",
       "        vertical-align: top;\n",
       "    }\n",
       "\n",
       "    .dataframe thead th {\n",
       "        text-align: right;\n",
       "    }\n",
       "</style>\n",
       "<table border=\"1\" class=\"dataframe\">\n",
       "  <thead>\n",
       "    <tr style=\"text-align: right;\">\n",
       "      <th></th>\n",
       "      <th>Bacteria</th>\n",
       "      <th>NP_Synthesis</th>\n",
       "      <th>Drug</th>\n",
       "      <th>Drug_class_drug_bank</th>\n",
       "      <th>Drug_dose</th>\n",
       "      <th>NP_concentration</th>\n",
       "      <th>NP size_min</th>\n",
       "      <th>NP size_max</th>\n",
       "      <th>NP size_avg</th>\n",
       "      <th>shape</th>\n",
       "      <th>method</th>\n",
       "      <th>ZOI_drug</th>\n",
       "      <th>ZOI_NP</th>\n",
       "      <th>ZOI_drug_NP</th>\n",
       "      <th>fold_increase_in_antibacterial_activity (%)</th>\n",
       "      <th>MDR_check</th>\n",
       "    </tr>\n",
       "  </thead>\n",
       "  <tbody>\n",
       "    <tr>\n",
       "      <th>0</th>\n",
       "      <td>Escherichia coli</td>\n",
       "      <td>chem_synthesis_reduction_by_D_maltose</td>\n",
       "      <td>Amoxicillin</td>\n",
       "      <td>Lactams</td>\n",
       "      <td>NaN</td>\n",
       "      <td>NaN</td>\n",
       "      <td>4.0</td>\n",
       "      <td>10.0</td>\n",
       "      <td>8.0</td>\n",
       "      <td>spherical</td>\n",
       "      <td>MIC</td>\n",
       "      <td>32+</td>\n",
       "      <td>6.3</td>\n",
       "      <td>32+</td>\n",
       "      <td>NaN</td>\n",
       "      <td>1</td>\n",
       "    </tr>\n",
       "  </tbody>\n",
       "</table>\n",
       "</div>"
      ],
      "text/plain": [
       "           Bacteria                           NP_Synthesis         Drug  \\\n",
       "0  Escherichia coli  chem_synthesis_reduction_by_D_maltose  Amoxicillin   \n",
       "\n",
       "  Drug_class_drug_bank  Drug_dose NP_concentration  NP size_min  NP size_max  \\\n",
       "0              Lactams        NaN              NaN          4.0         10.0   \n",
       "\n",
       "   NP size_avg      shape method ZOI_drug ZOI_NP ZOI_drug_NP  \\\n",
       "0          8.0  spherical    MIC      32+    6.3         32+   \n",
       "\n",
       "   fold_increase_in_antibacterial_activity (%)  MDR_check  \n",
       "0                                          NaN          1  "
      ]
     },
     "execution_count": 10,
     "metadata": {},
     "output_type": "execute_result"
    }
   ],
   "source": [
    "df_data.head(1)"
   ]
  },
  {
   "cell_type": "code",
   "execution_count": 11,
   "metadata": {},
   "outputs": [
    {
     "data": {
      "text/html": [
       "<div>\n",
       "<style scoped>\n",
       "    .dataframe tbody tr th:only-of-type {\n",
       "        vertical-align: middle;\n",
       "    }\n",
       "\n",
       "    .dataframe tbody tr th {\n",
       "        vertical-align: top;\n",
       "    }\n",
       "\n",
       "    .dataframe thead th {\n",
       "        text-align: right;\n",
       "    }\n",
       "</style>\n",
       "<table border=\"1\" class=\"dataframe\">\n",
       "  <thead>\n",
       "    <tr style=\"text-align: right;\">\n",
       "      <th></th>\n",
       "      <th>Bacteria</th>\n",
       "      <th>kingdom</th>\n",
       "      <th>subkingdom</th>\n",
       "      <th>clade</th>\n",
       "      <th>phylum</th>\n",
       "      <th>class</th>\n",
       "      <th>order</th>\n",
       "      <th>family</th>\n",
       "      <th>genus</th>\n",
       "      <th>species</th>\n",
       "      <th>gram</th>\n",
       "      <th>min_Incub_period, h</th>\n",
       "      <th>avg_Incub_period, h</th>\n",
       "      <th>max_Incub_period, h</th>\n",
       "      <th>growth_temp, C</th>\n",
       "      <th>biosafety_level</th>\n",
       "      <th>isolated_from</th>\n",
       "    </tr>\n",
       "    <tr>\n",
       "      <th>Tax_id</th>\n",
       "      <th></th>\n",
       "      <th></th>\n",
       "      <th></th>\n",
       "      <th></th>\n",
       "      <th></th>\n",
       "      <th></th>\n",
       "      <th></th>\n",
       "      <th></th>\n",
       "      <th></th>\n",
       "      <th></th>\n",
       "      <th></th>\n",
       "      <th></th>\n",
       "      <th></th>\n",
       "      <th></th>\n",
       "      <th></th>\n",
       "      <th></th>\n",
       "      <th></th>\n",
       "    </tr>\n",
       "  </thead>\n",
       "  <tbody>\n",
       "    <tr>\n",
       "      <th>['470']</th>\n",
       "      <td>Acinetobacter baumannii</td>\n",
       "      <td>Bacteria</td>\n",
       "      <td>NaN</td>\n",
       "      <td>NaN</td>\n",
       "      <td>Pseudomonadota</td>\n",
       "      <td>Gammaproteobacteria</td>\n",
       "      <td>Moraxellales</td>\n",
       "      <td>Moraxellaceae</td>\n",
       "      <td>Acinetobacter</td>\n",
       "      <td>Acinetobacter calcoaceticus/baumannii complex</td>\n",
       "      <td>n</td>\n",
       "      <td>24.0</td>\n",
       "      <td>36.0</td>\n",
       "      <td>48.0</td>\n",
       "      <td>37</td>\n",
       "      <td>2</td>\n",
       "      <td>urine</td>\n",
       "    </tr>\n",
       "  </tbody>\n",
       "</table>\n",
       "</div>"
      ],
      "text/plain": [
       "                        Bacteria   kingdom subkingdom clade          phylum  \\\n",
       "Tax_id                                                                        \n",
       "['470']  Acinetobacter baumannii  Bacteria        NaN   NaN  Pseudomonadota   \n",
       "\n",
       "                       class         order         family          genus  \\\n",
       "Tax_id                                                                     \n",
       "['470']  Gammaproteobacteria  Moraxellales  Moraxellaceae  Acinetobacter   \n",
       "\n",
       "                                               species gram  \\\n",
       "Tax_id                                                        \n",
       "['470']  Acinetobacter calcoaceticus/baumannii complex    n   \n",
       "\n",
       "         min_Incub_period, h  avg_Incub_period, h  max_Incub_period, h  \\\n",
       "Tax_id                                                                   \n",
       "['470']                 24.0                 36.0                 48.0   \n",
       "\n",
       "         growth_temp, C  biosafety_level isolated_from  \n",
       "Tax_id                                                  \n",
       "['470']              37                2         urine  "
      ]
     },
     "execution_count": 11,
     "metadata": {},
     "output_type": "execute_result"
    }
   ],
   "source": [
    "df_bac.head(1)"
   ]
  },
  {
   "cell_type": "code",
   "execution_count": 12,
   "metadata": {},
   "outputs": [
    {
     "data": {
      "text/html": [
       "<div>\n",
       "<style scoped>\n",
       "    .dataframe tbody tr th:only-of-type {\n",
       "        vertical-align: middle;\n",
       "    }\n",
       "\n",
       "    .dataframe tbody tr th {\n",
       "        vertical-align: top;\n",
       "    }\n",
       "\n",
       "    .dataframe thead th {\n",
       "        text-align: right;\n",
       "    }\n",
       "</style>\n",
       "<table border=\"1\" class=\"dataframe\">\n",
       "  <thead>\n",
       "    <tr style=\"text-align: right;\">\n",
       "      <th></th>\n",
       "      <th>drug</th>\n",
       "      <th>chemID</th>\n",
       "      <th>prefered_name</th>\n",
       "      <th>smiles</th>\n",
       "    </tr>\n",
       "  </thead>\n",
       "  <tbody>\n",
       "    <tr>\n",
       "      <th>0</th>\n",
       "      <td>Amoxicillin</td>\n",
       "      <td>CHEMBL1082</td>\n",
       "      <td>AMOXICILLIN</td>\n",
       "      <td>CC1(C)S[C@@H]2[C@H](NC(=O)[C@H](N)c3ccc(O)cc3)...</td>\n",
       "    </tr>\n",
       "  </tbody>\n",
       "</table>\n",
       "</div>"
      ],
      "text/plain": [
       "          drug      chemID prefered_name  \\\n",
       "0  Amoxicillin  CHEMBL1082   AMOXICILLIN   \n",
       "\n",
       "                                              smiles  \n",
       "0  CC1(C)S[C@@H]2[C@H](NC(=O)[C@H](N)c3ccc(O)cc3)...  "
      ]
     },
     "execution_count": 12,
     "metadata": {},
     "output_type": "execute_result"
    }
   ],
   "source": [
    "df_drug.head(1)"
   ]
  },
  {
   "cell_type": "markdown",
   "metadata": {},
   "source": [
    "# Работаем с драгами"
   ]
  },
  {
   "cell_type": "code",
   "execution_count": 79,
   "metadata": {},
   "outputs": [
    {
     "data": {
      "text/html": [
       "<div>\n",
       "<style scoped>\n",
       "    .dataframe tbody tr th:only-of-type {\n",
       "        vertical-align: middle;\n",
       "    }\n",
       "\n",
       "    .dataframe tbody tr th {\n",
       "        vertical-align: top;\n",
       "    }\n",
       "\n",
       "    .dataframe thead th {\n",
       "        text-align: right;\n",
       "    }\n",
       "</style>\n",
       "<table border=\"1\" class=\"dataframe\">\n",
       "  <thead>\n",
       "    <tr style=\"text-align: right;\">\n",
       "      <th></th>\n",
       "      <th>drug</th>\n",
       "      <th>smiles</th>\n",
       "    </tr>\n",
       "  </thead>\n",
       "  <tbody>\n",
       "    <tr>\n",
       "      <th>0</th>\n",
       "      <td>Amoxicillin</td>\n",
       "      <td>CC1(C)S[C@@H]2[C@H](NC(=O)[C@H](N)c3ccc(O)cc3)...</td>\n",
       "    </tr>\n",
       "  </tbody>\n",
       "</table>\n",
       "</div>"
      ],
      "text/plain": [
       "          drug                                             smiles\n",
       "0  Amoxicillin  CC1(C)S[C@@H]2[C@H](NC(=O)[C@H](N)c3ccc(O)cc3)..."
      ]
     },
     "execution_count": 79,
     "metadata": {},
     "output_type": "execute_result"
    }
   ],
   "source": [
    "df_drug.drop(columns=['prefered_name', 'chemID'], inplace=True)\n",
    "df_drug.head(1)"
   ]
  },
  {
   "cell_type": "code",
   "execution_count": 80,
   "metadata": {},
   "outputs": [
    {
     "data": {
      "text/plain": [
       "{'Neomycin', nan}"
      ]
     },
     "execution_count": 80,
     "metadata": {},
     "output_type": "execute_result"
    }
   ],
   "source": [
    "drugs_in_drugs = set(df_drug.drug.unique())\n",
    "drugs_in_data = set(df_data.Drug.unique())\n",
    "drugs_in_data.difference(drugs_in_drugs)"
   ]
  },
  {
   "cell_type": "markdown",
   "metadata": {},
   "source": [
    "Неомицин добавим вручную, nan будем считать наночастицами без модификаций"
   ]
  },
  {
   "cell_type": "code",
   "execution_count": 81,
   "metadata": {},
   "outputs": [
    {
     "data": {
      "text/html": [
       "<div>\n",
       "<style scoped>\n",
       "    .dataframe tbody tr th:only-of-type {\n",
       "        vertical-align: middle;\n",
       "    }\n",
       "\n",
       "    .dataframe tbody tr th {\n",
       "        vertical-align: top;\n",
       "    }\n",
       "\n",
       "    .dataframe thead th {\n",
       "        text-align: right;\n",
       "    }\n",
       "</style>\n",
       "<table border=\"1\" class=\"dataframe\">\n",
       "  <thead>\n",
       "    <tr style=\"text-align: right;\">\n",
       "      <th></th>\n",
       "      <th>drug</th>\n",
       "      <th>smiles</th>\n",
       "    </tr>\n",
       "  </thead>\n",
       "  <tbody>\n",
       "    <tr>\n",
       "      <th>0</th>\n",
       "      <td>neomycin</td>\n",
       "      <td>C1[C@H]([C@@H]([C@H]([C@@H]([C@H]1N)O[C@@H]2[C...</td>\n",
       "    </tr>\n",
       "  </tbody>\n",
       "</table>\n",
       "</div>"
      ],
      "text/plain": [
       "       drug                                             smiles\n",
       "0  neomycin  C1[C@H]([C@@H]([C@H]([C@@H]([C@H]1N)O[C@@H]2[C..."
      ]
     },
     "execution_count": 81,
     "metadata": {},
     "output_type": "execute_result"
    }
   ],
   "source": [
    "# лень разбираться с апи pubchem, но нужно добавить неомицин\n",
    "Neomycin = {\n",
    "    'drug': ['neomycin'],\n",
    "    'smiles': [\n",
    "        'C1[C@H]([C@@H]([C@H]([C@@H]([C@H]1N)O[C@@H]2[C@@H]([C@H]([C@@H]([C@H](O2)CN)O)O)N)O[C@H]3[C@@H]([C@@H]([C@H](O3)CO)O[C@@H]4[C@@H]([C@H]([C@@H]([C@@H](O4)CN)O)O)N)O)O)N'\n",
    "    ]\n",
    "}\n",
    "row_to_append = pd.DataFrame(Neomycin)\n",
    "df_drug = pd.concat([row_to_append, df_drug]).reset_index(drop=True)\n",
    "df_drug.head(1)"
   ]
  },
  {
   "cell_type": "code",
   "execution_count": 82,
   "metadata": {},
   "outputs": [],
   "source": [
    "pKa = pd.read_csv('pKa.csv', sep=';')\n",
    "df_drug = df_drug.applymap(lambda x: x.strip() if isinstance(x, str) else x)\n",
    "pKa['Name'] = pKa['Name'].map(lambda x: x.lower() if isinstance(x, str) else x)\n",
    "df_drug['drug'] = df_drug['drug'].map(lambda x: x.lower() if isinstance(x, str) else x)"
   ]
  },
  {
   "cell_type": "code",
   "execution_count": 83,
   "metadata": {},
   "outputs": [],
   "source": [
    "df_drug = pd.merge(df_drug, pKa, left_on='drug', right_on='Name', how='outer').drop(columns=['Name'])"
   ]
  },
  {
   "cell_type": "code",
   "execution_count": 89,
   "metadata": {},
   "outputs": [
    {
     "data": {
      "text/html": [
       "<div>\n",
       "<style scoped>\n",
       "    .dataframe tbody tr th:only-of-type {\n",
       "        vertical-align: middle;\n",
       "    }\n",
       "\n",
       "    .dataframe tbody tr th {\n",
       "        vertical-align: top;\n",
       "    }\n",
       "\n",
       "    .dataframe thead th {\n",
       "        text-align: right;\n",
       "    }\n",
       "</style>\n",
       "<table border=\"1\" class=\"dataframe\">\n",
       "  <thead>\n",
       "    <tr style=\"text-align: right;\">\n",
       "      <th></th>\n",
       "      <th>Drug</th>\n",
       "      <th>Smiles</th>\n",
       "      <th>pKa</th>\n",
       "    </tr>\n",
       "  </thead>\n",
       "  <tbody>\n",
       "    <tr>\n",
       "      <th>0</th>\n",
       "      <td>neomycin</td>\n",
       "      <td>C1[C@H]([C@@H]([C@H]([C@@H]([C@H]1N)O[C@@H]2[C...</td>\n",
       "      <td>9.0</td>\n",
       "    </tr>\n",
       "    <tr>\n",
       "      <th>1</th>\n",
       "      <td>amoxicillin</td>\n",
       "      <td>CC1(C)S[C@@H]2[C@H](NC(=O)[C@H](N)c3ccc(O)cc3)...</td>\n",
       "      <td>2.6</td>\n",
       "    </tr>\n",
       "    <tr>\n",
       "      <th>2</th>\n",
       "      <td>penicillin</td>\n",
       "      <td>CC1(C)S[C@@H]2[C@H](NC(=O)Cc3ccccc3)C(=O)N2[C@...</td>\n",
       "      <td>13.3</td>\n",
       "    </tr>\n",
       "    <tr>\n",
       "      <th>3</th>\n",
       "      <td>vancomycin</td>\n",
       "      <td>CN[C@H](CC(C)C)C(=O)N[C@H]1C(=O)N[C@@H](CC(N)=...</td>\n",
       "      <td>2.7</td>\n",
       "    </tr>\n",
       "    <tr>\n",
       "      <th>4</th>\n",
       "      <td>gentamicin</td>\n",
       "      <td>CN[C@@H]1[C@@H](O)[C@@H](O[C@@H]2[C@@H](O)[C@H...</td>\n",
       "      <td>9.3</td>\n",
       "    </tr>\n",
       "    <tr>\n",
       "      <th>5</th>\n",
       "      <td>ceftazidime</td>\n",
       "      <td>CC(C)(O/N=C(\\C(=O)N[C@@H]1C(=O)N2C(C(=O)[O-])=...</td>\n",
       "      <td>2.6</td>\n",
       "    </tr>\n",
       "    <tr>\n",
       "      <th>6</th>\n",
       "      <td>ampicillin</td>\n",
       "      <td>CC1(C)S[C@@H]2[C@H](NC(=O)[C@H](N)c3ccccc3)C(=...</td>\n",
       "      <td>2.6</td>\n",
       "    </tr>\n",
       "    <tr>\n",
       "      <th>7</th>\n",
       "      <td>faropenem</td>\n",
       "      <td>C[C@@H](O)[C@H]1C(=O)N2C(C(=O)O)=C([C@H]3CCCO3...</td>\n",
       "      <td>3.6</td>\n",
       "    </tr>\n",
       "    <tr>\n",
       "      <th>8</th>\n",
       "      <td>ceftriaxone</td>\n",
       "      <td>CO/N=C(\\C(=O)N[C@@H]1C(=O)N2C(C(=O)O)=C(CSc3nc...</td>\n",
       "      <td>1.6</td>\n",
       "    </tr>\n",
       "    <tr>\n",
       "      <th>9</th>\n",
       "      <td>rifampicin</td>\n",
       "      <td>CO[C@H]1/C=C/O[C@@]2(C)Oc3c(C)c(O)c4c(O)c(c(/C...</td>\n",
       "      <td>5.6</td>\n",
       "    </tr>\n",
       "    <tr>\n",
       "      <th>10</th>\n",
       "      <td>azithromycin</td>\n",
       "      <td>CC[C@H]1OC(=O)[C@H](C)[C@@H](O[C@H]2C[C@@](C)(...</td>\n",
       "      <td>8.9</td>\n",
       "    </tr>\n",
       "    <tr>\n",
       "      <th>11</th>\n",
       "      <td>chloramphenicol</td>\n",
       "      <td>O=C(N[C@H](CO)[C@H](O)c1ccc([N+](=O)[O-])cc1)C...</td>\n",
       "      <td>11.2</td>\n",
       "    </tr>\n",
       "    <tr>\n",
       "      <th>12</th>\n",
       "      <td>oxytetracycline</td>\n",
       "      <td>CN(C)[C@@H]1C(O)=C(C(N)=O)C(=O)[C@@]2(O)C(O)=C...</td>\n",
       "      <td>2.7</td>\n",
       "    </tr>\n",
       "    <tr>\n",
       "      <th>13</th>\n",
       "      <td>piperacillin</td>\n",
       "      <td>CCN1CCN(C(=O)N[C@@H](C(=O)N[C@@H]2C(=O)N3[C@@H...</td>\n",
       "      <td>2.6</td>\n",
       "    </tr>\n",
       "    <tr>\n",
       "      <th>14</th>\n",
       "      <td>tetracycline</td>\n",
       "      <td>CN(C)[C@@H]1C(O)=C(C(N)=O)C(=O)[C@@]2(O)C(O)=C...</td>\n",
       "      <td>2.8</td>\n",
       "    </tr>\n",
       "    <tr>\n",
       "      <th>15</th>\n",
       "      <td>ciprofloxacin</td>\n",
       "      <td>O=C(O)c1cn(C2CC2)c2cc(N3CCNCC3)c(F)cc2c1=O</td>\n",
       "      <td>4.2</td>\n",
       "    </tr>\n",
       "    <tr>\n",
       "      <th>16</th>\n",
       "      <td>ciprofloxacin</td>\n",
       "      <td>O=C(O)c1cn(C2CC2)c2cc(N3CCNCC3)c(F)cc2c1=O</td>\n",
       "      <td>4.2</td>\n",
       "    </tr>\n",
       "    <tr>\n",
       "      <th>17</th>\n",
       "      <td>ciprofloxacin</td>\n",
       "      <td>O=C(O)c1cn(C2CC2)c2cc(N3CCNCC3)c(F)cc2c1=O</td>\n",
       "      <td>4.2</td>\n",
       "    </tr>\n",
       "    <tr>\n",
       "      <th>18</th>\n",
       "      <td>ciprofloxacin</td>\n",
       "      <td>O=C(O)c1cn(C2CC2)c2cc(N3CCNCC3)c(F)cc2c1=O</td>\n",
       "      <td>4.2</td>\n",
       "    </tr>\n",
       "    <tr>\n",
       "      <th>19</th>\n",
       "      <td>cefuroxime</td>\n",
       "      <td>CO/N=C(\\C(=O)N[C@@H]1C(=O)N2C(C(=O)O)=C(COC(N)...</td>\n",
       "      <td>2.4</td>\n",
       "    </tr>\n",
       "    <tr>\n",
       "      <th>20</th>\n",
       "      <td>streptomycin</td>\n",
       "      <td>CN[C@@H]1[C@H](O[C@H]2[C@H](O[C@H]3[C@H](O)[C@...</td>\n",
       "      <td>7.9</td>\n",
       "    </tr>\n",
       "    <tr>\n",
       "      <th>21</th>\n",
       "      <td>co-trimoxazole</td>\n",
       "      <td>COc1cc(Cc2cnc(N)nc2N)cc(OC)c1OC.Cc1cc(NS(=O)(=...</td>\n",
       "      <td>4.1</td>\n",
       "    </tr>\n",
       "    <tr>\n",
       "      <th>22</th>\n",
       "      <td>oxacillin</td>\n",
       "      <td>Cc1onc(-c2ccccc2)c1C(=O)N[C@@H]1C(=O)N2[C@@H]1...</td>\n",
       "      <td>2.6</td>\n",
       "    </tr>\n",
       "    <tr>\n",
       "      <th>23</th>\n",
       "      <td>cefotaxime</td>\n",
       "      <td>CO/N=C(\\C(=O)N[C@@H]1C(=O)N2C(C(=O)[O-])=C(COC...</td>\n",
       "      <td>9.3</td>\n",
       "    </tr>\n",
       "    <tr>\n",
       "      <th>24</th>\n",
       "      <td>fosfomycin</td>\n",
       "      <td>C[C@@H]1O[C@@H]1P(=O)(O)O</td>\n",
       "      <td>2.3</td>\n",
       "    </tr>\n",
       "    <tr>\n",
       "      <th>25</th>\n",
       "      <td>mupirocin</td>\n",
       "      <td>C/C(=C\\C(=O)OCCCCCCCCC(=O)O)C[C@@H]1OC[C@H](C[...</td>\n",
       "      <td>4.6</td>\n",
       "    </tr>\n",
       "    <tr>\n",
       "      <th>26</th>\n",
       "      <td>doxycycline</td>\n",
       "      <td>C[C@H]1c2cccc(O)c2C(=O)C2=C(O)[C@]3(O)C(=O)C(C...</td>\n",
       "      <td>2.7</td>\n",
       "    </tr>\n",
       "    <tr>\n",
       "      <th>27</th>\n",
       "      <td>nitrofurantoin</td>\n",
       "      <td>O=C1CN(/N=C/c2ccc([N+](=O)[O-])o2)C(=O)N1</td>\n",
       "      <td>4.1</td>\n",
       "    </tr>\n",
       "    <tr>\n",
       "      <th>28</th>\n",
       "      <td>erythromycin</td>\n",
       "      <td>CC[C@H]1OC(=O)[C@H](C)[C@@H](O[C@H]2C[C@@](C)(...</td>\n",
       "      <td>7.7</td>\n",
       "    </tr>\n",
       "    <tr>\n",
       "      <th>29</th>\n",
       "      <td>cefazolin</td>\n",
       "      <td>Cc1nnc(SCC2=C(C(=O)O)N3C(=O)[C@@H](NC(=O)Cn4cn...</td>\n",
       "      <td>2.2</td>\n",
       "    </tr>\n",
       "    <tr>\n",
       "      <th>30</th>\n",
       "      <td>cefixime</td>\n",
       "      <td>C=CC1=C(C(=O)O)N2C(=O)[C@@H](NC(=O)/C(=N\\OCC(=...</td>\n",
       "      <td>2.5</td>\n",
       "    </tr>\n",
       "    <tr>\n",
       "      <th>31</th>\n",
       "      <td>carbenicillin</td>\n",
       "      <td>CC1(C)S[C@@H]2[C@H](NC(=O)C(C(=O)O)c3ccccc3)C(...</td>\n",
       "      <td>2.4</td>\n",
       "    </tr>\n",
       "    <tr>\n",
       "      <th>32</th>\n",
       "      <td>amikacin</td>\n",
       "      <td>NCC[C@H](O)C(=O)N[C@@H]1C[C@H](N)[C@@H](O[C@H]...</td>\n",
       "      <td>9.1</td>\n",
       "    </tr>\n",
       "    <tr>\n",
       "      <th>33</th>\n",
       "      <td>trimethoprim</td>\n",
       "      <td>COc1cc(Cc2cnc(N)nc2N)cc(OC)c1OC</td>\n",
       "      <td>5.4</td>\n",
       "    </tr>\n",
       "    <tr>\n",
       "      <th>34</th>\n",
       "      <td>kanamycin</td>\n",
       "      <td>NC[C@H]1O[C@H](O[C@H]2[C@H](O)[C@@H](O[C@H]3O[...</td>\n",
       "      <td>9.2</td>\n",
       "    </tr>\n",
       "    <tr>\n",
       "      <th>35</th>\n",
       "      <td>levofloxacin</td>\n",
       "      <td>C[C@H]1COc2c(N3CCN(C)CC3)c(F)cc3c(=O)c(C(=O)O)...</td>\n",
       "      <td>3.4</td>\n",
       "    </tr>\n",
       "    <tr>\n",
       "      <th>36</th>\n",
       "      <td>imipenem</td>\n",
       "      <td>C[C@@H](O)[C@H]1C(=O)N2C(C(=O)O)=C(SCCNC=N)C[C...</td>\n",
       "      <td>4.0</td>\n",
       "    </tr>\n",
       "    <tr>\n",
       "      <th>37</th>\n",
       "      <td>nalidixic acid</td>\n",
       "      <td>CCn1cc(C(=O)O)c(=O)c2ccc(C)nc21</td>\n",
       "      <td>2.4</td>\n",
       "    </tr>\n",
       "    <tr>\n",
       "      <th>38</th>\n",
       "      <td>fusidic acid</td>\n",
       "      <td>CC(=O)O[C@H]1C[C@@]2(C)[C@@H](C[C@@H](O)[C@H]3...</td>\n",
       "      <td>4.3</td>\n",
       "    </tr>\n",
       "    <tr>\n",
       "      <th>39</th>\n",
       "      <td>polymyxin</td>\n",
       "      <td>CC(C)CCCCC(=O)N[C@@H](CCN)C(=O)N[C@H](C(=O)N[C...</td>\n",
       "      <td>9.6</td>\n",
       "    </tr>\n",
       "    <tr>\n",
       "      <th>40</th>\n",
       "      <td>cephalexin</td>\n",
       "      <td>CC1=C(C(=O)O)N2C(=O)[C@@H](NC(=O)[C@H](N)c3ccc...</td>\n",
       "      <td>2.7</td>\n",
       "    </tr>\n",
       "    <tr>\n",
       "      <th>41</th>\n",
       "      <td>cefepime</td>\n",
       "      <td>CO/N=C(\\C(=O)N[C@@H]1C(=O)N2C(C(=O)[O-])=C(C[N...</td>\n",
       "      <td>3.6</td>\n",
       "    </tr>\n",
       "    <tr>\n",
       "      <th>42</th>\n",
       "      <td>amphotericin b</td>\n",
       "      <td>C[C@@H]1[C@H](O)[C@@H](C)/C=C/C=C/C=C/C=C/C=C/...</td>\n",
       "      <td>3.8</td>\n",
       "    </tr>\n",
       "    <tr>\n",
       "      <th>43</th>\n",
       "      <td>clindamycin</td>\n",
       "      <td>CCC[C@@H]1C[C@@H](C(=O)N[C@@H]([C@H]2O[C@H](SC...</td>\n",
       "      <td>8.7</td>\n",
       "    </tr>\n",
       "    <tr>\n",
       "      <th>44</th>\n",
       "      <td>colistin</td>\n",
       "      <td>CC(C)CCCCC(=O)N[C@@H](CCN)C(=O)N[C@@H](CN[C@@H...</td>\n",
       "      <td>9.4</td>\n",
       "    </tr>\n",
       "    <tr>\n",
       "      <th>45</th>\n",
       "      <td>biapenem</td>\n",
       "      <td>C[C@@H](O)[C@H]1C(=O)N2C(C(=O)[O-])=C(SC3Cn4cn...</td>\n",
       "      <td>3.3</td>\n",
       "    </tr>\n",
       "    <tr>\n",
       "      <th>46</th>\n",
       "      <td>aztreonam</td>\n",
       "      <td>C[C@H]1[C@H](NC(=O)/C(=N\\OC(C)(C)C(=O)O)c2csc(...</td>\n",
       "      <td>-0.1</td>\n",
       "    </tr>\n",
       "  </tbody>\n",
       "</table>\n",
       "</div>"
      ],
      "text/plain": [
       "               Drug                                             Smiles   pKa\n",
       "0          neomycin  C1[C@H]([C@@H]([C@H]([C@@H]([C@H]1N)O[C@@H]2[C...   9.0\n",
       "1       amoxicillin  CC1(C)S[C@@H]2[C@H](NC(=O)[C@H](N)c3ccc(O)cc3)...   2.6\n",
       "2        penicillin  CC1(C)S[C@@H]2[C@H](NC(=O)Cc3ccccc3)C(=O)N2[C@...  13.3\n",
       "3        vancomycin  CN[C@H](CC(C)C)C(=O)N[C@H]1C(=O)N[C@@H](CC(N)=...   2.7\n",
       "4        gentamicin  CN[C@@H]1[C@@H](O)[C@@H](O[C@@H]2[C@@H](O)[C@H...   9.3\n",
       "5       ceftazidime  CC(C)(O/N=C(\\C(=O)N[C@@H]1C(=O)N2C(C(=O)[O-])=...   2.6\n",
       "6        ampicillin  CC1(C)S[C@@H]2[C@H](NC(=O)[C@H](N)c3ccccc3)C(=...   2.6\n",
       "7         faropenem  C[C@@H](O)[C@H]1C(=O)N2C(C(=O)O)=C([C@H]3CCCO3...   3.6\n",
       "8       ceftriaxone  CO/N=C(\\C(=O)N[C@@H]1C(=O)N2C(C(=O)O)=C(CSc3nc...   1.6\n",
       "9        rifampicin  CO[C@H]1/C=C/O[C@@]2(C)Oc3c(C)c(O)c4c(O)c(c(/C...   5.6\n",
       "10     azithromycin  CC[C@H]1OC(=O)[C@H](C)[C@@H](O[C@H]2C[C@@](C)(...   8.9\n",
       "11  chloramphenicol  O=C(N[C@H](CO)[C@H](O)c1ccc([N+](=O)[O-])cc1)C...  11.2\n",
       "12  oxytetracycline  CN(C)[C@@H]1C(O)=C(C(N)=O)C(=O)[C@@]2(O)C(O)=C...   2.7\n",
       "13     piperacillin  CCN1CCN(C(=O)N[C@@H](C(=O)N[C@@H]2C(=O)N3[C@@H...   2.6\n",
       "14     tetracycline  CN(C)[C@@H]1C(O)=C(C(N)=O)C(=O)[C@@]2(O)C(O)=C...   2.8\n",
       "15    ciprofloxacin         O=C(O)c1cn(C2CC2)c2cc(N3CCNCC3)c(F)cc2c1=O   4.2\n",
       "16    ciprofloxacin         O=C(O)c1cn(C2CC2)c2cc(N3CCNCC3)c(F)cc2c1=O   4.2\n",
       "17    ciprofloxacin         O=C(O)c1cn(C2CC2)c2cc(N3CCNCC3)c(F)cc2c1=O   4.2\n",
       "18    ciprofloxacin         O=C(O)c1cn(C2CC2)c2cc(N3CCNCC3)c(F)cc2c1=O   4.2\n",
       "19       cefuroxime  CO/N=C(\\C(=O)N[C@@H]1C(=O)N2C(C(=O)O)=C(COC(N)...   2.4\n",
       "20     streptomycin  CN[C@@H]1[C@H](O[C@H]2[C@H](O[C@H]3[C@H](O)[C@...   7.9\n",
       "21   co-trimoxazole  COc1cc(Cc2cnc(N)nc2N)cc(OC)c1OC.Cc1cc(NS(=O)(=...   4.1\n",
       "22        oxacillin  Cc1onc(-c2ccccc2)c1C(=O)N[C@@H]1C(=O)N2[C@@H]1...   2.6\n",
       "23       cefotaxime  CO/N=C(\\C(=O)N[C@@H]1C(=O)N2C(C(=O)[O-])=C(COC...   9.3\n",
       "24       fosfomycin                          C[C@@H]1O[C@@H]1P(=O)(O)O   2.3\n",
       "25        mupirocin  C/C(=C\\C(=O)OCCCCCCCCC(=O)O)C[C@@H]1OC[C@H](C[...   4.6\n",
       "26      doxycycline  C[C@H]1c2cccc(O)c2C(=O)C2=C(O)[C@]3(O)C(=O)C(C...   2.7\n",
       "27   nitrofurantoin          O=C1CN(/N=C/c2ccc([N+](=O)[O-])o2)C(=O)N1   4.1\n",
       "28     erythromycin  CC[C@H]1OC(=O)[C@H](C)[C@@H](O[C@H]2C[C@@](C)(...   7.7\n",
       "29        cefazolin  Cc1nnc(SCC2=C(C(=O)O)N3C(=O)[C@@H](NC(=O)Cn4cn...   2.2\n",
       "30         cefixime  C=CC1=C(C(=O)O)N2C(=O)[C@@H](NC(=O)/C(=N\\OCC(=...   2.5\n",
       "31    carbenicillin  CC1(C)S[C@@H]2[C@H](NC(=O)C(C(=O)O)c3ccccc3)C(...   2.4\n",
       "32         amikacin  NCC[C@H](O)C(=O)N[C@@H]1C[C@H](N)[C@@H](O[C@H]...   9.1\n",
       "33     trimethoprim                    COc1cc(Cc2cnc(N)nc2N)cc(OC)c1OC   5.4\n",
       "34        kanamycin  NC[C@H]1O[C@H](O[C@H]2[C@H](O)[C@@H](O[C@H]3O[...   9.2\n",
       "35     levofloxacin  C[C@H]1COc2c(N3CCN(C)CC3)c(F)cc3c(=O)c(C(=O)O)...   3.4\n",
       "36         imipenem  C[C@@H](O)[C@H]1C(=O)N2C(C(=O)O)=C(SCCNC=N)C[C...   4.0\n",
       "37   nalidixic acid                    CCn1cc(C(=O)O)c(=O)c2ccc(C)nc21   2.4\n",
       "38     fusidic acid  CC(=O)O[C@H]1C[C@@]2(C)[C@@H](C[C@@H](O)[C@H]3...   4.3\n",
       "39        polymyxin  CC(C)CCCCC(=O)N[C@@H](CCN)C(=O)N[C@H](C(=O)N[C...   9.6\n",
       "40       cephalexin  CC1=C(C(=O)O)N2C(=O)[C@@H](NC(=O)[C@H](N)c3ccc...   2.7\n",
       "41         cefepime  CO/N=C(\\C(=O)N[C@@H]1C(=O)N2C(C(=O)[O-])=C(C[N...   3.6\n",
       "42   amphotericin b  C[C@@H]1[C@H](O)[C@@H](C)/C=C/C=C/C=C/C=C/C=C/...   3.8\n",
       "43      clindamycin  CCC[C@@H]1C[C@@H](C(=O)N[C@@H]([C@H]2O[C@H](SC...   8.7\n",
       "44         colistin  CC(C)CCCCC(=O)N[C@@H](CCN)C(=O)N[C@@H](CN[C@@H...   9.4\n",
       "45         biapenem  C[C@@H](O)[C@H]1C(=O)N2C(C(=O)[O-])=C(SC3Cn4cn...   3.3\n",
       "46        aztreonam  C[C@H]1[C@H](NC(=O)/C(=N\\OC(C)(C)C(=O)O)c2csc(...  -0.1"
      ]
     },
     "execution_count": 89,
     "metadata": {},
     "output_type": "execute_result"
    }
   ],
   "source": [
    "df_drug"
   ]
  },
  {
   "cell_type": "code",
   "execution_count": 85,
   "metadata": {},
   "outputs": [
    {
     "data": {
      "text/html": [
       "<div>\n",
       "<style scoped>\n",
       "    .dataframe tbody tr th:only-of-type {\n",
       "        vertical-align: middle;\n",
       "    }\n",
       "\n",
       "    .dataframe tbody tr th {\n",
       "        vertical-align: top;\n",
       "    }\n",
       "\n",
       "    .dataframe thead th {\n",
       "        text-align: right;\n",
       "    }\n",
       "</style>\n",
       "<table border=\"1\" class=\"dataframe\">\n",
       "  <thead>\n",
       "    <tr style=\"text-align: right;\">\n",
       "      <th></th>\n",
       "      <th>Drug</th>\n",
       "      <th>Smiles</th>\n",
       "      <th>pKa</th>\n",
       "    </tr>\n",
       "  </thead>\n",
       "  <tbody>\n",
       "    <tr>\n",
       "      <th>0</th>\n",
       "      <td>neomycin</td>\n",
       "      <td>C1[C@H]([C@@H]([C@H]([C@@H]([C@H]1N)O[C@@H]2[C...</td>\n",
       "      <td>9.0</td>\n",
       "    </tr>\n",
       "  </tbody>\n",
       "</table>\n",
       "</div>"
      ],
      "text/plain": [
       "       Drug                                             Smiles  pKa\n",
       "0  neomycin  C1[C@H]([C@@H]([C@H]([C@@H]([C@H]1N)O[C@@H]2[C...  9.0"
      ]
     },
     "execution_count": 85,
     "metadata": {},
     "output_type": "execute_result"
    }
   ],
   "source": [
    "# преведем все к общему виду для облегчения объединения\n",
    "df_drug = df_drug.rename(columns={'drug': 'Drug', 'smiles': 'Smiles'})\n",
    "df_drug.head(1)"
   ]
  },
  {
   "cell_type": "code",
   "execution_count": 90,
   "metadata": {},
   "outputs": [
    {
     "data": {
      "text/plain": [
       "(47,)"
      ]
     },
     "execution_count": 90,
     "metadata": {},
     "output_type": "execute_result"
    }
   ],
   "source": [
    "df_drug.Drug.unique()"
   ]
  },
  {
   "attachments": {},
   "cell_type": "markdown",
   "metadata": {},
   "source": [
    "## Adding descriptors"
   ]
  },
  {
   "cell_type": "code",
   "execution_count": 93,
   "metadata": {},
   "outputs": [],
   "source": [
    "def add_desc_to_df(df: pd.DataFrame, desc: list):\n",
    "    calc = MoleculeDescriptors.MolecularDescriptorCalculator(desc)\n",
    "    desc_df = pd.DataFrame(\n",
    "        df['Smiles'].map(lambda x: calc.CalcDescriptors(Chem.MolFromSmiles(x))).to_list()\n",
    "    )\n",
    "    desc_df.columns = desc\n",
    "    return df.join(desc_df)\n",
    "\n",
    "\n",
    "def fill_nan_desc(df: pd.DataFrame, non_desc_cols: list = None):\n",
    "    '''\n",
    "    Fill NaN with calculated descriptors\n",
    "\n",
    "    Parameters\n",
    "    ----------\n",
    "    df: DataFrame\n",
    "\n",
    "    non_desc_cols: columns from df cant be calculated via rdkit \n",
    "    '''\n",
    "    cols_to_drop = ['Smiles']\n",
    "    cols_to_drop.extend(non_desc_cols)\n",
    "    for col in df.drop(columns=cols_to_drop).columns:\n",
    "        col_type = df[col].dtype\n",
    "        calc = MoleculeDescriptors.MolecularDescriptorCalculator([col])\n",
    "        mask = df[col].isna()\n",
    "        df.loc[mask, col] = df.loc[mask, 'smiles'].map(\n",
    "            lambda x: calc.CalcDescriptors(Chem.MolFromSmiles(x))[0]\n",
    "        ).astype(col_type)\n",
    "    return df"
   ]
  },
  {
   "cell_type": "code",
   "execution_count": 94,
   "metadata": {},
   "outputs": [],
   "source": [
    "descs_to_add = [\n",
    "    'LabuteASA', 'NumHDonors', 'NumHAcceptors', \n",
    "    'MolLogP', 'Solubility', 'MolWt', 'Chi0'\n",
    "]\n",
    "df_drug = add_desc_to_df(df_drug, descs_to_add)"
   ]
  },
  {
   "cell_type": "code",
   "execution_count": 96,
   "metadata": {},
   "outputs": [
    {
     "name": "stdout",
     "output_type": "stream",
     "text": [
      "<class 'pandas.core.frame.DataFrame'>\n",
      "RangeIndex: 47 entries, 0 to 46\n",
      "Data columns (total 10 columns):\n",
      " #   Column         Non-Null Count  Dtype  \n",
      "---  ------         --------------  -----  \n",
      " 0   Drug           47 non-null     object \n",
      " 1   Smiles         47 non-null     object \n",
      " 2   pKa            47 non-null     float64\n",
      " 3   LabuteASA      47 non-null     float64\n",
      " 4   NumHDonors     47 non-null     int64  \n",
      " 5   NumHAcceptors  47 non-null     int64  \n",
      " 6   MolLogP        47 non-null     float64\n",
      " 7   Solubility     47 non-null     int64  \n",
      " 8   MolWt          47 non-null     float64\n",
      " 9   Chi0           47 non-null     float64\n",
      "dtypes: float64(5), int64(3), object(2)\n",
      "memory usage: 3.8+ KB\n"
     ]
    }
   ],
   "source": [
    "df_drug.info()"
   ]
  },
  {
   "cell_type": "markdown",
   "metadata": {},
   "source": [
    "# Работа с бактериями"
   ]
  },
  {
   "cell_type": "markdown",
   "metadata": {},
   "source": [
    "Есть минимальный и максимальное значение времени инкубации,\n",
    "оставим только среднее и добавим размах"
   ]
  },
  {
   "cell_type": "code",
   "execution_count": 4,
   "metadata": {},
   "outputs": [
    {
     "data": {
      "text/plain": [
       "Index(['Bacteria', 'kingdom', 'subkingdom', 'clade', 'phylum', 'class',\n",
       "       'order', 'family', 'genus', 'species', 'gram', 'min_Incub_period, h',\n",
       "       'avg_Incub_period, h', 'max_Incub_period, h', 'growth_temp, C',\n",
       "       'biosafety_level', 'isolated_from'],\n",
       "      dtype='object')"
      ]
     },
     "execution_count": 4,
     "metadata": {},
     "output_type": "execute_result"
    }
   ],
   "source": [
    "df_bac.columns"
   ]
  },
  {
   "cell_type": "code",
   "execution_count": 5,
   "metadata": {},
   "outputs": [],
   "source": [
    "df_bac['min_max_Inceub_period'] = df_bac['max_Incub_period, h'] - df_bac['min_Incub_period, h']"
   ]
  },
  {
   "cell_type": "code",
   "execution_count": 7,
   "metadata": {},
   "outputs": [
    {
     "data": {
      "text/plain": [
       "<Axes: >"
      ]
     },
     "execution_count": 7,
     "metadata": {},
     "output_type": "execute_result"
    },
    {
     "data": {
      "image/png": "[encoded data removed]",
      "text/plain": [
       "<Figure size 640x480 with 2 Axes>"
      ]
     },
     "metadata": {},
     "output_type": "display_data"
    }
   ],
   "source": [
    "sns.heatmap(df_bac.corr(numeric_only=True), annot=True)"
   ]
  },
  {
   "cell_type": "markdown",
   "metadata": {},
   "source": [
    "# Мерджим все бд в одну"
   ]
  },
  {
   "cell_type": "code",
   "execution_count": 72,
   "metadata": {},
   "outputs": [],
   "source": [
    "data_with_bac = pd.merge(df_data, df_bac, left_on='Bacteria', right_on='Bacteria', how='outer')"
   ]
  },
  {
   "cell_type": "code",
   "execution_count": 73,
   "metadata": {},
   "outputs": [],
   "source": [
    "df = pd.merge(data_with_bac, df_drug, left_on='Drug', right_on='Drug', how='outer')"
   ]
  },
  {
   "cell_type": "code",
   "execution_count": 75,
   "metadata": {},
   "outputs": [
    {
     "data": {
      "text/plain": [
       "Index(['Bacteria', 'NP_Synthesis', 'Drug', 'Drug_class_drug_bank', 'Drug_dose',\n",
       "       'NP_concentration', 'NP size_min', 'NP size_max', 'NP size_avg',\n",
       "       'shape', 'method', 'ZOI_drug', 'ZOI_NP', 'ZOI_drug_NP',\n",
       "       'fold_increase_in_antibacterial_activity (%)', 'MDR_check', 'kingdom',\n",
       "       'subkingdom', 'clade', 'phylum', 'class', 'order', 'family', 'genus',\n",
       "       'species', 'gram', 'min_Incub_period, h', 'avg_Incub_period, h',\n",
       "       'max_Incub_period, h', 'growth_temp, C', 'biosafety_level',\n",
       "       'isolated_from', 'Smiles', 'LabuteASA', 'NumHDonors', 'NumHAcceptors',\n",
       "       'MolLogP', 'Solubility', 'MolWt', 'Chi0'],\n",
       "      dtype='object')"
      ]
     },
     "execution_count": 75,
     "metadata": {},
     "output_type": "execute_result"
    }
   ],
   "source": [
    "df.columns"
   ]
  },
  {
   "cell_type": "code",
   "execution_count": null,
   "metadata": {},
   "outputs": [],
   "source": []
  }
 ],
 "metadata": {
  "kernelspec": {
   "display_name": "ml",
   "language": "python",
   "name": "python3"
  },
  "language_info": {
   "codemirror_mode": {
    "name": "ipython",
    "version": 3
   },
   "file_extension": ".py",
   "mimetype": "text/x-python",
   "name": "python",
   "nbconvert_exporter": "python",
   "pygments_lexer": "ipython3",
   "version": "3.10.12"
  },
  "orig_nbformat": 4,
  "vscode": {
   "interpreter": {
    "hash": "d3b836c7ef044d43059c7846a59355f0b4cbb71a588c1f9492eaa9138c6b55f1"
   }
  }
 },
 "nbformat": 4,
 "nbformat_minor": 2
}
