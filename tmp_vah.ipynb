{
 "cells": [
  {
   "cell_type": "code",
   "execution_count": 14,
   "metadata": {},
   "outputs": [],
   "source": [
    "import pandas as pd\n",
    "import seaborn as sns"
   ]
  },
  {
   "cell_type": "code",
   "execution_count": 2,
   "metadata": {},
   "outputs": [],
   "source": [
    "df_data = pd.read_csv('data.csv', index_col=0).drop(columns=['Unnamed: 0'])\n",
    "df_bac = pd.read_csv('bacterial_descriptors.csv', index_col=0)\n",
    "df_drug = pd.read_csv('drug_descriptors.csv', index_col=0)"
   ]
  },
  {
   "cell_type": "code",
   "execution_count": 3,
   "metadata": {},
   "outputs": [
    {
     "data": {
      "text/html": [
       "<div>\n",
       "<style scoped>\n",
       "    .dataframe tbody tr th:only-of-type {\n",
       "        vertical-align: middle;\n",
       "    }\n",
       "\n",
       "    .dataframe tbody tr th {\n",
       "        vertical-align: top;\n",
       "    }\n",
       "\n",
       "    .dataframe thead th {\n",
       "        text-align: right;\n",
       "    }\n",
       "</style>\n",
       "<table border=\"1\" class=\"dataframe\">\n",
       "  <thead>\n",
       "    <tr style=\"text-align: right;\">\n",
       "      <th></th>\n",
       "      <th>Bacteria</th>\n",
       "      <th>NP_Synthesis</th>\n",
       "      <th>Drug</th>\n",
       "      <th>Drug_class_drug_bank</th>\n",
       "      <th>Drug_dose</th>\n",
       "      <th>NP_concentration</th>\n",
       "      <th>NP size_min</th>\n",
       "      <th>NP size_max</th>\n",
       "      <th>NP size_avg</th>\n",
       "      <th>shape</th>\n",
       "      <th>method</th>\n",
       "      <th>ZOI_drug</th>\n",
       "      <th>ZOI_NP</th>\n",
       "      <th>ZOI_drug_NP</th>\n",
       "      <th>fold_increase_in_antibacterial_activity (%)</th>\n",
       "      <th>MDR_check</th>\n",
       "    </tr>\n",
       "  </thead>\n",
       "  <tbody>\n",
       "    <tr>\n",
       "      <th>0</th>\n",
       "      <td>Escherichia coli</td>\n",
       "      <td>chem_synthesis_reduction_by_D_maltose</td>\n",
       "      <td>Amoxicillin</td>\n",
       "      <td>Lactams</td>\n",
       "      <td>NaN</td>\n",
       "      <td>NaN</td>\n",
       "      <td>4.0</td>\n",
       "      <td>10.0</td>\n",
       "      <td>8.0</td>\n",
       "      <td>spherical</td>\n",
       "      <td>MIC</td>\n",
       "      <td>32+</td>\n",
       "      <td>6.3</td>\n",
       "      <td>32+</td>\n",
       "      <td>NaN</td>\n",
       "      <td>1</td>\n",
       "    </tr>\n",
       "  </tbody>\n",
       "</table>\n",
       "</div>"
      ],
      "text/plain": [
       "           Bacteria                           NP_Synthesis         Drug  \\\n",
       "0  Escherichia coli  chem_synthesis_reduction_by_D_maltose  Amoxicillin   \n",
       "\n",
       "  Drug_class_drug_bank  Drug_dose NP_concentration  NP size_min  NP size_max  \\\n",
       "0              Lactams        NaN              NaN          4.0         10.0   \n",
       "\n",
       "   NP size_avg      shape method ZOI_drug ZOI_NP ZOI_drug_NP  \\\n",
       "0          8.0  spherical    MIC      32+    6.3         32+   \n",
       "\n",
       "   fold_increase_in_antibacterial_activity (%)  MDR_check  \n",
       "0                                          NaN          1  "
      ]
     },
     "execution_count": 3,
     "metadata": {},
     "output_type": "execute_result"
    }
   ],
   "source": [
    "df_data.head(1)"
   ]
  },
  {
   "cell_type": "code",
   "execution_count": null,
   "metadata": {},
   "outputs": [],
   "source": [
    "'''\n",
    "TODO TODO:\n",
    "грамполож True False\n",
    "is_bacteria T|F \n",
    "За-one-hot-encoditь clade phylum class order family genus,, кроме SPECIES\n",
    "выкинуть минимум и максимум\n",
    "проверить тип growth temp\n",
    "\n",
    "'''"
   ]
  },
  {
   "cell_type": "code",
   "execution_count": 4,
   "metadata": {},
   "outputs": [
    {
     "data": {
      "text/html": [
       "<div>\n",
       "<style scoped>\n",
       "    .dataframe tbody tr th:only-of-type {\n",
       "        vertical-align: middle;\n",
       "    }\n",
       "\n",
       "    .dataframe tbody tr th {\n",
       "        vertical-align: top;\n",
       "    }\n",
       "\n",
       "    .dataframe thead th {\n",
       "        text-align: right;\n",
       "    }\n",
       "</style>\n",
       "<table border=\"1\" class=\"dataframe\">\n",
       "  <thead>\n",
       "    <tr style=\"text-align: right;\">\n",
       "      <th></th>\n",
       "      <th>Bacteria</th>\n",
       "      <th>kingdom</th>\n",
       "      <th>subkingdom</th>\n",
       "      <th>clade</th>\n",
       "      <th>phylum</th>\n",
       "      <th>class</th>\n",
       "      <th>order</th>\n",
       "      <th>family</th>\n",
       "      <th>genus</th>\n",
       "      <th>species</th>\n",
       "      <th>gram</th>\n",
       "      <th>min_Incub_period, h</th>\n",
       "      <th>avg_Incub_period, h</th>\n",
       "      <th>max_Incub_period, h</th>\n",
       "      <th>growth_temp, C</th>\n",
       "      <th>biosafety_level</th>\n",
       "      <th>isolated_from</th>\n",
       "    </tr>\n",
       "    <tr>\n",
       "      <th>Tax_id</th>\n",
       "      <th></th>\n",
       "      <th></th>\n",
       "      <th></th>\n",
       "      <th></th>\n",
       "      <th></th>\n",
       "      <th></th>\n",
       "      <th></th>\n",
       "      <th></th>\n",
       "      <th></th>\n",
       "      <th></th>\n",
       "      <th></th>\n",
       "      <th></th>\n",
       "      <th></th>\n",
       "      <th></th>\n",
       "      <th></th>\n",
       "      <th></th>\n",
       "      <th></th>\n",
       "    </tr>\n",
       "  </thead>\n",
       "  <tbody>\n",
       "    <tr>\n",
       "      <th>['470']</th>\n",
       "      <td>Acinetobacter baumannii</td>\n",
       "      <td>Bacteria</td>\n",
       "      <td>NaN</td>\n",
       "      <td>NaN</td>\n",
       "      <td>Pseudomonadota</td>\n",
       "      <td>Gammaproteobacteria</td>\n",
       "      <td>Moraxellales</td>\n",
       "      <td>Moraxellaceae</td>\n",
       "      <td>Acinetobacter</td>\n",
       "      <td>Acinetobacter calcoaceticus/baumannii complex</td>\n",
       "      <td>n</td>\n",
       "      <td>24.0</td>\n",
       "      <td>36.0</td>\n",
       "      <td>48.0</td>\n",
       "      <td>37</td>\n",
       "      <td>2</td>\n",
       "      <td>urine</td>\n",
       "    </tr>\n",
       "  </tbody>\n",
       "</table>\n",
       "</div>"
      ],
      "text/plain": [
       "                        Bacteria   kingdom subkingdom clade          phylum  \\\n",
       "Tax_id                                                                        \n",
       "['470']  Acinetobacter baumannii  Bacteria        NaN   NaN  Pseudomonadota   \n",
       "\n",
       "                       class         order         family          genus  \\\n",
       "Tax_id                                                                     \n",
       "['470']  Gammaproteobacteria  Moraxellales  Moraxellaceae  Acinetobacter   \n",
       "\n",
       "                                               species gram  \\\n",
       "Tax_id                                                        \n",
       "['470']  Acinetobacter calcoaceticus/baumannii complex    n   \n",
       "\n",
       "         min_Incub_period, h  avg_Incub_period, h  max_Incub_period, h  \\\n",
       "Tax_id                                                                   \n",
       "['470']                 24.0                 36.0                 48.0   \n",
       "\n",
       "         growth_temp, C  biosafety_level isolated_from  \n",
       "Tax_id                                                  \n",
       "['470']              37                2         urine  "
      ]
     },
     "execution_count": 4,
     "metadata": {},
     "output_type": "execute_result"
    }
   ],
   "source": [
    "df_bac.head(1)\n",
    "df."
   ]
  },
  {
   "cell_type": "code",
   "execution_count": 16,
   "metadata": {},
   "outputs": [
    {
     "data": {
      "text/plain": [
       "array(['urine', 'lungs', 'food', 'soil', 'mouth', 'blood', 'water', 'ear',\n",
       "       'respiratory tract', 'sputum', 'intestinal tract', 'meat', 'skin',\n",
       "       'nose', 'carious dentine', 'mammary gland', 'wood'], dtype=object)"
      ]
     },
     "execution_count": 16,
     "metadata": {},
     "output_type": "execute_result"
    }
   ],
   "source": [
    "df_bac.isolated_from.unique()"
   ]
  },
  {
   "cell_type": "code",
   "execution_count": 15,
   "metadata": {},
   "outputs": [
    {
     "data": {
      "text/plain": [
       "<Axes: xlabel='biosafety_level', ylabel='Count'>"
      ]
     },
     "execution_count": 15,
     "metadata": {},
     "output_type": "execute_result"
    },
    {
     "data": {
      "image/png": "[encoded data removed]",
      "text/plain": [
       "<Figure size 640x480 with 1 Axes>"
      ]
     },
     "metadata": {},
     "output_type": "display_data"
    }
   ],
   "source": [
    "sns.histplot(df_bac['biosafety_level'])"
   ]
  },
  {
   "cell_type": "code",
   "execution_count": 23,
   "metadata": {},
   "outputs": [
    {
     "data": {
      "text/plain": [
       "array([nan, 'Opisthokonta', 'Terrabacteria group'], dtype=object)"
      ]
     },
     "execution_count": 23,
     "metadata": {},
     "output_type": "execute_result"
    }
   ],
   "source": [
    "df_bac.clade.unique()"
   ]
  },
  {
   "cell_type": "code",
   "execution_count": 22,
   "metadata": {},
   "outputs": [
    {
     "data": {
      "text/html": [
       "<div>\n",
       "<style scoped>\n",
       "    .dataframe tbody tr th:only-of-type {\n",
       "        vertical-align: middle;\n",
       "    }\n",
       "\n",
       "    .dataframe tbody tr th {\n",
       "        vertical-align: top;\n",
       "    }\n",
       "\n",
       "    .dataframe thead th {\n",
       "        text-align: right;\n",
       "    }\n",
       "</style>\n",
       "<table border=\"1\" class=\"dataframe\">\n",
       "  <thead>\n",
       "    <tr style=\"text-align: right;\">\n",
       "      <th></th>\n",
       "      <th>drug</th>\n",
       "      <th>chemID</th>\n",
       "      <th>prefered_name</th>\n",
       "      <th>smiles</th>\n",
       "    </tr>\n",
       "  </thead>\n",
       "  <tbody>\n",
       "    <tr>\n",
       "      <th>0</th>\n",
       "      <td>Amoxicillin</td>\n",
       "      <td>CHEMBL1082</td>\n",
       "      <td>AMOXICILLIN</td>\n",
       "      <td>CC1(C)S[C@@H]2[C@H](NC(=O)[C@H](N)c3ccc(O)cc3)...</td>\n",
       "    </tr>\n",
       "  </tbody>\n",
       "</table>\n",
       "</div>"
      ],
      "text/plain": [
       "          drug      chemID prefered_name  \\\n",
       "0  Amoxicillin  CHEMBL1082   AMOXICILLIN   \n",
       "\n",
       "                                              smiles  \n",
       "0  CC1(C)S[C@@H]2[C@H](NC(=O)[C@H](N)c3ccc(O)cc3)...  "
      ]
     },
     "execution_count": 22,
     "metadata": {},
     "output_type": "execute_result"
    }
   ],
   "source": [
    "df_drug.head(1)"
   ]
  },
  {
   "cell_type": "code",
   "execution_count": null,
   "metadata": {},
   "outputs": [],
   "source": [
    "df_drug.ap"
   ]
  },
  {
   "cell_type": "code",
   "execution_count": 7,
   "metadata": {},
   "outputs": [],
   "source": [
    "data_with_bac = pd.merge(df_data, df_bac, left_on='Bacteria', right_on='Bacteria', how='outer')"
   ]
  },
  {
   "cell_type": "code",
   "execution_count": 8,
   "metadata": {},
   "outputs": [
    {
     "data": {
      "text/html": [
       "<div>\n",
       "<style scoped>\n",
       "    .dataframe tbody tr th:only-of-type {\n",
       "        vertical-align: middle;\n",
       "    }\n",
       "\n",
       "    .dataframe tbody tr th {\n",
       "        vertical-align: top;\n",
       "    }\n",
       "\n",
       "    .dataframe thead th {\n",
       "        text-align: right;\n",
       "    }\n",
       "</style>\n",
       "<table border=\"1\" class=\"dataframe\">\n",
       "  <thead>\n",
       "    <tr style=\"text-align: right;\">\n",
       "      <th></th>\n",
       "      <th>Bacteria</th>\n",
       "      <th>NP_Synthesis</th>\n",
       "      <th>Drug</th>\n",
       "      <th>Drug_class_drug_bank</th>\n",
       "      <th>Drug_dose</th>\n",
       "      <th>NP_concentration</th>\n",
       "      <th>NP size_min</th>\n",
       "      <th>NP size_max</th>\n",
       "      <th>NP size_avg</th>\n",
       "      <th>shape</th>\n",
       "      <th>...</th>\n",
       "      <th>family</th>\n",
       "      <th>genus</th>\n",
       "      <th>species</th>\n",
       "      <th>gram</th>\n",
       "      <th>min_Incub_period, h</th>\n",
       "      <th>avg_Incub_period, h</th>\n",
       "      <th>max_Incub_period, h</th>\n",
       "      <th>growth_temp, C</th>\n",
       "      <th>biosafety_level</th>\n",
       "      <th>isolated_from</th>\n",
       "    </tr>\n",
       "  </thead>\n",
       "  <tbody>\n",
       "    <tr>\n",
       "      <th>0</th>\n",
       "      <td>Escherichia coli</td>\n",
       "      <td>chem_synthesis_reduction_by_D_maltose</td>\n",
       "      <td>Amoxicillin</td>\n",
       "      <td>Lactams</td>\n",
       "      <td>NaN</td>\n",
       "      <td>NaN</td>\n",
       "      <td>4.0</td>\n",
       "      <td>10.0</td>\n",
       "      <td>8.0</td>\n",
       "      <td>spherical</td>\n",
       "      <td>...</td>\n",
       "      <td>Enterobacteriaceae</td>\n",
       "      <td>Escherichia</td>\n",
       "      <td>Escherichia coli</td>\n",
       "      <td>n</td>\n",
       "      <td>48.0</td>\n",
       "      <td>84.0</td>\n",
       "      <td>120.0</td>\n",
       "      <td>37.0</td>\n",
       "      <td>2.0</td>\n",
       "      <td>urine</td>\n",
       "    </tr>\n",
       "  </tbody>\n",
       "</table>\n",
       "<p>1 rows × 32 columns</p>\n",
       "</div>"
      ],
      "text/plain": [
       "           Bacteria                           NP_Synthesis         Drug  \\\n",
       "0  Escherichia coli  chem_synthesis_reduction_by_D_maltose  Amoxicillin   \n",
       "\n",
       "  Drug_class_drug_bank  Drug_dose NP_concentration  NP size_min  NP size_max  \\\n",
       "0              Lactams        NaN              NaN          4.0         10.0   \n",
       "\n",
       "   NP size_avg      shape  ...              family        genus  \\\n",
       "0          8.0  spherical  ...  Enterobacteriaceae  Escherichia   \n",
       "\n",
       "            species gram  min_Incub_period, h  avg_Incub_period, h  \\\n",
       "0  Escherichia coli    n                 48.0                 84.0   \n",
       "\n",
       "  max_Incub_period, h growth_temp, C biosafety_level isolated_from  \n",
       "0               120.0           37.0             2.0         urine  \n",
       "\n",
       "[1 rows x 32 columns]"
      ]
     },
     "execution_count": 8,
     "metadata": {},
     "output_type": "execute_result"
    }
   ],
   "source": [
    "data_with_bac.head(1)"
   ]
  },
  {
   "cell_type": "code",
   "execution_count": 12,
   "metadata": {},
   "outputs": [
    {
     "data": {
      "text/plain": [
       "array(['Amoxicillin', 'Penicillin', 'Azithromycin', 'Cefuroxime',\n",
       "       'Co-trimoxazole', 'Chloramphenicol', 'Cefotaxime', 'Neomycin',\n",
       "       'Fosfomycin', 'Gentamicin', 'Ampicillin', 'Ceftazidime',\n",
       "       'cefazolin', 'Cefixime ', 'Tetracycline', 'Amikacin',\n",
       "       'Carbenicillin ', 'Streptomycin', 'Nalidixic acid', 'mupirocin',\n",
       "       'Nitrofurantoin', 'Imipenem', 'Oxytetracycline', 'Vancomycin',\n",
       "       'Oxacillin', 'Faropenem', 'Trimethoprim', 'Kanamycin',\n",
       "       'Erythromycin', 'Cefepime', 'Ceftriaxone', 'Piperacillin',\n",
       "       'Rifampicin', 'Cephalexin ', 'ciprofloxacin', 'Doxycycline',\n",
       "       'Clindamycin ', 'Polymyxin', 'colistin ', 'Levofloxacin',\n",
       "       'Biapenem', 'Aztreonam', nan, 'Fusidic acid ', 'Ciprofloxacin',\n",
       "       'Amphotericin B'], dtype=object)"
      ]
     },
     "execution_count": 12,
     "metadata": {},
     "output_type": "execute_result"
    }
   ],
   "source": [
    "data_with_bac.Drug.unique()"
   ]
  },
  {
   "cell_type": "code",
   "execution_count": 20,
   "metadata": {},
   "outputs": [
    {
     "data": {
      "text/plain": [
       "{'Amikacin',\n",
       " 'Amoxicillin',\n",
       " 'Amphotericin B',\n",
       " 'Ampicillin',\n",
       " 'Azithromycin',\n",
       " 'Aztreonam',\n",
       " 'Biapenem',\n",
       " 'Carbenicillin ',\n",
       " 'Cefepime',\n",
       " 'Cefixime ',\n",
       " 'Cefotaxime',\n",
       " 'Ceftazidime',\n",
       " 'Ceftriaxone',\n",
       " 'Cefuroxime',\n",
       " 'Cephalexin ',\n",
       " 'Chloramphenicol',\n",
       " 'Ciprofloxacin',\n",
       " 'Clindamycin ',\n",
       " 'Co-trimoxazole',\n",
       " 'Doxycycline',\n",
       " 'Erythromycin',\n",
       " 'Faropenem',\n",
       " 'Fosfomycin',\n",
       " 'Fusidic acid ',\n",
       " 'Gentamicin',\n",
       " 'Imipenem',\n",
       " 'Kanamycin',\n",
       " 'Levofloxacin',\n",
       " 'Nalidixic acid',\n",
       " 'Nitrofurantoin',\n",
       " 'Oxacillin',\n",
       " 'Oxytetracycline',\n",
       " 'Penicillin',\n",
       " 'Piperacillin',\n",
       " 'Polymyxin',\n",
       " 'Rifampicin',\n",
       " 'Streptomycin',\n",
       " 'Tetracycline',\n",
       " 'Trimethoprim',\n",
       " 'Vancomycin',\n",
       " 'cefazolin',\n",
       " 'ciprofloxacin',\n",
       " 'colistin ',\n",
       " 'mupirocin'}"
      ]
     },
     "execution_count": 20,
     "metadata": {},
     "output_type": "execute_result"
    }
   ],
   "source": [
    "drugs_in_drugs = set(df_drug.drug.unique())\n",
    "drugs_in_drugs"
   ]
  },
  {
   "cell_type": "code",
   "execution_count": 21,
   "metadata": {},
   "outputs": [
    {
     "data": {
      "text/plain": [
       "{'Amikacin',\n",
       " 'Amoxicillin',\n",
       " 'Amphotericin B',\n",
       " 'Ampicillin',\n",
       " 'Azithromycin',\n",
       " 'Aztreonam',\n",
       " 'Biapenem',\n",
       " 'Carbenicillin ',\n",
       " 'Cefepime',\n",
       " 'Cefixime ',\n",
       " 'Cefotaxime',\n",
       " 'Ceftazidime',\n",
       " 'Ceftriaxone',\n",
       " 'Cefuroxime',\n",
       " 'Cephalexin ',\n",
       " 'Chloramphenicol',\n",
       " 'Ciprofloxacin',\n",
       " 'Clindamycin ',\n",
       " 'Co-trimoxazole',\n",
       " 'Doxycycline',\n",
       " 'Erythromycin',\n",
       " 'Faropenem',\n",
       " 'Fosfomycin',\n",
       " 'Fusidic acid ',\n",
       " 'Gentamicin',\n",
       " 'Imipenem',\n",
       " 'Kanamycin',\n",
       " 'Levofloxacin',\n",
       " 'Nalidixic acid',\n",
       " 'Neomycin',\n",
       " 'Nitrofurantoin',\n",
       " 'Oxacillin',\n",
       " 'Oxytetracycline',\n",
       " 'Penicillin',\n",
       " 'Piperacillin',\n",
       " 'Polymyxin',\n",
       " 'Rifampicin',\n",
       " 'Streptomycin',\n",
       " 'Tetracycline',\n",
       " 'Trimethoprim',\n",
       " 'Vancomycin',\n",
       " 'cefazolin',\n",
       " 'ciprofloxacin',\n",
       " 'colistin ',\n",
       " 'mupirocin',\n",
       " nan}"
      ]
     },
     "execution_count": 21,
     "metadata": {},
     "output_type": "execute_result"
    }
   ],
   "source": [
    "drugs_in_data = set(data_with_bac.Drug.unique())\n",
    "drugs_in_data"
   ]
  },
  {
   "cell_type": "code",
   "execution_count": 19,
   "metadata": {},
   "outputs": [
    {
     "data": {
      "text/plain": [
       "{'Neomycin', nan}"
      ]
     },
     "execution_count": 19,
     "metadata": {},
     "output_type": "execute_result"
    }
   ],
   "source": [
    "drugs_in_data.difference(drugs_in_drugs) # need to add"
   ]
  },
  {
   "cell_type": "code",
   "execution_count": null,
   "metadata": {},
   "outputs": [],
   "source": []
  },
  {
   "cell_type": "code",
   "execution_count": null,
   "metadata": {},
   "outputs": [],
   "source": [
    "{}"
   ]
  },
  {
   "cell_type": "code",
   "execution_count": null,
   "metadata": {},
   "outputs": [],
   "source": [
    "df_drug.append()"
   ]
  },
  {
   "cell_type": "code",
   "execution_count": null,
   "metadata": {},
   "outputs": [],
   "source": [
    "df = pd.merge(data_with_bac, df_drug, left='Drug')"
   ]
  }
 ],
 "metadata": {
  "kernelspec": {
   "display_name": "ml",
   "language": "python",
   "name": "python3"
  },
  "language_info": {
   "codemirror_mode": {
    "name": "ipython",
    "version": 3
   },
   "file_extension": ".py",
   "mimetype": "text/x-python",
   "name": "python",
   "nbconvert_exporter": "python",
   "pygments_lexer": "ipython3",
   "version": "3.8.16"
  },
  "orig_nbformat": 4,
  "vscode": {
   "interpreter": {
    "hash": "d3b836c7ef044d43059c7846a59355f0b4cbb71a588c1f9492eaa9138c6b55f1"
   }
  }
 },
 "nbformat": 4,
 "nbformat_minor": 2
}
